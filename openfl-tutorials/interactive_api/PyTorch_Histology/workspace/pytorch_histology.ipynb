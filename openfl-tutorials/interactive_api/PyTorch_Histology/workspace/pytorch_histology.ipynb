{
 "cells": [
  {
   "cell_type": "markdown",
   "id": "26fdd9ed",
   "metadata": {},
   "source": [
    "# Federated PyTorch Histology Tutorial"
   ]
  },
  {
   "cell_type": "code",
   "execution_count": 1,
   "id": "895288d0",
   "metadata": {},
   "outputs": [
    {
     "name": "stdout",
     "output_type": "stream",
     "text": [
      "Requirement already satisfied: torchvision==0.10.0 in /home/itrushkin/.virtualenvs/openfl/lib/python3.8/site-packages (0.10.0)\n",
      "Requirement already satisfied: numpy in /home/itrushkin/.virtualenvs/openfl/lib/python3.8/site-packages (from torchvision==0.10.0) (1.19.5)\n",
      "Requirement already satisfied: pillow>=5.3.0 in /home/itrushkin/.virtualenvs/openfl/lib/python3.8/site-packages (from torchvision==0.10.0) (9.0.0)\n",
      "Requirement already satisfied: torch==1.9.0 in /home/itrushkin/.virtualenvs/openfl/lib/python3.8/site-packages (from torchvision==0.10.0) (1.9.0)\n",
      "Requirement already satisfied: typing-extensions in /home/itrushkin/.virtualenvs/openfl/lib/python3.8/site-packages (from torch==1.9.0->torchvision==0.10.0) (3.10.0.2)\n",
      "\u001b[33mWARNING: You are using pip version 21.2.4; however, version 22.0.3 is available.\n",
      "You should consider upgrading via the '/home/itrushkin/.virtualenvs/openfl/bin/python -m pip install --upgrade pip' command.\u001b[0m\n"
     ]
    }
   ],
   "source": [
    "!pip install torchvision==0.10.0"
   ]
  },
  {
   "cell_type": "markdown",
   "id": "246f9c98",
   "metadata": {},
   "source": [
    "## Connect to the Federation"
   ]
  },
  {
   "cell_type": "code",
   "execution_count": 2,
   "id": "d657e463",
   "metadata": {},
   "outputs": [],
   "source": [
    "# Create a federation\n",
    "from openfl.interface.interactive_api.federation import Federation\n",
    "\n",
    "# please use the same identificator that was used in signed certificate\n",
    "client_id = 'api'\n",
    "cert_dir = 'cert'\n",
    "director_node_fqdn = 'nnlicv431.inn.intel.com'\n",
    "# 1) Run with API layer - Director mTLS \n",
    "# If the user wants to enable mTLS their must provide CA root chain, and signed key pair to the federation interface\n",
    "# cert_chain = f'{cert_dir}/root_ca.crt'\n",
    "# api_certificate = f'{cert_dir}/{client_id}.crt'\n",
    "# api_private_key = f'{cert_dir}/{client_id}.key'\n",
    "\n",
    "# federation = Federation(client_id=client_id, director_node_fqdn=director_node_fqdn, director_port='50051',\n",
    "#                        cert_chain=cert_chain, api_cert=api_certificate, api_private_key=api_private_key)\n",
    "\n",
    "# --------------------------------------------------------------------------------------------------------------------\n",
    "\n",
    "# 2) Run with TLS disabled (trusted environment)\n",
    "# Federation can also determine local fqdn automatically\n",
    "federation = Federation(client_id=client_id, director_node_fqdn=director_node_fqdn, director_port='50053', tls=False)\n"
   ]
  },
  {
   "cell_type": "code",
   "execution_count": 3,
   "id": "1abebd90",
   "metadata": {},
   "outputs": [
    {
     "data": {
      "text/plain": [
       "['1']"
      ]
     },
     "execution_count": 3,
     "metadata": {},
     "output_type": "execute_result"
    }
   ],
   "source": [
    "federation.target_shape"
   ]
  },
  {
   "cell_type": "code",
   "execution_count": 4,
   "id": "47dcfab3",
   "metadata": {},
   "outputs": [
    {
     "data": {
      "text/plain": [
       "{'env_4': {'shard_info': node_info {\n",
       "    name: \"env_4\"\n",
       "  }\n",
       "  shard_description: \"Histology dataset, shard number 4 out of 8\"\n",
       "  sample_shape: \"150\"\n",
       "  sample_shape: \"150\"\n",
       "  target_shape: \"1\",\n",
       "  'is_online': True,\n",
       "  'is_experiment_running': False,\n",
       "  'last_updated': '2022-02-15 13:29:44',\n",
       "  'current_time': '2022-02-15 13:29:46',\n",
       "  'valid_duration': seconds: 120,\n",
       "  'experiment_name': 'ExperimentName Mock'},\n",
       " 'env_6': {'shard_info': node_info {\n",
       "    name: \"env_6\"\n",
       "  }\n",
       "  shard_description: \"Histology dataset, shard number 6 out of 8\"\n",
       "  sample_shape: \"150\"\n",
       "  sample_shape: \"150\"\n",
       "  target_shape: \"1\",\n",
       "  'is_online': True,\n",
       "  'is_experiment_running': False,\n",
       "  'last_updated': '2022-02-15 13:29:32',\n",
       "  'current_time': '2022-02-15 13:29:46',\n",
       "  'valid_duration': seconds: 120,\n",
       "  'experiment_name': 'ExperimentName Mock'},\n",
       " 'env_5': {'shard_info': node_info {\n",
       "    name: \"env_5\"\n",
       "  }\n",
       "  shard_description: \"Histology dataset, shard number 5 out of 8\"\n",
       "  sample_shape: \"150\"\n",
       "  sample_shape: \"150\"\n",
       "  target_shape: \"1\",\n",
       "  'is_online': True,\n",
       "  'is_experiment_running': False,\n",
       "  'last_updated': '2022-02-15 13:29:34',\n",
       "  'current_time': '2022-02-15 13:29:46',\n",
       "  'valid_duration': seconds: 120,\n",
       "  'experiment_name': 'ExperimentName Mock'},\n",
       " 'env_8': {'shard_info': node_info {\n",
       "    name: \"env_8\"\n",
       "  }\n",
       "  shard_description: \"Histology dataset, shard number 8 out of 8\"\n",
       "  sample_shape: \"150\"\n",
       "  sample_shape: \"150\"\n",
       "  target_shape: \"1\",\n",
       "  'is_online': True,\n",
       "  'is_experiment_running': False,\n",
       "  'last_updated': '2022-02-15 13:29:37',\n",
       "  'current_time': '2022-02-15 13:29:46',\n",
       "  'valid_duration': seconds: 120,\n",
       "  'experiment_name': 'ExperimentName Mock'},\n",
       " 'env_7': {'shard_info': node_info {\n",
       "    name: \"env_7\"\n",
       "  }\n",
       "  shard_description: \"Histology dataset, shard number 7 out of 8\"\n",
       "  sample_shape: \"150\"\n",
       "  sample_shape: \"150\"\n",
       "  target_shape: \"1\",\n",
       "  'is_online': True,\n",
       "  'is_experiment_running': False,\n",
       "  'last_updated': '2022-02-15 13:29:37',\n",
       "  'current_time': '2022-02-15 13:29:46',\n",
       "  'valid_duration': seconds: 120,\n",
       "  'experiment_name': 'ExperimentName Mock'},\n",
       " 'env_1': {'shard_info': node_info {\n",
       "    name: \"env_1\"\n",
       "  }\n",
       "  shard_description: \"Histology dataset, shard number 1 out of 8\"\n",
       "  sample_shape: \"150\"\n",
       "  sample_shape: \"150\"\n",
       "  target_shape: \"1\",\n",
       "  'is_online': True,\n",
       "  'is_experiment_running': False,\n",
       "  'last_updated': '2022-02-15 13:29:34',\n",
       "  'current_time': '2022-02-15 13:29:46',\n",
       "  'valid_duration': seconds: 120,\n",
       "  'experiment_name': 'ExperimentName Mock'},\n",
       " 'env_3': {'shard_info': node_info {\n",
       "    name: \"env_3\"\n",
       "  }\n",
       "  shard_description: \"Histology dataset, shard number 3 out of 8\"\n",
       "  sample_shape: \"150\"\n",
       "  sample_shape: \"150\"\n",
       "  target_shape: \"1\",\n",
       "  'is_online': True,\n",
       "  'is_experiment_running': False,\n",
       "  'last_updated': '2022-02-15 13:29:38',\n",
       "  'current_time': '2022-02-15 13:29:46',\n",
       "  'valid_duration': seconds: 120,\n",
       "  'experiment_name': 'ExperimentName Mock'},\n",
       " 'env_2': {'shard_info': node_info {\n",
       "    name: \"env_2\"\n",
       "  }\n",
       "  shard_description: \"Histology dataset, shard number 2 out of 8\"\n",
       "  sample_shape: \"150\"\n",
       "  sample_shape: \"150\"\n",
       "  target_shape: \"1\",\n",
       "  'is_online': True,\n",
       "  'is_experiment_running': False,\n",
       "  'last_updated': '2022-02-15 13:29:34',\n",
       "  'current_time': '2022-02-15 13:29:46',\n",
       "  'valid_duration': seconds: 120,\n",
       "  'experiment_name': 'ExperimentName Mock'}}"
      ]
     },
     "execution_count": 4,
     "metadata": {},
     "output_type": "execute_result"
    }
   ],
   "source": [
    "shard_registry = federation.get_shard_registry()\n",
    "shard_registry"
   ]
  },
  {
   "cell_type": "code",
   "execution_count": 5,
   "id": "a2a6c237",
   "metadata": {},
   "outputs": [],
   "source": [
    "# First, request a dummy_shard_desc that holds information about the federated dataset \n",
    "dummy_shard_desc = federation.get_dummy_shard_descriptor(size=10)\n",
    "sample, target = dummy_shard_desc.get_dataset('train')[0]"
   ]
  },
  {
   "cell_type": "markdown",
   "id": "cc0dbdbd",
   "metadata": {},
   "source": [
    "## Creating a FL experiment using Interactive API"
   ]
  },
  {
   "cell_type": "code",
   "execution_count": 6,
   "id": "fc88700a",
   "metadata": {},
   "outputs": [
    {
     "name": "stderr",
     "output_type": "stream",
     "text": [
      "2022-02-15 13:29:47.543170: W tensorflow/stream_executor/platform/default/dso_loader.cc:64] Could not load dynamic library 'libcudart.so.11.0'; dlerror: libcudart.so.11.0: cannot open shared object file: No such file or directory\n",
      "2022-02-15 13:29:47.543194: I tensorflow/stream_executor/cuda/cudart_stub.cc:29] Ignore above cudart dlerror if you do not have a GPU set up on your machine.\n"
     ]
    }
   ],
   "source": [
    "from openfl.interface.interactive_api.experiment import TaskInterface, DataInterface, ModelInterface, FLExperiment"
   ]
  },
  {
   "cell_type": "markdown",
   "id": "b0979470",
   "metadata": {},
   "source": [
    "### Register dataset"
   ]
  },
  {
   "cell_type": "code",
   "execution_count": 7,
   "id": "7dda1680",
   "metadata": {},
   "outputs": [],
   "source": [
    "import torchvision\n",
    "from torchvision import transforms as T\n",
    "\n",
    "normalize = T.Normalize(mean=[0.485, 0.456, 0.406],\n",
    "                                 std=[0.229, 0.224, 0.225])\n",
    "\n",
    "augmentation = T.RandomApply(\n",
    "    [T.RandomHorizontalFlip(),\n",
    "     T.RandomRotation(10),\n",
    "     T.RandomResizedCrop(64)], \n",
    "    p=.8\n",
    ")\n",
    "\n",
    "training_transform = T.ToTensor()\n",
    "\n",
    "valid_transform = T.ToTensor()\n"
   ]
  },
  {
   "cell_type": "code",
   "execution_count": 8,
   "id": "0314d5bf",
   "metadata": {},
   "outputs": [],
   "source": [
    "from torch.utils.data import Dataset\n",
    "\n",
    "\n",
    "class TransformedDataset(Dataset):\n",
    "    \"\"\"Image Person ReID Dataset.\"\"\"\n",
    "\n",
    "    def __init__(self, dataset, transform=None, target_transform=None):\n",
    "        \"\"\"Initialize Dataset.\"\"\"\n",
    "        self.dataset = dataset\n",
    "        self.transform = transform\n",
    "        self.target_transform = target_transform\n",
    "\n",
    "    def __len__(self):\n",
    "        \"\"\"Length of dataset.\"\"\"\n",
    "        return len(self.dataset)\n",
    "\n",
    "    def __getitem__(self, index):\n",
    "        img, label = self.dataset[index]\n",
    "        label = self.target_transform(label) if self.target_transform else label\n",
    "        img = self.transform(img) if self.transform else img\n",
    "        return img, label\n"
   ]
  },
  {
   "cell_type": "code",
   "execution_count": 9,
   "id": "01369e3b",
   "metadata": {},
   "outputs": [],
   "source": [
    "class HistologyDataset(DataInterface):\n",
    "    def __init__(self, **kwargs):\n",
    "        self.kwargs = kwargs\n",
    "    \n",
    "    @property\n",
    "    def shard_descriptor(self):\n",
    "        return self._shard_descriptor\n",
    "        \n",
    "    @shard_descriptor.setter\n",
    "    def shard_descriptor(self, shard_descriptor):\n",
    "        \"\"\"\n",
    "        Describe per-collaborator procedures or sharding.\n",
    "\n",
    "        This method will be called during a collaborator initialization.\n",
    "        Local shard_descriptor  will be set by Envoy.\n",
    "        \"\"\"\n",
    "        self._shard_descriptor = shard_descriptor\n",
    "        \n",
    "        self.train_set = TransformedDataset(\n",
    "            self._shard_descriptor.get_dataset('train'),\n",
    "            transform=training_transform\n",
    "        )\n",
    "        self.valid_set = TransformedDataset(\n",
    "            self._shard_descriptor.get_dataset('val'),\n",
    "            transform=valid_transform\n",
    "        )\n",
    "        \n",
    "    def get_train_loader(self, **kwargs):\n",
    "        \"\"\"\n",
    "        Output of this method will be provided to tasks with optimizer in contract\n",
    "        \"\"\"\n",
    "        return DataLoader(\n",
    "            self.train_set, num_workers=8, batch_size=self.kwargs['train_bs'], shuffle=True\n",
    "            )\n",
    "\n",
    "    def get_valid_loader(self, **kwargs):\n",
    "        \"\"\"\n",
    "        Output of this method will be provided to tasks without optimizer in contract\n",
    "        \"\"\"\n",
    "        return DataLoader(self.valid_set, num_workers=8, batch_size=self.kwargs['valid_bs'])\n",
    "\n",
    "    def get_train_data_size(self):\n",
    "        \"\"\"\n",
    "        Information for aggregation\n",
    "        \"\"\"\n",
    "        return len(self.train_set)\n",
    "\n",
    "    def get_valid_data_size(self):\n",
    "        \"\"\"\n",
    "        Information for aggregation\n",
    "        \"\"\"\n",
    "        return len(self.valid_set)\n",
    "    "
   ]
  },
  {
   "cell_type": "code",
   "execution_count": 10,
   "id": "4a6cedef",
   "metadata": {},
   "outputs": [],
   "source": [
    "fed_dataset = HistologyDataset(train_bs=64, valid_bs=64)"
   ]
  },
  {
   "cell_type": "markdown",
   "id": "74cac654",
   "metadata": {},
   "source": [
    "### Describe the model and optimizer"
   ]
  },
  {
   "cell_type": "code",
   "execution_count": 11,
   "id": "4949e16d",
   "metadata": {},
   "outputs": [],
   "source": [
    "import os\n",
    "import glob\n",
    "from torch.utils.data import Dataset, DataLoader\n",
    "from PIL import Image\n",
    "\n",
    "import numpy as np\n",
    "import torch\n",
    "import torch.nn as nn\n",
    "import torch.nn.functional as F\n",
    "import torch.optim as optim"
   ]
  },
  {
   "cell_type": "code",
   "execution_count": 12,
   "id": "d6158e87",
   "metadata": {},
   "outputs": [
    {
     "data": {
      "text/plain": [
       "<torch._C.Generator at 0x7f50d40e27b0>"
      ]
     },
     "execution_count": 12,
     "metadata": {},
     "output_type": "execute_result"
    }
   ],
   "source": [
    "np.random.seed(0)\n",
    "torch.manual_seed(0)"
   ]
  },
  {
   "cell_type": "code",
   "execution_count": 13,
   "id": "43e25fe3",
   "metadata": {},
   "outputs": [
    {
     "name": "stdout",
     "output_type": "stream",
     "text": [
      "conv1.weight: Parameter containing:\n",
      "tensor([[[[-0.0014,  0.1032, -0.1584],\n",
      "          [-0.1416, -0.0741,  0.0516],\n",
      "          [-0.0038,  0.1526, -0.0171]],\n",
      "\n",
      "         [[ 0.0509, -0.0582, -0.0378],\n",
      "          [-0.1839, -0.1275, -0.0793],\n",
      "          [ 0.0071,  0.0761,  0.1155]],\n",
      "\n",
      "         [[-0.1305, -0.0838,  0.0699],\n",
      "          [ 0.1598, -0.0396,  0.1440],\n",
      "          [-0.0310,  0.0204,  0.1743]]],\n",
      "\n",
      "\n",
      "        [[[-0.1785, -0.1212, -0.0487],\n",
      "          [-0.0750,  0.1663, -0.1247],\n",
      "          [-0.0886, -0.1345, -0.1802]],\n",
      "\n",
      "         [[-0.1123,  0.1654,  0.0859],\n",
      "          [ 0.0933,  0.0101, -0.0987],\n",
      "          [ 0.0326, -0.1797, -0.1391]],\n",
      "\n",
      "         [[-0.0992,  0.1214,  0.1128],\n",
      "          [-0.0854, -0.0069,  0.1231],\n",
      "          [ 0.1913,  0.0764,  0.0260]]],\n",
      "\n",
      "\n",
      "        [[[ 0.1290, -0.1133,  0.0359],\n",
      "          [-0.1492, -0.1334, -0.0994],\n",
      "          [ 0.0871,  0.0774, -0.1140]],\n",
      "\n",
      "         [[ 0.0581,  0.1056, -0.0243],\n",
      "          [ 0.0073,  0.0446,  0.1194],\n",
      "          [ 0.1848, -0.1483, -0.0705]],\n",
      "\n",
      "         [[ 0.0756,  0.1595,  0.1675],\n",
      "          [ 0.1698,  0.0383, -0.1674],\n",
      "          [ 0.0177, -0.1204, -0.1794]]],\n",
      "\n",
      "\n",
      "        [[[ 0.1710,  0.1463, -0.1920],\n",
      "          [ 0.0360, -0.0324, -0.0317],\n",
      "          [-0.0881,  0.0740, -0.1140]],\n",
      "\n",
      "         [[ 0.0706,  0.0973,  0.1378],\n",
      "          [ 0.0720, -0.1905, -0.1248],\n",
      "          [ 0.0961,  0.0403, -0.1501]],\n",
      "\n",
      "         [[-0.1108,  0.1810,  0.1297],\n",
      "          [-0.0839, -0.0484, -0.1833],\n",
      "          [-0.0035, -0.1449, -0.1484]]],\n",
      "\n",
      "\n",
      "        [[[-0.0106,  0.0289, -0.0788],\n",
      "          [ 0.1142, -0.1171,  0.1746],\n",
      "          [ 0.1319, -0.1623, -0.0479]],\n",
      "\n",
      "         [[ 0.0087,  0.0281,  0.0456],\n",
      "          [ 0.0755,  0.0115, -0.0939],\n",
      "          [ 0.0911, -0.1846, -0.1141]],\n",
      "\n",
      "         [[-0.0482, -0.0937, -0.0673],\n",
      "          [-0.1577, -0.0409,  0.0411],\n",
      "          [-0.1254, -0.0099,  0.1378]]],\n",
      "\n",
      "\n",
      "        [[[-0.0198,  0.0053, -0.0166],\n",
      "          [ 0.0389,  0.1224,  0.1823],\n",
      "          [ 0.1222,  0.1827, -0.0139]],\n",
      "\n",
      "         [[-0.1729, -0.0912,  0.1310],\n",
      "          [-0.0012, -0.0957, -0.1475],\n",
      "          [-0.1801, -0.1624, -0.0390]],\n",
      "\n",
      "         [[ 0.1055,  0.1040, -0.1856],\n",
      "          [ 0.1200, -0.1506, -0.0407],\n",
      "          [-0.0780, -0.0371, -0.0378]]],\n",
      "\n",
      "\n",
      "        [[[-0.1727, -0.1662, -0.0301],\n",
      "          [ 0.0025, -0.0874,  0.0725],\n",
      "          [-0.1732, -0.0130,  0.1692]],\n",
      "\n",
      "         [[-0.0785,  0.1738,  0.0697],\n",
      "          [-0.1737,  0.1218, -0.0222],\n",
      "          [-0.0859,  0.1539, -0.1555]],\n",
      "\n",
      "         [[ 0.0207, -0.0403,  0.1374],\n",
      "          [ 0.0537,  0.0925,  0.0680],\n",
      "          [-0.0463, -0.0405, -0.1586]]],\n",
      "\n",
      "\n",
      "        [[[ 0.1043,  0.1528,  0.1317],\n",
      "          [-0.1358,  0.0086, -0.1357],\n",
      "          [-0.1059, -0.1121,  0.0658]],\n",
      "\n",
      "         [[-0.1147, -0.0042,  0.0081],\n",
      "          [ 0.1241, -0.1455, -0.1321],\n",
      "          [-0.1117,  0.1347, -0.0692]],\n",
      "\n",
      "         [[ 0.1623,  0.0696,  0.0244],\n",
      "          [-0.0014, -0.0380,  0.0241],\n",
      "          [-0.0439, -0.0014,  0.0246]]],\n",
      "\n",
      "\n",
      "        [[[-0.1505, -0.1009,  0.1554],\n",
      "          [-0.1562, -0.0138,  0.1904],\n",
      "          [ 0.0695,  0.0054, -0.1668]],\n",
      "\n",
      "         [[ 0.0953, -0.1371, -0.0546],\n",
      "          [-0.0646, -0.0285,  0.0021],\n",
      "          [ 0.1587,  0.0240,  0.1724]],\n",
      "\n",
      "         [[ 0.1177, -0.1217,  0.0863],\n",
      "          [-0.1360, -0.0816,  0.0566],\n",
      "          [ 0.0635,  0.1444, -0.0620]]],\n",
      "\n",
      "\n",
      "        [[[ 0.0003,  0.0991, -0.1861],\n",
      "          [ 0.1391, -0.1591,  0.0027],\n",
      "          [-0.0327, -0.1014,  0.0254]],\n",
      "\n",
      "         [[ 0.1591, -0.0563, -0.1143],\n",
      "          [-0.0712, -0.1907,  0.0869],\n",
      "          [-0.0924, -0.1284, -0.1109]],\n",
      "\n",
      "         [[ 0.1107,  0.1019,  0.1477],\n",
      "          [ 0.0698, -0.0643, -0.0538],\n",
      "          [ 0.0569,  0.1582,  0.0523]]],\n",
      "\n",
      "\n",
      "        [[[-0.0911, -0.0905, -0.1820],\n",
      "          [ 0.0416, -0.1080, -0.1716],\n",
      "          [ 0.1688, -0.1250, -0.0219]],\n",
      "\n",
      "         [[ 0.0551,  0.0061, -0.1295],\n",
      "          [-0.1556,  0.1534,  0.0313],\n",
      "          [ 0.1597, -0.0645,  0.0567]],\n",
      "\n",
      "         [[-0.0440, -0.0086, -0.1172],\n",
      "          [ 0.0651,  0.0608, -0.0040],\n",
      "          [-0.0433, -0.1186,  0.1331]]],\n",
      "\n",
      "\n",
      "        [[[-0.1433,  0.0788, -0.0647],\n",
      "          [-0.0929,  0.0346, -0.1000],\n",
      "          [ 0.0443,  0.0378, -0.1429]],\n",
      "\n",
      "         [[ 0.0320,  0.0820,  0.0762],\n",
      "          [-0.0242, -0.1578, -0.0297],\n",
      "          [ 0.0668, -0.0702,  0.0731]],\n",
      "\n",
      "         [[ 0.1282, -0.1005,  0.0019],\n",
      "          [ 0.0796,  0.0151,  0.0161],\n",
      "          [ 0.0240, -0.1513,  0.0151]]],\n",
      "\n",
      "\n",
      "        [[[ 0.1333,  0.1734,  0.1131],\n",
      "          [ 0.0258,  0.0899, -0.0936],\n",
      "          [-0.1595, -0.1655,  0.1920]],\n",
      "\n",
      "         [[ 0.1222, -0.1330,  0.0753],\n",
      "          [ 0.1453,  0.1924,  0.1683],\n",
      "          [ 0.1491, -0.0441, -0.0675]],\n",
      "\n",
      "         [[ 0.1580,  0.1078, -0.1158],\n",
      "          [ 0.1730,  0.0930,  0.1049],\n",
      "          [-0.1206,  0.0552, -0.0675]]],\n",
      "\n",
      "\n",
      "        [[[ 0.1504, -0.0346,  0.0749],\n",
      "          [ 0.0342,  0.0819, -0.0654],\n",
      "          [ 0.0938, -0.1344,  0.0435]],\n",
      "\n",
      "         [[-0.1302, -0.1899, -0.1545],\n",
      "          [ 0.1519,  0.1041,  0.1806],\n",
      "          [ 0.1542, -0.1719, -0.1313]],\n",
      "\n",
      "         [[-0.0311, -0.1250,  0.1336],\n",
      "          [-0.1455, -0.0939, -0.1859],\n",
      "          [-0.1093,  0.1583,  0.1576]]],\n",
      "\n",
      "\n",
      "        [[[ 0.1378,  0.1486,  0.1711],\n",
      "          [-0.0493,  0.0847,  0.1715],\n",
      "          [ 0.0637,  0.1924,  0.0998]],\n",
      "\n",
      "         [[ 0.1196, -0.0674,  0.0923],\n",
      "          [ 0.0221, -0.0460, -0.1085],\n",
      "          [-0.1080, -0.1481,  0.1292]],\n",
      "\n",
      "         [[ 0.1368, -0.0219, -0.1114],\n",
      "          [ 0.1487,  0.1231,  0.0143],\n",
      "          [-0.0909,  0.1769,  0.0787]]],\n",
      "\n",
      "\n",
      "        [[[-0.1461,  0.1842,  0.1461],\n",
      "          [-0.0701,  0.1082, -0.1093],\n",
      "          [-0.0302,  0.1634,  0.0080]],\n",
      "\n",
      "         [[-0.1361, -0.0643, -0.0522],\n",
      "          [-0.0371,  0.0184,  0.1780],\n",
      "          [ 0.0103, -0.1188,  0.0099]],\n",
      "\n",
      "         [[ 0.0923,  0.0955, -0.1759],\n",
      "          [-0.0344, -0.1430, -0.0821],\n",
      "          [ 0.0693, -0.1367,  0.0715]]]], requires_grad=True)\n",
      "conv1.bias: Parameter containing:\n",
      "tensor([ 0.1633,  0.0126, -0.1283, -0.0690,  0.0420, -0.1467,  0.0956, -0.1747,\n",
      "        -0.1850, -0.1870, -0.0390,  0.1294, -0.1821,  0.1600, -0.0770,  0.0564],\n",
      "       requires_grad=True)\n",
      "conv2.weight: Parameter containing:\n",
      "tensor([[[[ 3.8002e-03, -7.5143e-02,  6.9111e-02],\n",
      "          [ 4.4870e-02,  8.2833e-02,  4.2101e-02],\n",
      "          [-5.5006e-02,  6.9549e-02,  4.4787e-03]],\n",
      "\n",
      "         [[ 3.9518e-02, -6.6819e-02, -2.3969e-02],\n",
      "          [-8.1823e-02, -3.2458e-02,  1.7978e-02],\n",
      "          [-6.5430e-02,  2.6564e-02,  4.4734e-02]],\n",
      "\n",
      "         [[ 1.1609e-02, -5.5757e-02, -6.4610e-02],\n",
      "          [-2.5710e-02,  3.6580e-02,  8.2200e-02],\n",
      "          [ 4.7919e-02, -9.3841e-03,  2.9218e-02]],\n",
      "\n",
      "         ...,\n",
      "\n",
      "         [[ 7.8577e-02, -1.8561e-02, -1.4963e-02],\n",
      "          [ 6.5297e-02,  4.1884e-02,  7.0677e-02],\n",
      "          [ 4.8204e-02, -2.5279e-02, -5.5289e-02]],\n",
      "\n",
      "         [[-6.2003e-03,  6.8970e-02, -2.7968e-02],\n",
      "          [-7.7281e-02,  3.4161e-02,  8.1123e-02],\n",
      "          [-2.3724e-02, -6.9002e-02, -7.5588e-02]],\n",
      "\n",
      "         [[ 2.0883e-02, -6.3100e-03, -4.2082e-02],\n",
      "          [ 1.6844e-02,  3.1647e-02,  6.6277e-02],\n",
      "          [ 6.4699e-02, -1.2474e-02, -7.3481e-02]]],\n",
      "\n",
      "\n",
      "        [[[-7.5302e-02,  7.7807e-02,  3.6838e-02],\n",
      "          [ 3.6326e-02, -7.2102e-02,  7.7168e-02],\n",
      "          [ 7.8945e-02,  7.5238e-02, -7.0299e-02]],\n",
      "\n",
      "         [[-3.1444e-02, -5.7314e-02,  7.8914e-02],\n",
      "          [-3.5807e-02, -3.8046e-02,  4.3659e-02],\n",
      "          [-3.8549e-02, -4.1044e-02, -7.2893e-03]],\n",
      "\n",
      "         [[-8.0100e-03, -6.4915e-02,  6.9472e-02],\n",
      "          [-3.6760e-02,  2.9560e-02,  7.2482e-02],\n",
      "          [ 4.2026e-02,  1.1798e-02,  7.0905e-02]],\n",
      "\n",
      "         ...,\n",
      "\n",
      "         [[ 5.3386e-02, -1.0586e-02, -3.9577e-02],\n",
      "          [-7.2567e-02, -7.6460e-02,  8.1384e-02],\n",
      "          [-2.0783e-02,  4.1624e-03,  2.2593e-02]],\n",
      "\n",
      "         [[ 5.6644e-02,  7.1123e-02,  6.7585e-02],\n",
      "          [-6.1740e-02, -1.3351e-02, -4.9311e-02],\n",
      "          [-4.7613e-02,  1.9767e-02,  7.8221e-02]],\n",
      "\n",
      "         [[-6.6759e-02,  5.0434e-02, -4.3206e-02],\n",
      "          [-1.6231e-02,  6.6148e-02, -1.8848e-02],\n",
      "          [ 7.5880e-03, -5.8253e-02,  7.0937e-02]]],\n",
      "\n",
      "\n",
      "        [[[-1.0772e-02, -6.0949e-02,  2.4401e-02],\n",
      "          [-5.9251e-02, -6.6126e-02,  5.0766e-03],\n",
      "          [ 6.6070e-02, -2.3582e-02,  3.9222e-02]],\n",
      "\n",
      "         [[ 7.1610e-02,  5.5272e-02, -4.3713e-02],\n",
      "          [-9.1350e-03, -2.6224e-02, -6.7010e-02],\n",
      "          [ 3.4432e-05,  6.2703e-02,  7.0210e-02]],\n",
      "\n",
      "         [[ 7.7751e-03,  1.8927e-02, -3.6077e-02],\n",
      "          [ 6.2904e-02, -3.4676e-02, -5.7888e-02],\n",
      "          [ 1.2833e-02,  4.9949e-02, -7.5133e-02]],\n",
      "\n",
      "         ...,\n",
      "\n",
      "         [[-4.4297e-02,  3.6313e-02, -7.2526e-02],\n",
      "          [ 1.3360e-03, -3.8324e-02,  5.5003e-02],\n",
      "          [-7.7587e-02,  5.0528e-02,  8.2446e-02]],\n",
      "\n",
      "         [[ 1.6862e-02, -5.5522e-03,  8.2029e-02],\n",
      "          [-3.5613e-02, -6.6778e-03, -3.6492e-02],\n",
      "          [-1.1503e-02,  1.8112e-02,  1.1130e-02]],\n",
      "\n",
      "         [[-1.5740e-02, -8.3320e-02,  4.2670e-03],\n",
      "          [-2.4685e-03,  1.2536e-02,  6.3854e-02],\n",
      "          [ 8.1001e-02, -4.9440e-02, -5.1962e-03]]],\n",
      "\n",
      "\n",
      "        ...,\n",
      "\n",
      "\n",
      "        [[[ 6.1435e-03,  1.4034e-02, -3.5308e-02],\n",
      "          [ 3.4231e-02, -6.1546e-02,  6.6498e-02],\n",
      "          [ 7.2904e-02,  3.0069e-02,  6.4894e-02]],\n",
      "\n",
      "         [[ 5.0581e-02, -3.1826e-02, -7.2278e-02],\n",
      "          [ 1.0966e-02,  5.2323e-02, -8.5251e-03],\n",
      "          [ 7.0118e-03,  6.1766e-02,  3.4408e-02]],\n",
      "\n",
      "         [[ 6.2299e-02,  1.2236e-02,  9.3412e-03],\n",
      "          [-1.9933e-02, -1.4062e-02, -4.4289e-02],\n",
      "          [ 5.5715e-02,  7.6004e-02,  3.0926e-02]],\n",
      "\n",
      "         ...,\n",
      "\n",
      "         [[-4.2128e-02,  5.0993e-02,  5.1967e-02],\n",
      "          [-6.4783e-02,  2.5560e-02, -3.4425e-02],\n",
      "          [-4.7920e-02, -1.0167e-02, -2.5847e-02]],\n",
      "\n",
      "         [[-4.7449e-02,  1.2281e-02,  4.7564e-02],\n",
      "          [-1.2859e-02, -5.8293e-03,  6.2709e-03],\n",
      "          [-3.5815e-02,  4.4118e-02,  7.6890e-02]],\n",
      "\n",
      "         [[-7.6163e-03,  5.6648e-03,  6.7145e-02],\n",
      "          [ 6.8255e-02, -6.1992e-02, -3.8592e-02],\n",
      "          [-8.1744e-02,  5.1041e-02,  6.5042e-02]]],\n",
      "\n",
      "\n",
      "        [[[-3.0330e-02,  2.6731e-02,  2.0186e-02],\n",
      "          [-7.1696e-02,  3.3278e-02,  4.0890e-02],\n",
      "          [ 1.8327e-03,  8.5458e-03,  1.9365e-02]],\n",
      "\n",
      "         [[ 6.0034e-02,  7.3631e-02,  1.1977e-02],\n",
      "          [ 3.5521e-02, -2.1802e-02,  4.9684e-02],\n",
      "          [-3.2779e-02, -6.8691e-02,  3.9098e-02]],\n",
      "\n",
      "         [[ 3.0907e-02,  1.8342e-02,  3.5456e-02],\n",
      "          [ 9.9164e-03,  2.8362e-02,  3.3957e-02],\n",
      "          [-4.4954e-02, -4.4650e-03,  1.2558e-02]],\n",
      "\n",
      "         ...,\n",
      "\n",
      "         [[ 5.4483e-02, -4.3863e-02,  1.2573e-02],\n",
      "          [-1.9167e-02,  7.2444e-02, -7.5478e-02],\n",
      "          [-6.0795e-02, -6.9380e-02,  4.8498e-02]],\n",
      "\n",
      "         [[-4.1657e-02,  4.9634e-02,  2.8169e-02],\n",
      "          [-4.0733e-02, -2.2449e-02, -3.3724e-02],\n",
      "          [ 3.6765e-02, -3.3419e-02,  2.8281e-02]],\n",
      "\n",
      "         [[ 5.9533e-03, -6.6551e-02, -5.2384e-02],\n",
      "          [-5.7781e-02,  4.3666e-02,  1.8057e-02],\n",
      "          [-2.0953e-03, -4.9620e-02, -8.2567e-02]]],\n",
      "\n",
      "\n",
      "        [[[-2.9491e-02, -6.3779e-02, -8.2889e-02],\n",
      "          [-7.9480e-02, -5.4433e-02, -8.1012e-02],\n",
      "          [ 2.5977e-02,  3.1181e-02,  3.3589e-02]],\n",
      "\n",
      "         [[-8.2958e-02,  5.1530e-02,  1.6247e-02],\n",
      "          [ 4.2612e-02, -2.0481e-02,  4.0018e-02],\n",
      "          [-7.9035e-02,  2.8384e-02,  6.6080e-02]],\n",
      "\n",
      "         [[ 3.5030e-02, -7.8551e-02, -2.3394e-02],\n",
      "          [-1.0349e-02,  4.3663e-02, -3.1534e-02],\n",
      "          [ 1.1986e-02, -2.9254e-02, -1.3238e-02]],\n",
      "\n",
      "         ...,\n",
      "\n",
      "         [[ 1.3909e-02, -6.8152e-02, -6.3396e-02],\n",
      "          [-4.3430e-02,  3.9906e-02, -5.3804e-02],\n",
      "          [-3.8123e-02,  1.5129e-02, -5.7775e-02]],\n",
      "\n",
      "         [[-4.1035e-02,  7.5565e-02, -4.4058e-02],\n",
      "          [-2.7764e-02,  5.9600e-02,  1.8674e-02],\n",
      "          [ 6.5408e-02, -7.3416e-02,  4.1654e-02]],\n",
      "\n",
      "         [[-1.2746e-02, -5.3387e-02, -3.5691e-02],\n",
      "          [-8.0606e-02,  5.7648e-02, -1.5990e-02],\n",
      "          [-8.1712e-02,  7.1268e-02,  5.3975e-02]]]], requires_grad=True)\n",
      "conv2.bias: Parameter containing:\n",
      "tensor([ 0.0345,  0.0816,  0.0753,  0.0779,  0.0746,  0.0677,  0.0218, -0.0070,\n",
      "         0.0032, -0.0346,  0.0392,  0.0024,  0.0197, -0.0537, -0.0314,  0.0625,\n",
      "         0.0081,  0.0288, -0.0728, -0.0357, -0.0021, -0.0087,  0.0532, -0.0251,\n",
      "         0.0695, -0.0161,  0.0324, -0.0587,  0.0141, -0.0812, -0.0715, -0.0533],\n",
      "       requires_grad=True)\n",
      "conv3.weight: Parameter containing:\n",
      "tensor([[[[ 1.6497e-02,  4.5671e-03,  5.7031e-03],\n",
      "          [-6.4458e-03,  4.9512e-02,  5.7723e-02],\n",
      "          [ 2.5025e-02,  4.6861e-02, -2.9122e-03]],\n",
      "\n",
      "         [[-2.1663e-02,  1.1456e-02,  3.8746e-02],\n",
      "          [-9.1070e-03, -4.5245e-02,  1.9459e-02],\n",
      "          [-1.5021e-02, -2.8365e-02,  3.7219e-02]],\n",
      "\n",
      "         [[-2.0001e-03, -3.3683e-02, -3.5259e-02],\n",
      "          [ 5.5494e-02,  3.8328e-02, -4.2253e-02],\n",
      "          [ 2.8168e-05, -1.2748e-03,  2.8088e-02]],\n",
      "\n",
      "         ...,\n",
      "\n",
      "         [[-4.1509e-02,  7.7998e-03,  5.6906e-02],\n",
      "          [-3.4927e-02,  3.7776e-02,  5.3928e-03],\n",
      "          [-2.5352e-02,  6.4562e-05,  2.8250e-02]],\n",
      "\n",
      "         [[ 7.0104e-03,  5.2162e-02, -1.1152e-02],\n",
      "          [-3.9349e-02,  5.3247e-02, -1.6829e-02],\n",
      "          [ 3.7388e-02,  3.8867e-02,  1.0436e-02]],\n",
      "\n",
      "         [[-4.8363e-02, -5.7850e-02,  2.7974e-02],\n",
      "          [ 1.4407e-02,  3.4287e-02, -5.1937e-02],\n",
      "          [-8.1183e-03,  5.0912e-02,  3.0958e-02]]],\n",
      "\n",
      "\n",
      "        [[[ 4.8969e-02,  4.6264e-02, -1.4458e-02],\n",
      "          [-4.0127e-02, -3.5137e-02,  2.0013e-02],\n",
      "          [-2.3390e-02,  2.3370e-04,  9.4036e-03]],\n",
      "\n",
      "         [[ 3.6580e-02,  3.2863e-02,  3.3631e-02],\n",
      "          [ 2.3949e-03,  3.3266e-02, -2.7586e-02],\n",
      "          [-2.3585e-02, -9.3299e-03, -3.4220e-02]],\n",
      "\n",
      "         [[ 5.2561e-02, -9.0295e-03,  1.7131e-02],\n",
      "          [-1.8320e-03, -8.0592e-04, -3.1407e-02],\n",
      "          [-4.3261e-03, -5.2709e-02, -2.8179e-02]],\n",
      "\n",
      "         ...,\n",
      "\n",
      "         [[-1.1545e-02, -9.0875e-04, -3.7287e-02],\n",
      "          [-2.6127e-03, -7.8279e-03, -2.0629e-02],\n",
      "          [-1.8098e-02, -5.8686e-02,  5.6156e-02]],\n",
      "\n",
      "         [[ 2.9045e-02,  4.2601e-02, -5.0160e-02],\n",
      "          [-5.7688e-02,  4.3821e-02, -1.0347e-02],\n",
      "          [ 9.1853e-03,  2.9548e-02,  3.7655e-03]],\n",
      "\n",
      "         [[-1.9515e-03,  3.5013e-02,  4.7075e-02],\n",
      "          [-1.6421e-02, -5.0308e-02, -3.2311e-02],\n",
      "          [ 4.2110e-02,  5.1239e-03,  5.0455e-02]]],\n",
      "\n",
      "\n",
      "        [[[-2.0613e-02, -5.5833e-02,  1.8299e-02],\n",
      "          [-2.5110e-02, -3.5229e-02,  3.6737e-02],\n",
      "          [ 4.0978e-03, -5.0316e-03,  5.7386e-02]],\n",
      "\n",
      "         [[ 5.1332e-02, -4.8138e-02, -5.4168e-02],\n",
      "          [-2.9139e-02, -4.5751e-02, -3.0975e-02],\n",
      "          [ 3.9754e-02, -3.9209e-02,  5.4044e-02]],\n",
      "\n",
      "         [[ 1.8385e-02,  2.5594e-03,  1.0079e-02],\n",
      "          [ 1.2438e-02,  1.8960e-02, -4.7924e-02],\n",
      "          [-1.0248e-03,  3.9090e-02,  5.8543e-02]],\n",
      "\n",
      "         ...,\n",
      "\n",
      "         [[ 2.9572e-02,  2.3246e-02,  2.0741e-02],\n",
      "          [ 2.7420e-02, -1.4807e-02,  4.3348e-02],\n",
      "          [ 3.2114e-02, -2.5639e-02,  4.3306e-02]],\n",
      "\n",
      "         [[ 2.1236e-02,  2.0085e-03,  8.8515e-04],\n",
      "          [ 5.0647e-02,  1.9145e-03,  2.0723e-02],\n",
      "          [ 4.3002e-02,  3.1851e-03,  5.3382e-02]],\n",
      "\n",
      "         [[-3.4880e-02, -5.7572e-03,  4.7650e-03],\n",
      "          [ 3.1953e-03, -4.2831e-02,  5.6231e-02],\n",
      "          [-3.3065e-02,  4.2531e-02, -2.3507e-02]]],\n",
      "\n",
      "\n",
      "        ...,\n",
      "\n",
      "\n",
      "        [[[ 5.6969e-02,  1.3421e-02, -4.1743e-02],\n",
      "          [-3.6091e-02, -1.1101e-02, -4.6404e-02],\n",
      "          [-2.2569e-02,  1.9701e-02,  7.4363e-03]],\n",
      "\n",
      "         [[ 5.4050e-02, -4.0366e-02,  5.7454e-03],\n",
      "          [ 1.0623e-02, -2.0818e-02,  4.8461e-02],\n",
      "          [ 3.2032e-02,  1.3872e-02,  3.2233e-02]],\n",
      "\n",
      "         [[ 4.5427e-02, -4.8845e-02, -1.4129e-02],\n",
      "          [-2.5725e-02,  3.6338e-03, -1.1169e-02],\n",
      "          [-5.0170e-02,  2.2399e-02, -1.0738e-02]],\n",
      "\n",
      "         ...,\n",
      "\n",
      "         [[-2.8605e-02,  4.3804e-02,  2.6729e-02],\n",
      "          [-1.6447e-02,  1.8225e-02, -9.1193e-03],\n",
      "          [ 6.5393e-03,  2.1804e-02, -5.6214e-02]],\n",
      "\n",
      "         [[ 3.0313e-02, -7.3133e-03,  5.0127e-02],\n",
      "          [-3.0816e-02, -3.8535e-02, -2.9842e-02],\n",
      "          [ 8.5734e-03,  3.4008e-02,  3.6609e-02]],\n",
      "\n",
      "         [[-3.2039e-02,  4.7383e-02, -3.3086e-03],\n",
      "          [ 3.5740e-02, -6.4805e-03, -2.5722e-02],\n",
      "          [-2.3290e-02, -2.0256e-02,  1.0073e-03]]],\n",
      "\n",
      "\n",
      "        [[[-3.6959e-02,  5.0595e-02, -4.8433e-02],\n",
      "          [ 2.9478e-02, -1.6884e-02, -3.1879e-02],\n",
      "          [ 2.0575e-03, -1.1708e-02, -5.6155e-02]],\n",
      "\n",
      "         [[-1.9204e-03,  4.5210e-02,  4.3347e-02],\n",
      "          [-2.5698e-03,  4.4438e-02,  1.3369e-02],\n",
      "          [ 3.7527e-02,  3.6959e-02,  3.2079e-02]],\n",
      "\n",
      "         [[ 3.4199e-02, -5.0428e-02,  1.4306e-02],\n",
      "          [-1.0245e-02,  1.5725e-02, -2.9163e-02],\n",
      "          [ 5.8474e-02, -1.7409e-02,  2.5927e-02]],\n",
      "\n",
      "         ...,\n",
      "\n",
      "         [[ 9.4639e-04,  2.2422e-02,  3.4931e-02],\n",
      "          [-4.6595e-02, -2.2084e-02,  5.6568e-02],\n",
      "          [-4.8167e-02,  5.4774e-02, -5.1526e-02]],\n",
      "\n",
      "         [[ 3.9344e-02,  6.6679e-03, -2.3532e-02],\n",
      "          [-1.4260e-02,  2.0362e-02, -3.0118e-03],\n",
      "          [ 2.5763e-02,  5.5462e-02, -4.4127e-02]],\n",
      "\n",
      "         [[-1.2823e-02, -4.0290e-02, -2.8549e-02],\n",
      "          [ 1.2579e-02, -8.0086e-03,  2.0221e-03],\n",
      "          [-1.9196e-02, -5.3359e-03,  2.8387e-02]]],\n",
      "\n",
      "\n",
      "        [[[ 1.3086e-02,  2.6773e-02, -3.4322e-02],\n",
      "          [ 1.6328e-02, -3.8832e-02,  1.0482e-02],\n",
      "          [-1.9078e-02, -2.2543e-02, -5.8331e-03]],\n",
      "\n",
      "         [[ 2.4777e-02,  5.8566e-02, -2.5864e-02],\n",
      "          [-5.7091e-02, -2.4806e-02,  2.3095e-02],\n",
      "          [ 3.8624e-02,  3.9546e-02, -7.5413e-03]],\n",
      "\n",
      "         [[ 7.9317e-03,  4.9941e-02, -3.4559e-02],\n",
      "          [ 1.7942e-02, -3.0074e-02, -7.4152e-03],\n",
      "          [-2.5390e-03,  9.4198e-03,  3.8568e-02]],\n",
      "\n",
      "         ...,\n",
      "\n",
      "         [[-5.0346e-02, -1.4118e-02, -4.4902e-02],\n",
      "          [-4.3977e-02,  5.3809e-02, -4.1409e-02],\n",
      "          [ 4.4017e-02, -3.8375e-02,  5.3984e-02]],\n",
      "\n",
      "         [[-4.9489e-02, -1.5363e-02,  4.7083e-02],\n",
      "          [-5.2265e-02, -8.9483e-04,  2.2034e-02],\n",
      "          [ 2.6494e-02, -6.2859e-03, -3.1917e-02]],\n",
      "\n",
      "         [[-6.0065e-04,  2.7694e-02, -2.5228e-02],\n",
      "          [ 8.4880e-03, -4.0079e-02,  4.3456e-02],\n",
      "          [ 1.1518e-02, -3.0486e-02,  5.8378e-02]]]], requires_grad=True)\n",
      "conv3.bias: Parameter containing:\n",
      "tensor([ 3.1461e-02, -4.5056e-02,  1.8985e-02, -3.7295e-02,  5.1895e-02,\n",
      "        -4.2702e-02,  5.3377e-02,  2.9532e-02, -1.0013e-02,  5.7363e-02,\n",
      "        -2.7701e-02, -3.4197e-03,  1.5553e-02,  3.4113e-02,  4.5351e-02,\n",
      "        -5.4979e-02,  1.3143e-02,  4.1682e-02, -1.9671e-02,  1.4640e-02,\n",
      "         5.5023e-05, -4.2517e-03, -5.1065e-03, -5.4613e-02, -3.7561e-02,\n",
      "         4.2143e-02,  5.6600e-02, -8.1062e-03,  4.8081e-02, -3.4673e-02,\n",
      "         4.7574e-02,  3.2402e-02,  1.7974e-02, -3.1877e-03, -5.7894e-03,\n",
      "         2.7720e-02, -9.1331e-03, -3.7789e-02,  3.6878e-02, -3.7666e-02,\n",
      "        -2.7780e-02,  5.7437e-02,  1.8417e-02,  2.6688e-02,  4.3756e-02,\n",
      "        -2.2867e-02,  5.7343e-02, -3.9607e-02,  3.7336e-03, -4.2498e-02,\n",
      "        -4.6732e-02,  6.8252e-03,  4.8384e-04,  3.8021e-02, -4.4584e-02,\n",
      "         2.0617e-02, -8.9712e-03,  1.2444e-02, -1.1061e-02,  1.2993e-02,\n",
      "         1.8309e-04, -5.1270e-02, -5.2173e-02, -1.4717e-02],\n",
      "       requires_grad=True)\n",
      "conv4.weight: Parameter containing:\n",
      "tensor([[[[-4.1403e-02, -9.5227e-03,  2.1362e-02],\n",
      "          [ 3.0801e-02,  4.8351e-03,  8.3615e-03],\n",
      "          [ 2.3206e-02, -4.5829e-03,  1.7157e-04]],\n",
      "\n",
      "         [[-2.9414e-03,  2.3775e-02,  3.7679e-02],\n",
      "          [-5.1662e-03,  3.7308e-02,  2.0795e-02],\n",
      "          [ 3.2160e-02,  1.0721e-02, -3.9866e-03]],\n",
      "\n",
      "         [[ 3.2101e-02,  1.1609e-02,  3.2697e-04],\n",
      "          [ 3.9854e-02, -1.3663e-02,  1.4729e-02],\n",
      "          [-3.6153e-03, -1.1659e-02, -2.8379e-02]],\n",
      "\n",
      "         ...,\n",
      "\n",
      "         [[ 4.0879e-03, -1.1845e-02, -2.0495e-02],\n",
      "          [ 6.6926e-03, -3.5443e-02, -6.2252e-03],\n",
      "          [ 3.9993e-02, -2.9797e-02, -1.3044e-02]],\n",
      "\n",
      "         [[-2.3202e-02, -4.9418e-03, -3.3640e-03],\n",
      "          [-1.7543e-02, -2.8962e-02,  3.8249e-02],\n",
      "          [ 9.7568e-03, -2.9196e-02, -8.2888e-03]],\n",
      "\n",
      "         [[ 8.6106e-03, -4.4103e-03,  7.7072e-03],\n",
      "          [ 6.1878e-03, -2.7435e-02,  6.5066e-03],\n",
      "          [ 3.3183e-02,  3.0142e-02, -2.8813e-02]]],\n",
      "\n",
      "\n",
      "        [[[-1.8080e-02, -1.1855e-02,  1.2742e-02],\n",
      "          [-9.9383e-03, -1.8541e-02, -1.5275e-02],\n",
      "          [ 6.9332e-03, -5.6799e-03,  1.9001e-04]],\n",
      "\n",
      "         [[-1.7543e-02,  2.5450e-02,  4.2307e-03],\n",
      "          [ 4.1445e-02, -2.5447e-02, -2.4663e-02],\n",
      "          [-2.0447e-02,  4.1291e-02, -1.0816e-02]],\n",
      "\n",
      "         [[-1.6488e-02,  3.7160e-02,  1.6417e-02],\n",
      "          [ 1.4830e-02,  3.0318e-02, -2.5864e-02],\n",
      "          [ 1.6980e-02,  2.6369e-03, -8.4327e-03]],\n",
      "\n",
      "         ...,\n",
      "\n",
      "         [[ 1.8691e-02,  3.6136e-03,  3.6589e-02],\n",
      "          [ 3.6029e-02, -3.1986e-03, -4.0390e-02],\n",
      "          [ 4.1020e-02, -2.1206e-02, -2.0977e-02]],\n",
      "\n",
      "         [[ 2.0547e-02,  4.3494e-03, -2.5696e-02],\n",
      "          [ 3.8557e-03,  2.5115e-02, -1.5259e-02],\n",
      "          [-2.7309e-02,  1.4169e-02, -2.0930e-02]],\n",
      "\n",
      "         [[-3.3999e-02,  2.5601e-02,  1.6835e-02],\n",
      "          [-2.3468e-02, -4.3093e-03, -2.9119e-02],\n",
      "          [ 1.1020e-02, -2.6016e-02, -3.7663e-02]]],\n",
      "\n",
      "\n",
      "        [[[-1.8099e-02,  8.8168e-03,  1.8766e-02],\n",
      "          [-3.4555e-02, -1.8027e-02,  8.4535e-03],\n",
      "          [-9.9639e-03,  2.0584e-02, -2.7752e-02]],\n",
      "\n",
      "         [[-1.1210e-02, -1.1766e-02, -2.1046e-02],\n",
      "          [ 1.5210e-02, -3.2599e-02,  4.1318e-02],\n",
      "          [ 1.6502e-02,  2.0186e-03,  3.0679e-02]],\n",
      "\n",
      "         [[-4.0303e-04, -4.0249e-02, -1.8903e-02],\n",
      "          [ 2.3255e-02, -6.7546e-03, -9.1138e-03],\n",
      "          [-2.7679e-02,  1.1060e-02, -1.9602e-02]],\n",
      "\n",
      "         ...,\n",
      "\n",
      "         [[ 8.0199e-03,  2.3371e-02,  1.6835e-02],\n",
      "          [-1.6839e-03,  1.0792e-03, -1.2542e-02],\n",
      "          [ 3.3943e-02,  2.7320e-02, -3.9033e-02]],\n",
      "\n",
      "         [[-1.2408e-02, -2.1041e-03,  1.7455e-02],\n",
      "          [-1.1954e-02,  3.7555e-02, -2.4467e-03],\n",
      "          [ 3.6889e-02, -2.9488e-02,  2.7663e-02]],\n",
      "\n",
      "         [[ 1.1854e-02,  2.8780e-02,  1.3776e-02],\n",
      "          [-3.9326e-02,  1.2282e-02, -2.0327e-02],\n",
      "          [-1.4176e-02, -3.4192e-02,  1.0560e-02]]],\n",
      "\n",
      "\n",
      "        ...,\n",
      "\n",
      "\n",
      "        [[[ 1.0233e-02, -2.2444e-02, -3.7312e-02],\n",
      "          [-1.0800e-02, -2.3690e-02, -3.9901e-03],\n",
      "          [-6.1042e-03, -3.1129e-02, -1.8080e-03]],\n",
      "\n",
      "         [[-1.6664e-02, -1.8118e-02,  1.6171e-03],\n",
      "          [-3.2885e-02,  1.0388e-02,  1.4004e-02],\n",
      "          [-3.3034e-02,  1.0640e-02,  2.9381e-02]],\n",
      "\n",
      "         [[-3.8668e-02,  1.0816e-02, -3.9270e-02],\n",
      "          [ 2.2568e-03, -4.1260e-02, -1.4979e-02],\n",
      "          [-7.0366e-03,  1.6593e-02, -6.2102e-04]],\n",
      "\n",
      "         ...,\n",
      "\n",
      "         [[-1.0361e-02, -3.6260e-02, -5.3132e-03],\n",
      "          [ 2.8273e-02, -3.0254e-03,  2.7749e-02],\n",
      "          [-1.1825e-02, -3.8921e-02, -1.1474e-03]],\n",
      "\n",
      "         [[-4.0475e-02, -1.8629e-02, -7.8163e-03],\n",
      "          [ 2.9975e-02,  1.6242e-02, -1.6506e-02],\n",
      "          [-2.4632e-02, -2.9255e-03,  3.9562e-02]],\n",
      "\n",
      "         [[-3.2330e-02, -3.4767e-02,  3.4752e-02],\n",
      "          [ 1.6157e-02, -3.2673e-02, -3.8357e-02],\n",
      "          [ 1.3957e-02, -1.5311e-02,  1.8014e-02]]],\n",
      "\n",
      "\n",
      "        [[[-5.5753e-03,  2.3562e-02, -1.1856e-02],\n",
      "          [ 3.3213e-02,  2.0056e-03, -7.4875e-03],\n",
      "          [ 1.4210e-02,  7.2021e-03, -4.1382e-02]],\n",
      "\n",
      "         [[ 5.0691e-03, -3.4790e-02,  1.3970e-02],\n",
      "          [ 4.7222e-03,  7.5896e-03, -2.5172e-02],\n",
      "          [-3.4000e-02, -3.9739e-02,  2.0216e-02]],\n",
      "\n",
      "         [[ 3.2991e-02, -7.1353e-03, -7.6542e-06],\n",
      "          [-5.0147e-03,  5.7638e-03,  7.9206e-03],\n",
      "          [-3.0373e-02, -2.0768e-02,  1.1254e-03]],\n",
      "\n",
      "         ...,\n",
      "\n",
      "         [[ 2.6088e-02,  2.1541e-02, -3.8150e-02],\n",
      "          [ 3.4723e-02, -2.6959e-02, -3.8224e-02],\n",
      "          [-3.4224e-02, -2.4723e-02, -2.9858e-02]],\n",
      "\n",
      "         [[-1.3178e-02, -2.1379e-02,  1.1646e-02],\n",
      "          [-3.7369e-02, -1.4808e-02,  3.3553e-02],\n",
      "          [-1.3991e-02, -1.4768e-02,  3.1564e-02]],\n",
      "\n",
      "         [[-4.0756e-04,  3.0306e-02, -1.9043e-02],\n",
      "          [ 3.9594e-02,  2.1366e-02,  2.4756e-02],\n",
      "          [-1.2752e-02, -2.3118e-02,  3.9878e-02]]],\n",
      "\n",
      "\n",
      "        [[[ 4.7933e-03,  3.3647e-03, -3.7758e-02],\n",
      "          [ 2.8772e-02,  9.1297e-03, -2.9185e-02],\n",
      "          [-2.4876e-02,  1.4768e-02, -6.4587e-03]],\n",
      "\n",
      "         [[ 1.7265e-02,  5.8576e-03,  1.4512e-02],\n",
      "          [-3.2252e-02,  8.8942e-03,  1.5306e-02],\n",
      "          [-1.9163e-02, -4.1151e-02, -1.7259e-02]],\n",
      "\n",
      "         [[-2.3798e-02,  3.2242e-02,  3.2422e-02],\n",
      "          [-2.1090e-02, -3.4935e-02,  3.4277e-02],\n",
      "          [-2.1057e-02,  1.2107e-02, -3.1293e-02]],\n",
      "\n",
      "         ...,\n",
      "\n",
      "         [[-1.2662e-02,  3.1002e-02,  3.0032e-02],\n",
      "          [ 3.8799e-03, -1.5199e-02,  1.1605e-02],\n",
      "          [ 2.9796e-03, -4.1181e-02, -2.2108e-02]],\n",
      "\n",
      "         [[-3.9169e-02,  3.6739e-04,  2.7138e-02],\n",
      "          [ 1.6451e-02, -4.9894e-04, -3.6910e-02],\n",
      "          [ 3.9428e-02,  3.6062e-02, -1.7777e-02]],\n",
      "\n",
      "         [[ 2.1489e-02, -2.4056e-02, -2.2459e-02],\n",
      "          [-2.2020e-03, -2.1855e-02,  2.5683e-02],\n",
      "          [-7.7132e-03,  2.0885e-02,  2.7049e-02]]]], requires_grad=True)\n",
      "conv4.bias: Parameter containing:\n",
      "tensor([ 0.0072,  0.0287,  0.0007,  0.0085, -0.0386,  0.0256,  0.0224,  0.0043,\n",
      "         0.0411, -0.0406, -0.0051, -0.0169, -0.0101,  0.0165,  0.0074,  0.0220,\n",
      "        -0.0395, -0.0394,  0.0146,  0.0407, -0.0128,  0.0392,  0.0412, -0.0176,\n",
      "         0.0143, -0.0287,  0.0002, -0.0066,  0.0359, -0.0070,  0.0382,  0.0018,\n",
      "        -0.0208,  0.0033, -0.0026, -0.0296, -0.0298,  0.0239, -0.0229, -0.0289,\n",
      "        -0.0154,  0.0024,  0.0192,  0.0296, -0.0012,  0.0354,  0.0409, -0.0309,\n",
      "        -0.0017,  0.0104, -0.0353, -0.0355,  0.0104, -0.0186,  0.0394,  0.0164,\n",
      "        -0.0133, -0.0217, -0.0255, -0.0380, -0.0218,  0.0113,  0.0199, -0.0348,\n",
      "        -0.0036, -0.0051,  0.0207, -0.0321,  0.0390, -0.0066, -0.0123,  0.0181,\n",
      "        -0.0039, -0.0270, -0.0013, -0.0075,  0.0333, -0.0147, -0.0320, -0.0392,\n",
      "        -0.0031, -0.0410,  0.0286,  0.0043,  0.0129,  0.0017, -0.0089,  0.0369,\n",
      "         0.0254,  0.0335, -0.0324,  0.0103, -0.0409, -0.0108, -0.0082, -0.0287,\n",
      "         0.0380, -0.0195, -0.0052, -0.0151,  0.0350,  0.0381, -0.0416, -0.0139,\n",
      "        -0.0237,  0.0086,  0.0226, -0.0143, -0.0338, -0.0223, -0.0108, -0.0328,\n",
      "        -0.0073, -0.0343,  0.0031,  0.0365,  0.0272,  0.0067,  0.0152,  0.0301,\n",
      "        -0.0155, -0.0397, -0.0174, -0.0040,  0.0054,  0.0304,  0.0209,  0.0047],\n",
      "       requires_grad=True)\n",
      "conv5.weight: Parameter containing:\n",
      "tensor([[[[-0.0218, -0.0254, -0.0216],\n",
      "          [ 0.0139,  0.0163,  0.0108],\n",
      "          [-0.0220,  0.0073,  0.0034]],\n",
      "\n",
      "         [[ 0.0108,  0.0248,  0.0157],\n",
      "          [-0.0246,  0.0015, -0.0242],\n",
      "          [ 0.0224, -0.0162,  0.0137]],\n",
      "\n",
      "         [[ 0.0090, -0.0188, -0.0045],\n",
      "          [ 0.0220, -0.0135,  0.0227],\n",
      "          [-0.0216, -0.0130, -0.0159]],\n",
      "\n",
      "         ...,\n",
      "\n",
      "         [[ 0.0181, -0.0162,  0.0065],\n",
      "          [ 0.0183, -0.0146,  0.0155],\n",
      "          [ 0.0217,  0.0037, -0.0226]],\n",
      "\n",
      "         [[-0.0195, -0.0155,  0.0217],\n",
      "          [ 0.0155,  0.0035,  0.0187],\n",
      "          [ 0.0259, -0.0060,  0.0017]],\n",
      "\n",
      "         [[ 0.0123,  0.0011,  0.0090],\n",
      "          [-0.0045,  0.0128,  0.0123],\n",
      "          [ 0.0046,  0.0004, -0.0118]]],\n",
      "\n",
      "\n",
      "        [[[ 0.0045, -0.0021, -0.0084],\n",
      "          [ 0.0001, -0.0228, -0.0116],\n",
      "          [-0.0169, -0.0262, -0.0256]],\n",
      "\n",
      "         [[-0.0057, -0.0011,  0.0091],\n",
      "          [ 0.0253, -0.0093,  0.0055],\n",
      "          [ 0.0131,  0.0258,  0.0010]],\n",
      "\n",
      "         [[ 0.0100,  0.0143,  0.0118],\n",
      "          [ 0.0058, -0.0194, -0.0105],\n",
      "          [ 0.0193,  0.0110,  0.0223]],\n",
      "\n",
      "         ...,\n",
      "\n",
      "         [[ 0.0171, -0.0044, -0.0140],\n",
      "          [-0.0183,  0.0085, -0.0086],\n",
      "          [-0.0260, -0.0021,  0.0149]],\n",
      "\n",
      "         [[ 0.0090, -0.0073,  0.0025],\n",
      "          [-0.0199,  0.0194,  0.0234],\n",
      "          [ 0.0111,  0.0012,  0.0082]],\n",
      "\n",
      "         [[ 0.0192,  0.0039, -0.0069],\n",
      "          [-0.0191,  0.0032,  0.0025],\n",
      "          [-0.0067,  0.0260,  0.0203]]],\n",
      "\n",
      "\n",
      "        [[[-0.0166, -0.0222,  0.0087],\n",
      "          [ 0.0131, -0.0061, -0.0102],\n",
      "          [-0.0230,  0.0165,  0.0099]],\n",
      "\n",
      "         [[ 0.0092,  0.0030,  0.0071],\n",
      "          [-0.0257,  0.0067,  0.0232],\n",
      "          [ 0.0091, -0.0067,  0.0201]],\n",
      "\n",
      "         [[ 0.0170, -0.0051,  0.0158],\n",
      "          [ 0.0136, -0.0086,  0.0185],\n",
      "          [-0.0132, -0.0065,  0.0178]],\n",
      "\n",
      "         ...,\n",
      "\n",
      "         [[ 0.0079, -0.0024,  0.0062],\n",
      "          [-0.0243, -0.0044,  0.0233],\n",
      "          [-0.0093,  0.0225, -0.0231]],\n",
      "\n",
      "         [[-0.0255, -0.0036, -0.0035],\n",
      "          [-0.0052,  0.0260, -0.0262],\n",
      "          [ 0.0028, -0.0183, -0.0132]],\n",
      "\n",
      "         [[ 0.0141,  0.0236,  0.0188],\n",
      "          [ 0.0095, -0.0013,  0.0071],\n",
      "          [ 0.0074,  0.0056, -0.0156]]],\n",
      "\n",
      "\n",
      "        ...,\n",
      "\n",
      "\n",
      "        [[[-0.0042, -0.0079,  0.0104],\n",
      "          [-0.0044,  0.0082,  0.0145],\n",
      "          [ 0.0201, -0.0055,  0.0101]],\n",
      "\n",
      "         [[-0.0154, -0.0199,  0.0028],\n",
      "          [-0.0222, -0.0014, -0.0120],\n",
      "          [-0.0179,  0.0173, -0.0090]],\n",
      "\n",
      "         [[ 0.0017, -0.0044,  0.0045],\n",
      "          [-0.0138,  0.0085, -0.0142],\n",
      "          [ 0.0012,  0.0133, -0.0146]],\n",
      "\n",
      "         ...,\n",
      "\n",
      "         [[ 0.0052, -0.0192, -0.0199],\n",
      "          [ 0.0125,  0.0208,  0.0019],\n",
      "          [-0.0231,  0.0188,  0.0045]],\n",
      "\n",
      "         [[-0.0143,  0.0254,  0.0182],\n",
      "          [-0.0103, -0.0233,  0.0062],\n",
      "          [-0.0076, -0.0065, -0.0010]],\n",
      "\n",
      "         [[-0.0008,  0.0213,  0.0082],\n",
      "          [-0.0194, -0.0254,  0.0102],\n",
      "          [-0.0064, -0.0029,  0.0189]]],\n",
      "\n",
      "\n",
      "        [[[ 0.0204,  0.0195, -0.0216],\n",
      "          [-0.0065,  0.0020,  0.0135],\n",
      "          [ 0.0123, -0.0203, -0.0166]],\n",
      "\n",
      "         [[ 0.0182, -0.0246,  0.0017],\n",
      "          [ 0.0168,  0.0024, -0.0017],\n",
      "          [ 0.0063, -0.0004,  0.0025]],\n",
      "\n",
      "         [[ 0.0101,  0.0208,  0.0108],\n",
      "          [ 0.0189,  0.0260, -0.0053],\n",
      "          [ 0.0228, -0.0033, -0.0071]],\n",
      "\n",
      "         ...,\n",
      "\n",
      "         [[-0.0123,  0.0212,  0.0245],\n",
      "          [-0.0105, -0.0244, -0.0234],\n",
      "          [ 0.0233, -0.0199,  0.0082]],\n",
      "\n",
      "         [[-0.0182, -0.0221, -0.0042],\n",
      "          [-0.0016,  0.0183,  0.0080],\n",
      "          [-0.0040, -0.0021,  0.0107]],\n",
      "\n",
      "         [[-0.0133, -0.0022, -0.0237],\n",
      "          [-0.0220, -0.0039,  0.0042],\n",
      "          [-0.0223,  0.0080, -0.0235]]],\n",
      "\n",
      "\n",
      "        [[[-0.0212, -0.0067,  0.0263],\n",
      "          [-0.0233,  0.0077, -0.0252],\n",
      "          [-0.0206,  0.0233, -0.0233]],\n",
      "\n",
      "         [[ 0.0246, -0.0219, -0.0094],\n",
      "          [-0.0214,  0.0252, -0.0119],\n",
      "          [ 0.0156,  0.0058,  0.0153]],\n",
      "\n",
      "         [[ 0.0016,  0.0089, -0.0212],\n",
      "          [-0.0150, -0.0230, -0.0038],\n",
      "          [-0.0101, -0.0215, -0.0203]],\n",
      "\n",
      "         ...,\n",
      "\n",
      "         [[-0.0209, -0.0026, -0.0034],\n",
      "          [ 0.0090,  0.0086,  0.0250],\n",
      "          [-0.0144, -0.0158,  0.0226]],\n",
      "\n",
      "         [[ 0.0011, -0.0190,  0.0135],\n",
      "          [ 0.0172, -0.0069, -0.0171],\n",
      "          [ 0.0088,  0.0257, -0.0093]],\n",
      "\n",
      "         [[ 0.0201,  0.0105,  0.0244],\n",
      "          [-0.0118, -0.0231,  0.0022],\n",
      "          [-0.0072, -0.0100, -0.0249]]]], requires_grad=True)\n",
      "conv5.bias: Parameter containing:\n",
      "tensor([-0.0224,  0.0244,  0.0105, -0.0035,  0.0084,  0.0085, -0.0216, -0.0240,\n",
      "         0.0194,  0.0153,  0.0009, -0.0201,  0.0031,  0.0119, -0.0006, -0.0249,\n",
      "         0.0139, -0.0112, -0.0037, -0.0168,  0.0186,  0.0136,  0.0213, -0.0133,\n",
      "         0.0244, -0.0123,  0.0052, -0.0213,  0.0207, -0.0105, -0.0032, -0.0252,\n",
      "         0.0123, -0.0239,  0.0255, -0.0234, -0.0153,  0.0130,  0.0174, -0.0099,\n",
      "         0.0211,  0.0260,  0.0179,  0.0121,  0.0263, -0.0157,  0.0099,  0.0157,\n",
      "         0.0103, -0.0042,  0.0033,  0.0047, -0.0038,  0.0067,  0.0142,  0.0234,\n",
      "         0.0258,  0.0123,  0.0197, -0.0148,  0.0058,  0.0253,  0.0263, -0.0118,\n",
      "        -0.0257, -0.0080,  0.0114, -0.0176,  0.0245, -0.0002,  0.0154, -0.0229,\n",
      "        -0.0129, -0.0142, -0.0217, -0.0099,  0.0124, -0.0107,  0.0084,  0.0124,\n",
      "        -0.0223, -0.0090,  0.0029, -0.0036, -0.0015,  0.0041,  0.0113, -0.0165,\n",
      "        -0.0017, -0.0114,  0.0124,  0.0112, -0.0232,  0.0214,  0.0255,  0.0033,\n",
      "         0.0023,  0.0217, -0.0010, -0.0217,  0.0207, -0.0057, -0.0116, -0.0200,\n",
      "        -0.0036,  0.0213, -0.0147, -0.0027,  0.0100, -0.0100,  0.0140,  0.0212,\n",
      "        -0.0128, -0.0027, -0.0161,  0.0051,  0.0024, -0.0054,  0.0235,  0.0074,\n",
      "        -0.0164, -0.0227,  0.0035, -0.0114,  0.0190, -0.0048,  0.0171,  0.0211,\n",
      "         0.0202, -0.0115,  0.0081, -0.0125,  0.0101, -0.0076, -0.0162, -0.0121,\n",
      "        -0.0101,  0.0225, -0.0172,  0.0132,  0.0228,  0.0077,  0.0059, -0.0175,\n",
      "         0.0155, -0.0090,  0.0015, -0.0198, -0.0131,  0.0215,  0.0236,  0.0060,\n",
      "         0.0257,  0.0157, -0.0211,  0.0101,  0.0029, -0.0023, -0.0015, -0.0158,\n",
      "        -0.0065, -0.0018, -0.0165,  0.0229,  0.0115, -0.0257, -0.0167, -0.0163,\n",
      "         0.0138,  0.0241,  0.0023,  0.0066, -0.0244, -0.0253,  0.0142,  0.0235,\n",
      "         0.0030,  0.0019,  0.0118, -0.0239, -0.0007, -0.0023,  0.0102,  0.0120,\n",
      "        -0.0255, -0.0257,  0.0049, -0.0248,  0.0165, -0.0255, -0.0213,  0.0131,\n",
      "         0.0246, -0.0259,  0.0031,  0.0123,  0.0081,  0.0230,  0.0237,  0.0103,\n",
      "         0.0217, -0.0143, -0.0180, -0.0167,  0.0078,  0.0057,  0.0137,  0.0100,\n",
      "         0.0226,  0.0146, -0.0080, -0.0182, -0.0162,  0.0115,  0.0116,  0.0099,\n",
      "        -0.0221,  0.0226, -0.0194, -0.0126, -0.0152, -0.0181, -0.0023, -0.0167,\n",
      "        -0.0202,  0.0087, -0.0215, -0.0263, -0.0256, -0.0174,  0.0015, -0.0235,\n",
      "        -0.0025, -0.0225, -0.0181,  0.0108, -0.0177,  0.0080,  0.0026, -0.0261,\n",
      "         0.0082,  0.0108,  0.0072,  0.0165,  0.0227, -0.0171, -0.0079, -0.0159,\n",
      "         0.0125,  0.0136, -0.0092, -0.0149, -0.0183,  0.0200, -0.0075,  0.0178],\n",
      "       requires_grad=True)\n",
      "conv6.weight: Parameter containing:\n",
      "tensor([[[[-0.0119, -0.0172, -0.0077],\n",
      "          [-0.0140, -0.0111,  0.0160],\n",
      "          [ 0.0112,  0.0122, -0.0198]],\n",
      "\n",
      "         [[ 0.0207,  0.0117, -0.0088],\n",
      "          [-0.0080, -0.0034,  0.0138],\n",
      "          [-0.0158, -0.0067,  0.0192]],\n",
      "\n",
      "         [[ 0.0173, -0.0063,  0.0171],\n",
      "          [ 0.0021,  0.0191, -0.0186],\n",
      "          [-0.0058,  0.0182,  0.0004]],\n",
      "\n",
      "         ...,\n",
      "\n",
      "         [[ 0.0005, -0.0114,  0.0168],\n",
      "          [ 0.0076,  0.0202,  0.0166],\n",
      "          [-0.0146,  0.0020, -0.0094]],\n",
      "\n",
      "         [[ 0.0177, -0.0129,  0.0067],\n",
      "          [ 0.0180,  0.0109, -0.0162],\n",
      "          [ 0.0076,  0.0188,  0.0171]],\n",
      "\n",
      "         [[-0.0017, -0.0099,  0.0006],\n",
      "          [-0.0162,  0.0191, -0.0154],\n",
      "          [ 0.0108, -0.0097,  0.0073]]],\n",
      "\n",
      "\n",
      "        [[[ 0.0039,  0.0179, -0.0133],\n",
      "          [ 0.0064,  0.0136, -0.0054],\n",
      "          [-0.0040,  0.0021,  0.0081]],\n",
      "\n",
      "         [[-0.0054,  0.0119,  0.0192],\n",
      "          [ 0.0193, -0.0195,  0.0161],\n",
      "          [-0.0153, -0.0163, -0.0039]],\n",
      "\n",
      "         [[-0.0168, -0.0050,  0.0091],\n",
      "          [-0.0008, -0.0158,  0.0054],\n",
      "          [-0.0186, -0.0038,  0.0045]],\n",
      "\n",
      "         ...,\n",
      "\n",
      "         [[ 0.0034, -0.0178, -0.0070],\n",
      "          [-0.0187, -0.0124, -0.0013],\n",
      "          [ 0.0036, -0.0141,  0.0144]],\n",
      "\n",
      "         [[ 0.0110,  0.0130, -0.0064],\n",
      "          [-0.0042,  0.0143, -0.0072],\n",
      "          [ 0.0132, -0.0007, -0.0032]],\n",
      "\n",
      "         [[ 0.0133,  0.0012,  0.0054],\n",
      "          [-0.0113, -0.0114,  0.0029],\n",
      "          [ 0.0175,  0.0073,  0.0123]]],\n",
      "\n",
      "\n",
      "        [[[-0.0064, -0.0151,  0.0118],\n",
      "          [ 0.0195, -0.0038, -0.0189],\n",
      "          [ 0.0127, -0.0085, -0.0013]],\n",
      "\n",
      "         [[-0.0058,  0.0023,  0.0104],\n",
      "          [ 0.0010,  0.0149,  0.0047],\n",
      "          [-0.0018,  0.0015,  0.0174]],\n",
      "\n",
      "         [[-0.0206,  0.0185,  0.0156],\n",
      "          [ 0.0159, -0.0062,  0.0080],\n",
      "          [-0.0084,  0.0148, -0.0088]],\n",
      "\n",
      "         ...,\n",
      "\n",
      "         [[-0.0100,  0.0062,  0.0104],\n",
      "          [-0.0104,  0.0091, -0.0074],\n",
      "          [-0.0070, -0.0083, -0.0158]],\n",
      "\n",
      "         [[ 0.0010, -0.0179,  0.0091],\n",
      "          [-0.0033,  0.0014, -0.0124],\n",
      "          [-0.0090, -0.0082, -0.0004]],\n",
      "\n",
      "         [[-0.0074,  0.0026, -0.0185],\n",
      "          [-0.0003,  0.0164, -0.0091],\n",
      "          [ 0.0034, -0.0037, -0.0046]]],\n",
      "\n",
      "\n",
      "        ...,\n",
      "\n",
      "\n",
      "        [[[ 0.0147, -0.0068, -0.0145],\n",
      "          [-0.0200, -0.0133,  0.0142],\n",
      "          [-0.0030, -0.0125,  0.0120]],\n",
      "\n",
      "         [[-0.0111,  0.0096,  0.0127],\n",
      "          [-0.0041, -0.0203, -0.0169],\n",
      "          [ 0.0176,  0.0032, -0.0098]],\n",
      "\n",
      "         [[-0.0185, -0.0207,  0.0089],\n",
      "          [ 0.0170, -0.0151,  0.0202],\n",
      "          [-0.0187, -0.0078, -0.0034]],\n",
      "\n",
      "         ...,\n",
      "\n",
      "         [[ 0.0038,  0.0199,  0.0162],\n",
      "          [ 0.0118,  0.0045, -0.0181],\n",
      "          [ 0.0199, -0.0144, -0.0037]],\n",
      "\n",
      "         [[-0.0050,  0.0128,  0.0192],\n",
      "          [-0.0077, -0.0140, -0.0097],\n",
      "          [-0.0193,  0.0144,  0.0002]],\n",
      "\n",
      "         [[ 0.0015,  0.0068, -0.0007],\n",
      "          [-0.0202, -0.0079, -0.0150],\n",
      "          [ 0.0082, -0.0168, -0.0096]]],\n",
      "\n",
      "\n",
      "        [[[-0.0007, -0.0019, -0.0155],\n",
      "          [-0.0149,  0.0028,  0.0175],\n",
      "          [-0.0208,  0.0111,  0.0093]],\n",
      "\n",
      "         [[-0.0106, -0.0167,  0.0116],\n",
      "          [-0.0150, -0.0163,  0.0034],\n",
      "          [-0.0133,  0.0133, -0.0004]],\n",
      "\n",
      "         [[ 0.0174, -0.0148,  0.0163],\n",
      "          [-0.0159, -0.0003,  0.0016],\n",
      "          [ 0.0111, -0.0009,  0.0098]],\n",
      "\n",
      "         ...,\n",
      "\n",
      "         [[ 0.0111,  0.0022,  0.0116],\n",
      "          [ 0.0084, -0.0094,  0.0160],\n",
      "          [ 0.0203, -0.0049,  0.0162]],\n",
      "\n",
      "         [[ 0.0168, -0.0085, -0.0157],\n",
      "          [ 0.0038,  0.0050,  0.0138],\n",
      "          [-0.0112,  0.0182, -0.0182]],\n",
      "\n",
      "         [[-0.0055,  0.0161, -0.0094],\n",
      "          [-0.0105, -0.0017,  0.0146],\n",
      "          [-0.0076,  0.0039, -0.0056]]],\n",
      "\n",
      "\n",
      "        [[[ 0.0086, -0.0109, -0.0173],\n",
      "          [ 0.0058,  0.0176, -0.0030],\n",
      "          [ 0.0115,  0.0044, -0.0071]],\n",
      "\n",
      "         [[ 0.0077,  0.0010,  0.0027],\n",
      "          [ 0.0133,  0.0086, -0.0129],\n",
      "          [ 0.0191, -0.0035, -0.0165]],\n",
      "\n",
      "         [[-0.0019, -0.0089, -0.0068],\n",
      "          [-0.0146, -0.0112, -0.0032],\n",
      "          [ 0.0094, -0.0143, -0.0096]],\n",
      "\n",
      "         ...,\n",
      "\n",
      "         [[ 0.0069,  0.0004,  0.0122],\n",
      "          [-0.0166, -0.0130, -0.0085],\n",
      "          [ 0.0014,  0.0204, -0.0163]],\n",
      "\n",
      "         [[-0.0009,  0.0184,  0.0003],\n",
      "          [ 0.0063, -0.0082, -0.0066],\n",
      "          [-0.0002,  0.0103,  0.0003]],\n",
      "\n",
      "         [[ 0.0153, -0.0180,  0.0036],\n",
      "          [-0.0024,  0.0127, -0.0083],\n",
      "          [ 0.0010, -0.0144,  0.0040]]]], requires_grad=True)\n",
      "conv6.bias: Parameter containing:\n",
      "tensor([-0.0050,  0.0115,  0.0088, -0.0114,  0.0033,  0.0180, -0.0027, -0.0147,\n",
      "         0.0049,  0.0141, -0.0132, -0.0009,  0.0150, -0.0151,  0.0149,  0.0089,\n",
      "        -0.0186, -0.0158,  0.0160,  0.0025, -0.0206,  0.0138, -0.0045, -0.0089,\n",
      "        -0.0097, -0.0181, -0.0003,  0.0037,  0.0198,  0.0088,  0.0019, -0.0012,\n",
      "        -0.0170, -0.0199, -0.0018, -0.0098,  0.0051, -0.0056, -0.0119,  0.0045,\n",
      "         0.0022,  0.0082, -0.0109,  0.0035,  0.0052,  0.0064,  0.0082, -0.0105,\n",
      "        -0.0027, -0.0141,  0.0199,  0.0191,  0.0161, -0.0104, -0.0078,  0.0082,\n",
      "         0.0065,  0.0124,  0.0172,  0.0131, -0.0031,  0.0002, -0.0123,  0.0089,\n",
      "        -0.0191, -0.0192,  0.0028, -0.0101,  0.0164,  0.0007, -0.0202,  0.0192,\n",
      "         0.0036,  0.0081, -0.0025,  0.0021, -0.0028, -0.0131, -0.0140, -0.0015,\n",
      "         0.0111,  0.0012, -0.0158,  0.0054, -0.0129, -0.0134, -0.0043,  0.0089,\n",
      "        -0.0147,  0.0046, -0.0201,  0.0040,  0.0109, -0.0009,  0.0103,  0.0068,\n",
      "        -0.0091, -0.0200,  0.0036, -0.0125, -0.0111, -0.0198, -0.0051, -0.0167,\n",
      "        -0.0120, -0.0121, -0.0012,  0.0096, -0.0071,  0.0203,  0.0166, -0.0028,\n",
      "         0.0006, -0.0016, -0.0197,  0.0045, -0.0121, -0.0106,  0.0119,  0.0041,\n",
      "         0.0144,  0.0138, -0.0057,  0.0163,  0.0168, -0.0109, -0.0028, -0.0135,\n",
      "         0.0048,  0.0117, -0.0044, -0.0054, -0.0171, -0.0028,  0.0121,  0.0057,\n",
      "         0.0061, -0.0111,  0.0080,  0.0052,  0.0167,  0.0078, -0.0121,  0.0038,\n",
      "         0.0185,  0.0002, -0.0097,  0.0086,  0.0114,  0.0175,  0.0109,  0.0088,\n",
      "        -0.0063, -0.0129,  0.0149,  0.0133, -0.0076, -0.0171,  0.0135, -0.0010,\n",
      "         0.0051,  0.0150, -0.0040, -0.0048,  0.0146,  0.0043,  0.0071,  0.0126,\n",
      "        -0.0114, -0.0132,  0.0163,  0.0020, -0.0147,  0.0184,  0.0008,  0.0083,\n",
      "        -0.0035, -0.0026,  0.0089, -0.0121, -0.0207, -0.0112, -0.0177,  0.0173,\n",
      "         0.0113,  0.0181, -0.0195,  0.0098, -0.0200,  0.0158, -0.0133,  0.0187,\n",
      "        -0.0066,  0.0172, -0.0059, -0.0187, -0.0053,  0.0160, -0.0089, -0.0140,\n",
      "        -0.0065,  0.0105,  0.0074,  0.0153, -0.0066, -0.0131, -0.0058, -0.0169,\n",
      "        -0.0084, -0.0016,  0.0180, -0.0139,  0.0129,  0.0136, -0.0084,  0.0078,\n",
      "        -0.0011, -0.0027,  0.0171, -0.0167,  0.0156, -0.0205,  0.0140, -0.0188,\n",
      "        -0.0111, -0.0150, -0.0185,  0.0041, -0.0099,  0.0160,  0.0179, -0.0179,\n",
      "        -0.0014,  0.0190,  0.0015, -0.0072,  0.0108, -0.0135,  0.0145,  0.0116,\n",
      "        -0.0207, -0.0021,  0.0032,  0.0109, -0.0069, -0.0125, -0.0176,  0.0017,\n",
      "         0.0115, -0.0065,  0.0033, -0.0139, -0.0136,  0.0073, -0.0041, -0.0196,\n",
      "        -0.0207, -0.0099,  0.0158, -0.0160,  0.0110,  0.0109, -0.0028,  0.0170,\n",
      "         0.0131,  0.0098, -0.0061,  0.0018, -0.0181,  0.0118, -0.0002,  0.0041,\n",
      "        -0.0161, -0.0076,  0.0039, -0.0196, -0.0140, -0.0117,  0.0032, -0.0037,\n",
      "        -0.0157, -0.0051, -0.0161, -0.0201, -0.0080,  0.0175,  0.0050, -0.0112,\n",
      "        -0.0161, -0.0139,  0.0037,  0.0153,  0.0154, -0.0129, -0.0024, -0.0072,\n",
      "        -0.0185, -0.0132, -0.0149, -0.0198,  0.0078,  0.0183,  0.0081,  0.0199,\n",
      "         0.0051,  0.0016, -0.0112,  0.0144, -0.0196,  0.0173,  0.0205,  0.0154,\n",
      "        -0.0178,  0.0143, -0.0129,  0.0173,  0.0111, -0.0127,  0.0146, -0.0106,\n",
      "        -0.0181,  0.0101,  0.0203,  0.0131,  0.0055, -0.0011,  0.0152,  0.0101,\n",
      "        -0.0144, -0.0082, -0.0019,  0.0202, -0.0102, -0.0102, -0.0030, -0.0197,\n",
      "         0.0158,  0.0192, -0.0048, -0.0140,  0.0071,  0.0088,  0.0031, -0.0015,\n",
      "         0.0098,  0.0184, -0.0207,  0.0121, -0.0142,  0.0067, -0.0078,  0.0147,\n",
      "        -0.0032,  0.0076, -0.0003, -0.0011, -0.0097, -0.0029,  0.0154, -0.0175,\n",
      "        -0.0027, -0.0137,  0.0111,  0.0020,  0.0081,  0.0127, -0.0133, -0.0113,\n",
      "         0.0208,  0.0200,  0.0179,  0.0114, -0.0150, -0.0027,  0.0175, -0.0066,\n",
      "        -0.0133, -0.0090,  0.0127,  0.0072,  0.0138,  0.0049,  0.0029, -0.0156,\n",
      "        -0.0070,  0.0066,  0.0129, -0.0176, -0.0101,  0.0194, -0.0083,  0.0025,\n",
      "         0.0097,  0.0061,  0.0030,  0.0106, -0.0027,  0.0011, -0.0131, -0.0095,\n",
      "        -0.0101,  0.0051,  0.0208, -0.0051,  0.0158, -0.0023,  0.0169,  0.0088,\n",
      "         0.0193,  0.0018, -0.0084, -0.0091, -0.0120,  0.0094,  0.0003,  0.0157,\n",
      "        -0.0034,  0.0098,  0.0141,  0.0181, -0.0157,  0.0070, -0.0015, -0.0160,\n",
      "        -0.0097,  0.0027,  0.0074,  0.0140, -0.0149, -0.0150,  0.0016, -0.0025,\n",
      "         0.0082, -0.0202,  0.0074, -0.0051,  0.0003, -0.0133,  0.0045,  0.0178,\n",
      "         0.0163,  0.0151, -0.0009,  0.0148, -0.0131, -0.0054,  0.0187,  0.0104,\n",
      "        -0.0085, -0.0163,  0.0173, -0.0111, -0.0119, -0.0154, -0.0169, -0.0130,\n",
      "         0.0208, -0.0200,  0.0141,  0.0171,  0.0012,  0.0199, -0.0059, -0.0140,\n",
      "         0.0038, -0.0079, -0.0158,  0.0028, -0.0204,  0.0040,  0.0061, -0.0121,\n",
      "         0.0189,  0.0085,  0.0133,  0.0053,  0.0031, -0.0206,  0.0062,  0.0194,\n",
      "        -0.0064, -0.0047,  0.0061,  0.0023,  0.0144,  0.0061,  0.0001,  0.0008,\n",
      "         0.0023, -0.0049,  0.0172, -0.0110, -0.0003, -0.0176,  0.0005,  0.0152,\n",
      "         0.0010, -0.0014, -0.0036,  0.0001,  0.0042,  0.0194,  0.0195,  0.0098,\n",
      "        -0.0166,  0.0021, -0.0064,  0.0184,  0.0070,  0.0187,  0.0067,  0.0029],\n",
      "       requires_grad=True)\n",
      "conv7.weight: Parameter containing:\n",
      "tensor([[[[ 5.1358e-03,  3.6036e-03, -2.4507e-03],\n",
      "          [ 1.2711e-02,  2.4739e-03,  4.5073e-03],\n",
      "          [ 5.0572e-03,  1.0673e-02,  4.9923e-03]],\n",
      "\n",
      "         [[ 1.2363e-02,  8.7861e-03, -7.2102e-03],\n",
      "          [-8.2443e-03,  4.9334e-03, -5.8223e-03],\n",
      "          [ 1.2118e-02, -6.2657e-03, -5.7811e-03]],\n",
      "\n",
      "         [[-5.6843e-03,  7.5158e-03,  5.6405e-03],\n",
      "          [-6.5360e-03, -1.2027e-02, -1.0169e-02],\n",
      "          [ 1.4938e-03,  3.3863e-03, -8.0865e-03]],\n",
      "\n",
      "         ...,\n",
      "\n",
      "         [[ 7.7542e-03,  4.4037e-03, -9.1184e-03],\n",
      "          [-6.6240e-03,  1.8589e-03, -1.1049e-02],\n",
      "          [-8.9770e-03,  9.5628e-03, -2.2394e-03]],\n",
      "\n",
      "         [[ 7.9873e-03, -6.2555e-03, -2.4458e-03],\n",
      "          [ 1.8680e-03, -1.2743e-02,  8.1648e-03],\n",
      "          [ 4.8599e-03, -9.6716e-03,  5.7146e-03]],\n",
      "\n",
      "         [[ 6.4289e-03,  7.3552e-03,  1.0783e-02],\n",
      "          [-2.4383e-03,  8.4896e-03, -1.0745e-02],\n",
      "          [-1.2975e-03, -5.5326e-03, -7.0702e-03]]],\n",
      "\n",
      "\n",
      "        [[[ 7.0314e-03, -2.9870e-03,  4.2773e-03],\n",
      "          [ 1.1150e-03,  5.7737e-03, -4.0699e-03],\n",
      "          [-7.2531e-03, -7.0808e-03, -9.8960e-03]],\n",
      "\n",
      "         [[ 4.9952e-03,  7.9343e-03,  6.3374e-03],\n",
      "          [ 8.1083e-03, -6.9442e-03, -3.4561e-03],\n",
      "          [-2.0601e-04,  1.0765e-02, -5.2028e-03]],\n",
      "\n",
      "         [[-1.1596e-02, -5.9670e-03, -1.4619e-03],\n",
      "          [ 2.0009e-03,  4.2308e-03,  2.9091e-03],\n",
      "          [ 1.6565e-03, -6.1046e-03, -4.6608e-03]],\n",
      "\n",
      "         ...,\n",
      "\n",
      "         [[-1.0792e-02, -1.5393e-04, -1.0163e-02],\n",
      "          [ 7.8866e-04, -4.6030e-03,  1.2249e-02],\n",
      "          [ 1.0326e-02,  5.0574e-03, -1.0006e-03]],\n",
      "\n",
      "         [[-5.8986e-03, -9.6348e-03,  6.2205e-03],\n",
      "          [-1.0189e-02, -9.8273e-03, -5.7653e-03],\n",
      "          [-2.7235e-03,  6.1790e-03,  3.6277e-03]],\n",
      "\n",
      "         [[ 1.1278e-02,  1.3305e-03,  1.0158e-02],\n",
      "          [ 2.5428e-03,  9.8165e-03, -9.0329e-03],\n",
      "          [-7.8866e-03,  6.8589e-03, -5.9196e-04]]],\n",
      "\n",
      "\n",
      "        [[[-1.2550e-02,  1.7193e-03, -8.4639e-03],\n",
      "          [ 1.0709e-02,  1.2983e-04, -6.3332e-03],\n",
      "          [ 6.5433e-03,  7.9733e-03,  6.4703e-03]],\n",
      "\n",
      "         [[ 1.1843e-02,  3.6740e-03, -3.8973e-03],\n",
      "          [-1.7280e-03,  7.3832e-03, -9.1276e-03],\n",
      "          [ 3.4970e-03, -6.2266e-03, -9.6465e-03]],\n",
      "\n",
      "         [[-1.8242e-03,  4.6232e-03,  3.2073e-03],\n",
      "          [ 1.0552e-02, -5.4430e-03, -5.1679e-03],\n",
      "          [ 5.2045e-03,  1.2691e-02, -1.2278e-02]],\n",
      "\n",
      "         ...,\n",
      "\n",
      "         [[-6.8674e-03,  4.2978e-03, -9.6646e-03],\n",
      "          [ 8.1497e-03,  1.1832e-02,  3.1599e-03],\n",
      "          [ 7.1481e-03,  1.3959e-03,  1.6334e-03]],\n",
      "\n",
      "         [[ 9.5114e-03, -9.9067e-03,  2.7402e-03],\n",
      "          [ 7.9379e-03,  8.8845e-03, -1.1375e-02],\n",
      "          [ 7.4319e-03, -2.8510e-03,  3.6145e-03]],\n",
      "\n",
      "         [[-7.7049e-03, -2.8146e-03, -4.7974e-03],\n",
      "          [-7.8751e-03, -6.4905e-03,  2.4697e-03],\n",
      "          [ 9.2001e-03,  7.4380e-04, -1.0432e-02]]],\n",
      "\n",
      "\n",
      "        ...,\n",
      "\n",
      "\n",
      "        [[[-5.0434e-03,  7.1161e-03,  2.9296e-04],\n",
      "          [ 6.3536e-03,  7.1651e-03, -6.9070e-03],\n",
      "          [-5.6802e-03,  8.9500e-03, -4.0263e-03]],\n",
      "\n",
      "         [[-6.7974e-03,  9.4153e-03,  1.0546e-03],\n",
      "          [ 1.2438e-02, -9.5103e-03, -1.1584e-02],\n",
      "          [-2.5719e-03, -8.4143e-03,  1.1668e-02]],\n",
      "\n",
      "         [[-5.0802e-03,  1.7722e-03, -5.9246e-03],\n",
      "          [ 1.0057e-02,  2.1829e-03, -7.5180e-03],\n",
      "          [-5.2664e-03,  3.8968e-03,  4.8296e-03]],\n",
      "\n",
      "         ...,\n",
      "\n",
      "         [[-6.2483e-03,  9.0449e-03,  7.2223e-03],\n",
      "          [ 3.6866e-03, -5.3817e-03,  2.4025e-03],\n",
      "          [ 7.0086e-04, -1.1250e-02, -1.1529e-02]],\n",
      "\n",
      "         [[-1.1033e-02, -7.5315e-03, -7.5217e-03],\n",
      "          [-4.7638e-03, -5.8680e-04,  3.0773e-03],\n",
      "          [-5.8447e-03, -1.0624e-02, -7.2738e-03]],\n",
      "\n",
      "         [[-5.1771e-03,  7.3147e-03, -1.1277e-02],\n",
      "          [ 2.4288e-03,  3.7795e-03, -9.9383e-03],\n",
      "          [-1.1131e-03,  1.1610e-02,  1.0479e-02]]],\n",
      "\n",
      "\n",
      "        [[[ 8.3096e-03, -1.0447e-02,  9.8030e-03],\n",
      "          [-8.7958e-03,  5.8427e-03, -1.0045e-02],\n",
      "          [-4.4862e-03, -7.4394e-03, -4.5108e-03]],\n",
      "\n",
      "         [[ 7.3837e-03,  8.3981e-05,  9.7053e-03],\n",
      "          [ 8.3069e-03, -6.0528e-03,  6.8927e-03],\n",
      "          [ 3.4399e-03, -8.2326e-03, -7.7302e-03]],\n",
      "\n",
      "         [[ 8.0812e-03,  5.0391e-03,  5.7679e-03],\n",
      "          [-3.5985e-03, -1.2342e-02, -1.0218e-02],\n",
      "          [-1.0956e-02, -1.0559e-02,  7.4846e-03]],\n",
      "\n",
      "         ...,\n",
      "\n",
      "         [[ 9.0490e-03,  8.6607e-03,  3.7402e-03],\n",
      "          [-1.1196e-02, -8.2118e-03, -5.5753e-03],\n",
      "          [-8.3472e-03,  1.0534e-02,  2.4228e-03]],\n",
      "\n",
      "         [[ 1.5519e-03,  9.1542e-03, -7.3812e-03],\n",
      "          [-9.2889e-03, -2.9571e-03, -4.6406e-03],\n",
      "          [ 3.3632e-04, -8.1207e-03,  8.0484e-03]],\n",
      "\n",
      "         [[-1.2730e-02,  1.6098e-03, -1.3075e-03],\n",
      "          [-7.7611e-03, -6.2929e-03, -4.2584e-03],\n",
      "          [-1.0480e-02, -5.3280e-03, -7.5944e-03]]],\n",
      "\n",
      "\n",
      "        [[[-5.2268e-03,  1.1821e-02,  1.2544e-02],\n",
      "          [-1.0979e-02,  1.1086e-02, -3.4766e-03],\n",
      "          [-9.3421e-03,  3.1080e-03, -1.1546e-02]],\n",
      "\n",
      "         [[ 8.9848e-03,  4.2653e-03, -9.6172e-03],\n",
      "          [ 6.4204e-03,  8.5534e-03, -5.5401e-03],\n",
      "          [ 6.3011e-03,  6.7186e-03,  1.6832e-03]],\n",
      "\n",
      "         [[ 1.1797e-02, -1.1849e-02,  3.8226e-03],\n",
      "          [ 8.7664e-03, -7.4625e-03,  1.1361e-02],\n",
      "          [-4.0829e-03, -1.0364e-02,  4.6564e-03]],\n",
      "\n",
      "         ...,\n",
      "\n",
      "         [[ 1.1615e-02,  6.2522e-03, -1.2465e-02],\n",
      "          [ 4.2413e-03, -7.3791e-03,  2.8724e-03],\n",
      "          [ 2.5538e-03, -1.1083e-02,  1.2477e-02]],\n",
      "\n",
      "         [[-9.1141e-03, -2.1065e-03,  1.1801e-02],\n",
      "          [-3.9732e-03, -5.5228e-03,  1.1195e-02],\n",
      "          [ 1.1211e-02, -8.7063e-03, -3.2705e-03]],\n",
      "\n",
      "         [[-9.7070e-03,  1.0987e-02, -6.9203e-03],\n",
      "          [ 8.3791e-03, -5.6489e-03, -3.1484e-03],\n",
      "          [ 8.4655e-03, -4.9367e-03, -1.1149e-02]]]], requires_grad=True)\n",
      "conv7.bias: Parameter containing:\n",
      "tensor([-9.2735e-03, -5.7434e-04, -3.7638e-04,  1.6422e-03, -8.9763e-03,\n",
      "        -1.2847e-02,  4.2197e-03,  3.3913e-05,  7.5858e-03, -2.1922e-03,\n",
      "         1.0848e-02, -7.9693e-03, -1.0093e-02,  3.6160e-04,  1.2623e-02,\n",
      "         7.2380e-03, -2.3600e-03, -7.9814e-03,  1.2733e-03,  9.2203e-03,\n",
      "         3.1394e-03,  7.8022e-03,  4.5571e-03,  1.2471e-02,  4.8591e-03,\n",
      "        -5.8950e-03, -3.4184e-03,  6.0347e-03,  8.2337e-03,  1.1286e-02,\n",
      "         1.2288e-02, -6.1347e-03,  8.2999e-03,  9.0870e-03, -3.7372e-03,\n",
      "        -1.0131e-03,  1.1875e-02, -1.0760e-02,  5.5395e-03,  4.5393e-03,\n",
      "        -4.6260e-03, -2.4658e-03, -9.7791e-03, -6.3394e-04, -1.1136e-02,\n",
      "        -6.6963e-03, -5.9843e-03, -1.2654e-02,  7.1379e-04, -2.9685e-03,\n",
      "         6.8810e-04,  7.7382e-03, -1.1225e-02,  7.7222e-03, -8.3222e-04,\n",
      "         1.1095e-02,  8.2842e-03, -1.2117e-02,  1.1177e-02,  8.8225e-03,\n",
      "         1.1505e-02,  7.7586e-04, -5.6796e-03,  8.8768e-03,  2.9974e-03,\n",
      "        -1.1988e-02, -5.5239e-03, -1.3562e-04, -1.0548e-02, -4.3499e-03,\n",
      "        -4.7794e-03,  1.0246e-02, -8.9037e-03,  8.2577e-03, -6.1713e-03,\n",
      "         1.1911e-02, -4.1487e-03,  4.6759e-03, -3.6344e-03,  4.8234e-03,\n",
      "        -4.6377e-03,  7.8164e-03, -3.6802e-04,  6.4404e-03, -2.3749e-03,\n",
      "         6.0638e-03, -4.0104e-03,  1.1042e-03,  7.9256e-03, -2.9769e-03,\n",
      "         7.4351e-03, -5.3032e-03, -4.2982e-03, -6.2656e-03,  8.0654e-03,\n",
      "         3.6661e-03,  9.5574e-03,  1.0839e-02, -8.2422e-03,  5.0707e-03,\n",
      "         6.5739e-03, -6.3188e-03,  6.6460e-03, -3.4750e-03,  7.5433e-03,\n",
      "         8.1256e-03, -8.2941e-03,  1.2855e-03, -1.1809e-03,  8.3128e-03,\n",
      "         7.9654e-03,  8.2498e-03, -2.8277e-03,  1.2247e-03,  1.1236e-02,\n",
      "        -1.5987e-03, -8.9934e-03,  6.4643e-03, -1.2767e-02,  6.1751e-03,\n",
      "        -9.8491e-03,  1.1995e-02, -9.6951e-03, -8.7270e-03,  2.6229e-04,\n",
      "         7.1035e-03, -7.7406e-03,  2.4262e-03, -4.9839e-04, -3.4132e-03,\n",
      "         3.8810e-03,  2.7314e-03,  1.1508e-02, -3.0866e-03,  1.0073e-02,\n",
      "        -8.9630e-05,  4.8399e-03, -6.6954e-03, -7.2877e-03,  9.2021e-03,\n",
      "        -1.2244e-03,  5.2652e-04, -1.2854e-02, -5.8469e-03,  7.7039e-03,\n",
      "        -9.7006e-03,  6.0364e-03,  3.6784e-03, -1.0191e-02, -3.1254e-03,\n",
      "        -4.9325e-03,  4.0136e-03, -4.5372e-03, -5.8030e-03, -3.0398e-03,\n",
      "        -1.2370e-02,  4.8798e-03, -1.1766e-02,  1.9738e-03, -8.8669e-03,\n",
      "        -8.2178e-03, -2.3485e-03, -7.7731e-03,  8.9940e-03, -2.1845e-03,\n",
      "         3.8923e-05,  4.0839e-03,  1.1187e-02,  8.3775e-03, -7.8712e-03,\n",
      "        -1.1194e-02, -5.0269e-03,  4.0636e-03, -1.2454e-02, -3.6089e-03,\n",
      "         5.8592e-03,  4.4598e-03,  1.2633e-03,  8.8570e-03,  3.0250e-03,\n",
      "         1.4630e-04, -4.7996e-03,  8.4652e-03,  3.0353e-03, -1.1659e-02,\n",
      "        -5.5621e-03,  1.2309e-02, -2.2799e-03,  2.2346e-03, -3.4684e-03,\n",
      "        -9.6877e-03,  1.1504e-03,  4.3821e-03, -5.4857e-03,  7.7162e-03,\n",
      "        -9.9414e-03, -5.9688e-03, -9.9702e-03,  1.2041e-02,  1.0811e-02,\n",
      "        -5.3223e-03, -9.5380e-04, -8.4477e-03, -2.0655e-03,  1.2270e-02,\n",
      "        -7.9574e-03, -6.5457e-03, -2.3148e-03,  1.1615e-02,  2.0258e-03,\n",
      "         6.4126e-03,  9.0756e-03,  9.5090e-03, -1.1620e-02, -2.7616e-03,\n",
      "         7.6522e-03, -1.8584e-03, -1.3552e-03,  9.3914e-03,  1.0277e-02,\n",
      "         2.2682e-03,  9.4243e-03, -5.9888e-03,  1.1995e-02, -7.1630e-03,\n",
      "         1.1929e-02,  1.2613e-02,  6.6293e-03, -1.0722e-02, -1.5719e-03,\n",
      "         3.9408e-03,  6.5951e-03,  1.8032e-03,  1.2824e-02,  3.6611e-03,\n",
      "         3.8523e-03,  7.6657e-03, -5.2785e-03,  2.2175e-03,  9.2240e-03,\n",
      "        -4.1752e-03, -1.0512e-02,  7.3968e-03, -1.1588e-02,  3.1379e-04,\n",
      "         8.9603e-03, -6.1190e-03,  4.4185e-03,  1.4413e-03,  7.7535e-04,\n",
      "        -1.8292e-03,  5.1526e-03, -6.9334e-03,  5.4382e-03,  4.8114e-03,\n",
      "        -9.5150e-03], requires_grad=True)\n",
      "conv8.weight: Parameter containing:\n",
      "tensor([[[[ 3.5412e-03, -1.1914e-02,  8.1840e-03],\n",
      "          [-1.5916e-02, -1.0282e-02, -7.7844e-04],\n",
      "          [ 1.1323e-03,  1.6406e-02,  8.6941e-03]],\n",
      "\n",
      "         [[ 1.7855e-02,  2.0391e-02, -3.6177e-03],\n",
      "          [-1.4379e-02,  5.4514e-03, -7.1634e-03],\n",
      "          [ 1.2602e-02, -1.2181e-02, -3.5193e-03]],\n",
      "\n",
      "         [[-3.0863e-03,  1.9525e-02, -7.8152e-03],\n",
      "          [ 3.2935e-03, -1.9094e-02,  1.8082e-02],\n",
      "          [ 6.0948e-03, -1.5010e-02, -6.8005e-03]],\n",
      "\n",
      "         ...,\n",
      "\n",
      "         [[-4.7061e-03,  1.3770e-02,  1.7445e-02],\n",
      "          [ 1.9221e-02,  1.1309e-02,  1.1915e-02],\n",
      "          [ 7.7071e-03,  1.5203e-02, -1.1513e-02]],\n",
      "\n",
      "         [[-1.5083e-02,  1.0210e-02,  6.5906e-03],\n",
      "          [-1.9651e-02, -2.4839e-03,  3.1176e-03],\n",
      "          [ 3.4155e-03,  7.9565e-05,  4.8866e-03]],\n",
      "\n",
      "         [[-2.0281e-03, -2.0275e-02, -2.7851e-03],\n",
      "          [ 1.2058e-02, -1.2734e-02, -1.6734e-02],\n",
      "          [ 1.4213e-02, -1.5305e-02, -5.4916e-03]]],\n",
      "\n",
      "\n",
      "        [[[-7.9696e-03,  1.0030e-02,  3.3838e-03],\n",
      "          [ 1.5255e-02, -1.1504e-02, -3.5062e-03],\n",
      "          [ 8.0655e-03,  1.9453e-02,  1.8020e-02]],\n",
      "\n",
      "         [[ 4.3516e-03,  1.8181e-02,  3.6861e-03],\n",
      "          [-2.0551e-03, -1.1443e-02, -1.5796e-02],\n",
      "          [-1.3160e-02,  9.6361e-03,  1.2432e-02]],\n",
      "\n",
      "         [[-6.2315e-03,  8.8968e-04, -4.2479e-03],\n",
      "          [ 1.0054e-02, -6.6160e-03, -1.2190e-02],\n",
      "          [-1.9530e-02, -1.2939e-02,  1.7018e-02]],\n",
      "\n",
      "         ...,\n",
      "\n",
      "         [[ 9.1310e-04, -1.8932e-02, -1.0613e-02],\n",
      "          [ 9.3315e-03, -6.2876e-03, -1.5303e-02],\n",
      "          [ 1.3862e-02,  4.1993e-03, -1.2181e-02]],\n",
      "\n",
      "         [[-1.2128e-02, -1.8204e-03, -1.3490e-02],\n",
      "          [-1.8695e-02,  6.0919e-03, -1.2642e-02],\n",
      "          [ 2.8305e-03, -4.2726e-03, -2.0339e-03]],\n",
      "\n",
      "         [[ 1.3034e-02,  1.1369e-02, -1.6434e-02],\n",
      "          [ 1.5367e-02, -8.1399e-03, -1.5707e-02],\n",
      "          [-5.5883e-03,  8.1351e-03,  2.1529e-03]]],\n",
      "\n",
      "\n",
      "        [[[-9.0179e-03,  1.4577e-02,  1.4488e-03],\n",
      "          [ 6.7187e-05, -5.3726e-03,  6.1283e-03],\n",
      "          [ 4.5878e-03, -1.9468e-02,  8.8551e-03]],\n",
      "\n",
      "         [[ 1.4969e-02,  1.6311e-02, -2.2855e-03],\n",
      "          [-2.8691e-03,  1.0128e-02, -7.2990e-04],\n",
      "          [-8.7046e-03,  2.5991e-03,  7.4803e-03]],\n",
      "\n",
      "         [[-9.7645e-03, -1.7806e-02,  1.3367e-02],\n",
      "          [ 1.5197e-02, -8.9283e-03,  1.9840e-02],\n",
      "          [ 9.5324e-03,  6.4988e-03,  1.6905e-02]],\n",
      "\n",
      "         ...,\n",
      "\n",
      "         [[-1.7346e-02,  1.1039e-02,  4.4877e-03],\n",
      "          [-1.5254e-02, -1.7613e-02, -1.8069e-02],\n",
      "          [-1.0404e-02, -8.5219e-03,  2.0436e-02]],\n",
      "\n",
      "         [[ 1.1679e-02,  1.9300e-02, -7.7146e-04],\n",
      "          [-7.6516e-03, -1.3880e-02, -1.3903e-02],\n",
      "          [-9.2620e-03,  1.6060e-02,  1.7985e-02]],\n",
      "\n",
      "         [[-5.6368e-03, -9.6398e-03, -1.7613e-02],\n",
      "          [ 1.1081e-02,  2.7493e-03,  8.8994e-03],\n",
      "          [ 1.2853e-02, -1.8787e-02,  1.8273e-02]]],\n",
      "\n",
      "\n",
      "        ...,\n",
      "\n",
      "\n",
      "        [[[ 1.7237e-02, -5.7849e-03, -1.1094e-03],\n",
      "          [ 1.7525e-02,  2.1087e-03,  1.6638e-02],\n",
      "          [ 2.2594e-03,  4.9684e-03,  1.6029e-04]],\n",
      "\n",
      "         [[ 2.7649e-03,  1.3980e-02, -1.6271e-02],\n",
      "          [ 1.1621e-02, -1.3995e-02, -1.8503e-02],\n",
      "          [ 4.4519e-03,  1.4479e-02,  1.7495e-02]],\n",
      "\n",
      "         [[-1.4439e-03,  1.8071e-02,  1.6957e-02],\n",
      "          [ 4.4873e-04,  1.7789e-02,  1.9195e-02],\n",
      "          [-1.3972e-02,  1.5393e-02, -2.3074e-03]],\n",
      "\n",
      "         ...,\n",
      "\n",
      "         [[-1.2602e-02,  1.0069e-02, -1.6787e-02],\n",
      "          [-1.2125e-02, -1.3268e-02,  1.1732e-02],\n",
      "          [-1.3431e-02, -3.9202e-03,  1.9331e-02]],\n",
      "\n",
      "         [[ 1.3256e-02,  1.4984e-02, -1.7694e-03],\n",
      "          [-1.9772e-02,  3.4009e-03, -1.5680e-02],\n",
      "          [-1.7659e-02, -7.8721e-03,  1.4046e-02]],\n",
      "\n",
      "         [[-1.0951e-02,  2.1260e-03,  1.0889e-02],\n",
      "          [-9.3475e-03,  1.7788e-02,  1.6738e-02],\n",
      "          [-1.4578e-02,  1.3629e-02, -5.9389e-03]]],\n",
      "\n",
      "\n",
      "        [[[ 6.4399e-03,  1.0404e-02,  1.0525e-02],\n",
      "          [-9.0453e-03,  1.4479e-02,  1.4334e-02],\n",
      "          [ 1.8951e-02, -1.0519e-02, -1.8795e-02]],\n",
      "\n",
      "         [[-1.6256e-02, -1.9583e-02,  1.4617e-03],\n",
      "          [ 1.3977e-02,  1.2056e-02,  3.4701e-04],\n",
      "          [ 5.4913e-03,  1.9157e-03,  4.6172e-03]],\n",
      "\n",
      "         [[ 8.1986e-03, -4.0999e-03,  1.8013e-02],\n",
      "          [ 1.4999e-02,  1.7866e-02, -1.5432e-02],\n",
      "          [-8.8814e-03, -2.5944e-03, -1.1705e-02]],\n",
      "\n",
      "         ...,\n",
      "\n",
      "         [[ 1.2299e-02,  1.6853e-02, -2.0014e-02],\n",
      "          [ 1.4775e-02, -1.6785e-02, -6.7056e-03],\n",
      "          [-5.6934e-03,  2.4428e-03, -1.6661e-02]],\n",
      "\n",
      "         [[ 3.9629e-03, -1.5896e-02,  1.3148e-02],\n",
      "          [-1.6972e-02,  1.6866e-02, -1.3600e-02],\n",
      "          [ 1.4004e-02, -4.3758e-04,  7.9854e-03]],\n",
      "\n",
      "         [[-1.1001e-02,  2.0174e-02,  6.5194e-04],\n",
      "          [-1.8798e-02,  3.8011e-03,  1.8376e-02],\n",
      "          [-5.2070e-03,  1.5471e-02,  1.7005e-02]]],\n",
      "\n",
      "\n",
      "        [[[-1.3040e-02, -9.3603e-03, -2.0782e-02],\n",
      "          [ 1.9168e-03,  1.2232e-02,  1.9523e-02],\n",
      "          [ 1.8387e-02,  6.1452e-04,  6.8640e-03]],\n",
      "\n",
      "         [[ 1.7125e-02, -3.2511e-03, -8.2612e-03],\n",
      "          [ 1.2692e-02, -1.4382e-02,  1.7402e-02],\n",
      "          [ 1.4741e-02, -7.1953e-03,  1.2872e-02]],\n",
      "\n",
      "         [[ 2.0670e-02,  1.1023e-02,  1.0893e-02],\n",
      "          [-1.9025e-02, -8.2818e-03, -8.5832e-03],\n",
      "          [-1.3278e-02, -1.6747e-03, -5.5592e-03]],\n",
      "\n",
      "         ...,\n",
      "\n",
      "         [[-8.9269e-04, -3.7280e-03, -1.2233e-02],\n",
      "          [-1.6528e-03,  4.7839e-03, -2.2763e-03],\n",
      "          [-2.0622e-02, -1.0914e-02,  1.4453e-02]],\n",
      "\n",
      "         [[ 4.9824e-03, -7.9104e-03,  1.9075e-02],\n",
      "          [ 1.1714e-02,  1.4755e-02,  1.4909e-02],\n",
      "          [ 8.5144e-03, -6.3887e-03,  1.7425e-02]],\n",
      "\n",
      "         [[ 1.5819e-02, -8.7752e-03, -1.1132e-02],\n",
      "          [ 1.6513e-02, -1.7840e-02,  1.6309e-02],\n",
      "          [-1.2562e-02, -1.7417e-02,  1.3248e-02]]]], requires_grad=True)\n",
      "conv8.bias: Parameter containing:\n",
      "tensor([ 1.4946e-02, -5.8808e-03, -3.2123e-03,  1.4360e-02, -6.6991e-03,\n",
      "        -7.4370e-03, -1.6359e-02, -2.6181e-03,  1.9680e-02, -1.8119e-02,\n",
      "        -1.0909e-02,  1.9162e-02, -1.2411e-02,  1.6176e-02, -4.1125e-03,\n",
      "        -6.5751e-03,  1.9430e-02,  1.1505e-02,  9.6459e-03, -1.3558e-02,\n",
      "        -3.1844e-04, -1.5627e-02, -1.8251e-02, -1.3527e-02, -3.8785e-03,\n",
      "        -1.8519e-02,  2.5198e-03, -8.1959e-03,  1.9066e-02, -2.0467e-02,\n",
      "        -2.6941e-03,  6.6830e-03, -1.8704e-02, -1.6786e-02,  1.7322e-02,\n",
      "        -1.4363e-02,  1.9663e-03,  2.0061e-02, -2.0674e-02, -1.6050e-02,\n",
      "        -1.8103e-02,  1.1285e-02, -1.2533e-03,  2.0190e-02, -6.6480e-03,\n",
      "        -1.7235e-02,  2.0414e-02, -1.6728e-02,  1.2324e-02,  2.5694e-03,\n",
      "         5.0450e-03,  1.5927e-02, -1.4620e-02, -5.0328e-03, -1.0021e-02,\n",
      "        -7.6405e-03, -4.3321e-03, -2.0803e-02, -4.0865e-03,  7.6534e-03,\n",
      "         1.3919e-02,  9.6681e-03,  2.6152e-03, -5.1142e-03, -9.6695e-03,\n",
      "         6.7771e-03,  1.6197e-02, -1.5433e-02,  1.3537e-02, -5.4133e-03,\n",
      "        -9.8647e-03, -2.0342e-02, -1.1109e-03, -1.7098e-02,  1.8523e-02,\n",
      "        -4.3880e-03, -7.0006e-03, -4.8348e-03,  1.3893e-02, -1.4775e-02,\n",
      "        -6.9613e-03,  1.5570e-02, -1.4914e-03,  8.0115e-03, -1.8269e-02,\n",
      "        -1.2650e-02,  4.4712e-03,  1.4263e-02,  8.7523e-03, -1.4742e-02,\n",
      "         5.6972e-03,  1.9350e-02, -1.0780e-03,  1.9317e-02,  2.5518e-03,\n",
      "        -1.9868e-02,  1.0358e-02,  1.8297e-02,  9.3725e-03, -1.9778e-02,\n",
      "        -1.3040e-02, -2.0380e-02,  1.1022e-02, -4.0741e-04, -1.7914e-02,\n",
      "         9.8027e-03, -1.9933e-02, -1.7591e-05,  1.2166e-02, -4.7322e-03,\n",
      "        -4.7925e-03, -9.0143e-03,  1.4030e-02,  5.0686e-03, -1.1381e-02,\n",
      "        -7.3413e-03,  4.2448e-03, -4.6790e-03, -1.0759e-02, -1.7095e-02,\n",
      "        -1.1084e-02,  1.3285e-02, -1.4417e-02, -1.4247e-02,  2.0310e-02,\n",
      "        -9.2388e-04,  1.1835e-02, -6.2579e-03, -1.0615e-02,  1.0544e-02,\n",
      "        -8.0492e-03,  1.2900e-02,  1.8296e-02, -7.9022e-03,  6.2863e-03,\n",
      "        -1.3161e-02, -1.6632e-03, -3.6264e-03,  1.0011e-03,  1.4156e-02,\n",
      "        -1.7838e-02,  2.8903e-03, -2.0240e-02,  1.5885e-03, -1.9335e-02,\n",
      "         1.1089e-02,  7.4207e-03,  1.5557e-02, -1.1640e-04, -2.0281e-02,\n",
      "        -2.4948e-03,  2.4428e-03,  1.7349e-03, -1.6494e-02,  7.4867e-03,\n",
      "        -8.9156e-03, -2.0763e-03,  1.1860e-02, -1.7737e-02,  1.0356e-02,\n",
      "        -9.1293e-04, -1.1054e-02,  7.1836e-03, -5.0314e-03, -1.3222e-02,\n",
      "         9.1400e-04, -1.9334e-02,  2.0603e-02,  3.0095e-03,  1.1654e-02,\n",
      "        -6.8372e-03,  9.6529e-03,  2.3894e-03,  7.6392e-03,  6.7846e-03,\n",
      "         2.0479e-02,  1.5948e-02,  1.2395e-03, -8.1554e-04,  1.1318e-02,\n",
      "        -2.0147e-03, -9.4233e-03,  1.7062e-02, -5.0949e-03,  1.3334e-02,\n",
      "         6.9218e-03,  1.7760e-03, -1.3244e-02, -5.6379e-03,  6.9108e-03,\n",
      "        -1.1548e-03, -1.8994e-02, -1.0358e-02, -9.3633e-03, -4.5406e-03,\n",
      "         1.1719e-03,  6.3312e-03,  9.0871e-03,  1.0881e-02, -1.4869e-03,\n",
      "         1.6244e-02,  9.9933e-03,  1.4269e-02, -1.0815e-02, -3.2607e-03,\n",
      "         1.8683e-02, -7.7960e-03, -1.7795e-02,  1.1167e-02, -1.1457e-02,\n",
      "        -8.0301e-03, -6.3222e-03, -2.0048e-02,  1.9885e-02,  9.8154e-03,\n",
      "         1.2238e-02, -9.8312e-03,  1.6783e-02,  1.9695e-02, -1.8726e-02,\n",
      "         9.7001e-03, -4.8503e-03, -1.8264e-02, -1.5819e-02, -1.4939e-02,\n",
      "        -5.4971e-03,  1.3617e-02,  1.5619e-02, -6.5014e-03,  1.4790e-02,\n",
      "        -1.2202e-02, -3.0363e-03, -4.3981e-03,  1.4729e-02,  1.3652e-02,\n",
      "         1.3860e-02,  1.9096e-02, -1.2944e-02, -1.2087e-02, -6.6374e-03,\n",
      "        -1.4358e-02, -1.2028e-02, -1.3845e-02,  1.1734e-02,  5.5773e-03,\n",
      "         1.7424e-02, -1.6756e-02, -2.0743e-02,  1.0188e-02, -9.4953e-03,\n",
      "        -1.3282e-03, -1.2092e-02, -1.8528e-02, -1.4699e-02,  1.9865e-02,\n",
      "        -2.4646e-03, -8.9499e-03,  1.3887e-02, -4.7730e-03, -5.4782e-03,\n",
      "         1.5428e-03, -1.8645e-02,  1.3215e-03,  2.7140e-03, -1.2016e-02,\n",
      "        -1.1411e-02, -3.2693e-04, -1.0773e-02, -1.9965e-03,  9.0667e-03,\n",
      "         5.5068e-03,  7.5349e-03, -1.1947e-02,  7.9328e-04,  9.2886e-03,\n",
      "         9.4051e-03,  9.5358e-03,  1.9450e-02,  9.8587e-03, -1.1941e-02,\n",
      "         1.2362e-02, -6.5535e-03,  2.0791e-02,  1.8172e-02, -7.5638e-03,\n",
      "        -4.2030e-03, -8.2614e-03, -2.4568e-03,  1.7859e-02, -1.6627e-02,\n",
      "        -1.1177e-02, -9.5480e-03, -3.8482e-03, -2.5680e-03,  4.1635e-03,\n",
      "        -3.9307e-03, -9.1945e-03,  1.3985e-02,  1.6561e-02, -1.3388e-02,\n",
      "        -2.0265e-02, -2.3721e-03,  7.8506e-03,  1.2312e-04, -8.6861e-03,\n",
      "        -1.1441e-02,  8.6105e-03,  8.9748e-03, -1.0093e-02,  1.7554e-02,\n",
      "        -1.4087e-02,  8.4412e-03, -1.5336e-02,  1.3129e-02, -1.2990e-02,\n",
      "         1.2117e-02, -2.2030e-03,  1.1216e-02, -1.8067e-02,  1.1384e-02,\n",
      "        -3.3890e-03, -3.7424e-03,  1.3681e-02,  1.6290e-02,  2.0328e-02,\n",
      "        -3.1883e-04, -1.5699e-02,  3.7595e-03,  9.0153e-03, -1.3709e-02,\n",
      "        -1.1916e-02,  2.5626e-03, -1.4830e-02, -6.8297e-03, -2.8477e-04,\n",
      "        -7.1350e-03, -3.8579e-03, -1.5556e-02,  2.4353e-03, -1.4943e-02,\n",
      "         4.1608e-03,  1.1031e-02,  1.4292e-02, -1.0369e-02,  5.7706e-03,\n",
      "         1.1253e-03,  3.1199e-03,  8.8652e-03, -7.6518e-03, -1.4061e-02,\n",
      "         9.6272e-03, -1.8041e-02, -1.8472e-02,  9.9973e-03,  2.0479e-02,\n",
      "        -2.8075e-03, -1.1864e-02, -1.2616e-02,  1.1111e-03,  9.8282e-03,\n",
      "        -1.5662e-03, -1.7959e-02, -7.7442e-03,  1.7778e-02,  1.2892e-02,\n",
      "         2.0692e-02,  1.7709e-02, -1.2639e-02,  9.1773e-03, -1.6223e-03,\n",
      "         1.7149e-02, -1.3666e-02, -5.2568e-03, -1.4094e-02,  1.4512e-02,\n",
      "        -9.0045e-03, -8.1478e-03, -3.7489e-03,  2.0805e-02,  1.8198e-02,\n",
      "        -9.2753e-03,  1.7050e-02, -2.3712e-03, -1.3138e-02, -1.8321e-02,\n",
      "         9.4997e-03, -1.0043e-03,  6.0942e-03,  1.7861e-02,  1.1085e-02,\n",
      "         1.3337e-02,  8.5967e-03,  2.0828e-02,  6.5721e-03, -1.8937e-02,\n",
      "         8.6275e-03,  7.7939e-03,  5.1762e-04,  9.6501e-03, -4.1125e-03,\n",
      "         9.6555e-03,  1.9689e-02, -1.0218e-02,  4.2017e-04, -1.6912e-02,\n",
      "         1.2978e-02, -1.3321e-02,  1.6130e-02, -4.5062e-03, -8.8642e-03,\n",
      "         1.9676e-02, -1.0789e-02, -1.2015e-02, -6.2932e-03,  1.4904e-02,\n",
      "         2.0536e-02, -1.2228e-02, -4.0516e-04, -3.8353e-03,  2.0047e-03,\n",
      "        -1.4483e-02,  1.7062e-02,  7.1647e-03,  5.6081e-03,  1.7722e-02,\n",
      "        -7.0305e-03, -1.4878e-02,  7.8012e-03, -2.0478e-02, -5.9869e-03,\n",
      "         1.7285e-02, -8.5014e-03,  1.2534e-02, -1.2091e-02,  1.4880e-02,\n",
      "        -1.0290e-02,  4.2625e-03, -1.6073e-02,  2.0024e-02, -1.2357e-02,\n",
      "        -8.0318e-03,  5.9620e-03, -3.7652e-03, -6.3007e-03,  1.0457e-02,\n",
      "         6.6539e-03,  8.5576e-03, -4.0330e-03, -2.0380e-03, -1.5587e-03,\n",
      "         2.0949e-03,  1.7331e-02, -1.5782e-02,  6.0231e-03, -9.0150e-03,\n",
      "        -2.3846e-03, -1.4513e-02,  1.0091e-02, -1.7465e-02, -2.8155e-03,\n",
      "        -2.0764e-02, -6.5064e-03,  1.6524e-02, -1.7992e-02,  3.8018e-03,\n",
      "        -6.1726e-03,  4.8963e-03,  1.4839e-02,  9.6596e-03,  1.7656e-02,\n",
      "         1.7023e-02,  4.4328e-03, -4.0127e-03, -1.0697e-02,  4.4943e-03,\n",
      "         1.4750e-02, -1.1730e-03,  2.0287e-02, -1.8106e-02,  1.3330e-02,\n",
      "        -1.1879e-02, -1.2656e-02,  1.1350e-02, -5.5882e-03, -1.3789e-02,\n",
      "        -9.5818e-03,  7.1823e-03, -3.9900e-03,  2.5840e-03, -4.4386e-03,\n",
      "         2.9437e-03, -1.2703e-02,  2.2321e-03,  1.4825e-02,  6.3500e-03,\n",
      "        -1.6309e-02, -1.5674e-02,  1.8843e-02, -1.1692e-02,  2.3470e-03,\n",
      "         5.4856e-03,  1.3758e-02, -2.0643e-02, -9.0035e-03, -7.1777e-03,\n",
      "        -1.2286e-05, -1.1148e-02,  1.5471e-02, -1.0619e-02, -1.0976e-02,\n",
      "        -1.3033e-02,  9.8044e-03], requires_grad=True)\n",
      "fc1.weight: Parameter containing:\n",
      "tensor([[-1.3036e-03,  9.7151e-04, -1.9122e-03,  ...,  2.8683e-03,\n",
      "         -3.1773e-03, -2.0032e-04],\n",
      "        [ 2.0786e-03, -2.1671e-03, -2.0461e-03,  ..., -1.0984e-03,\n",
      "         -5.6622e-04,  1.6430e-03],\n",
      "        [-2.6108e-03, -1.6944e-03,  2.0826e-03,  ..., -4.9544e-04,\n",
      "         -2.9051e-03,  2.3198e-03],\n",
      "        ...,\n",
      "        [-7.6423e-04,  2.4205e-04, -5.4106e-04,  ...,  2.1810e-03,\n",
      "         -7.4019e-04, -2.3658e-03],\n",
      "        [-2.0869e-04,  2.8491e-03,  1.8745e-03,  ..., -8.7517e-05,\n",
      "         -2.1353e-03, -1.1819e-04],\n",
      "        [-1.7499e-03, -6.0109e-04,  1.7330e-03,  ..., -1.5784e-03,\n",
      "         -1.8798e-03,  1.5841e-03]], requires_grad=True)\n",
      "fc1.bias: Parameter containing:\n",
      "tensor([ 1.0287e-03,  2.2014e-03,  5.5922e-04, -4.5110e-04, -9.1659e-04,\n",
      "         1.4970e-04,  9.6206e-04, -2.7874e-03,  1.1759e-03, -2.3809e-03,\n",
      "        -2.2811e-03, -3.6936e-04, -3.1044e-03, -2.0223e-03,  2.5493e-03,\n",
      "         2.5856e-03, -1.6019e-03, -2.9631e-03, -3.2234e-03,  2.0258e-04,\n",
      "        -2.8461e-03,  2.3984e-04,  5.3075e-04, -5.6181e-04, -3.1197e-04,\n",
      "        -3.2008e-03,  1.8940e-03,  1.1272e-03, -3.2255e-03,  2.5327e-03,\n",
      "         3.2227e-03, -5.2285e-04,  1.4845e-03, -2.5487e-03, -1.9366e-03,\n",
      "        -2.5411e-04,  5.7263e-04, -2.1422e-03,  1.2569e-03, -1.0578e-06,\n",
      "        -1.2727e-03,  8.4975e-04,  2.7322e-03, -1.6752e-03, -2.1577e-03,\n",
      "         2.2751e-03, -1.2987e-03, -8.7832e-04, -2.6844e-03, -1.3337e-03,\n",
      "        -1.9098e-04,  2.1336e-03,  1.5521e-03,  9.3432e-04, -2.9733e-03,\n",
      "         2.3266e-03, -1.6919e-03,  8.6736e-04,  7.8546e-04, -6.7571e-05,\n",
      "         8.2286e-04, -2.6443e-03, -1.6406e-04, -2.9844e-03, -1.7799e-03,\n",
      "         2.5262e-03,  4.5399e-04, -9.5681e-04, -1.9166e-03, -2.1814e-03,\n",
      "        -2.3737e-03, -2.2591e-04, -6.7434e-04,  4.7605e-04, -7.3445e-04,\n",
      "         1.2712e-03,  9.1769e-05,  4.0741e-04,  2.6274e-03,  2.5938e-03,\n",
      "        -2.2775e-03,  2.7425e-03,  8.5782e-04,  8.9840e-04, -7.7696e-04,\n",
      "        -9.1279e-04,  2.5255e-03,  6.8488e-04, -3.0370e-03, -1.0959e-03,\n",
      "         1.6152e-03,  1.1293e-05, -1.2881e-03, -2.6669e-05, -2.3347e-03,\n",
      "         1.1952e-03, -1.5409e-03, -2.5593e-03,  2.2968e-03, -9.8059e-04,\n",
      "        -2.8193e-04, -1.3818e-03,  1.6496e-03, -1.4507e-03, -1.4613e-03,\n",
      "        -9.9599e-04,  2.4276e-03, -9.6766e-04,  2.8230e-03, -3.1505e-03,\n",
      "         1.3360e-03, -1.7009e-03,  2.6191e-03, -2.0721e-03, -1.5607e-04,\n",
      "         8.8612e-04,  1.8154e-04,  1.6881e-03, -6.6534e-04, -1.9578e-03,\n",
      "        -2.7928e-03,  2.2512e-03, -6.2572e-04, -3.0431e-04,  3.1966e-03,\n",
      "        -1.9856e-03,  2.1142e-03, -8.6776e-04], requires_grad=True)\n",
      "fc2.weight: Parameter containing:\n",
      "tensor([[-0.0361, -0.0562, -0.0644,  ...,  0.0384, -0.0660,  0.0872],\n",
      "        [ 0.0212, -0.0478,  0.0184,  ..., -0.0169, -0.0272,  0.0423],\n",
      "        [ 0.0528,  0.0206, -0.0374,  ...,  0.0285,  0.0562, -0.0283],\n",
      "        ...,\n",
      "        [ 0.0807, -0.0369,  0.0272,  ..., -0.0347,  0.0669,  0.0452],\n",
      "        [ 0.0709,  0.0576, -0.0618,  ..., -0.0597,  0.0872,  0.0444],\n",
      "        [-0.0425,  0.0149, -0.0704,  ..., -0.0372, -0.0487,  0.0142]],\n",
      "       requires_grad=True)\n",
      "fc2.bias: Parameter containing:\n",
      "tensor([-0.0502,  0.0742,  0.0190, -0.0392,  0.0385,  0.0572,  0.0471, -0.0286],\n",
      "       requires_grad=True)\n"
     ]
    }
   ],
   "source": [
    "\"\"\"\n",
    "MobileNetV2 model\n",
    "\"\"\"\n",
    "\n",
    "class Net(nn.Module):\n",
    "    def __init__(self):\n",
    "        super(Net, self).__init__()\n",
    "        conv_kwargs = {'kernel_size': 3, 'stride': 1, 'padding': 1}\n",
    "        self.conv1 = nn.Conv2d(3, 16, **conv_kwargs)\n",
    "        self.conv2 = nn.Conv2d(16, 32, **conv_kwargs)\n",
    "        self.conv3 = nn.Conv2d(32, 64, **conv_kwargs)\n",
    "        self.conv4 = nn.Conv2d(64, 128, **conv_kwargs)\n",
    "        self.conv5 = nn.Conv2d(128 + 32, 256, **conv_kwargs)\n",
    "        self.conv6 = nn.Conv2d(256, 512, **conv_kwargs)\n",
    "        self.conv7 = nn.Conv2d(512 + 128 + 32, 256, **conv_kwargs)\n",
    "        self.conv8 = nn.Conv2d(256, 512, **conv_kwargs)\n",
    "        self.fc1 = nn.Linear(1184 * 9 * 9, 128)\n",
    "        self.fc2 = nn.Linear(128, 8)\n",
    "\n",
    "\n",
    "    def forward(self, x):\n",
    "        torch.manual_seed(0)\n",
    "        x = F.relu(self.conv1(x))\n",
    "        x = F.relu(self.conv2(x))\n",
    "        maxpool = F.max_pool2d(x, 2, 2)\n",
    "\n",
    "        x = F.relu(self.conv3(maxpool))\n",
    "        x = F.relu(self.conv4(x))\n",
    "        concat = torch.cat([maxpool, x], dim=1)\n",
    "        maxpool = F.max_pool2d(concat, 2, 2)\n",
    "\n",
    "        x = F.relu(self.conv5(maxpool))\n",
    "        x = F.relu(self.conv6(x))\n",
    "        concat = torch.cat([maxpool, x], dim=1)\n",
    "        maxpool = F.max_pool2d(concat, 2, 2)\n",
    "\n",
    "        x = F.relu(self.conv7(maxpool))\n",
    "        x = F.relu(self.conv8(x))\n",
    "        concat = torch.cat([maxpool, x], dim=1)\n",
    "        maxpool = F.max_pool2d(concat, 2, 2)\n",
    "\n",
    "        x = maxpool.flatten(start_dim=1)\n",
    "        x = F.dropout(self.fc1(x), p=0.5)\n",
    "        x = self.fc2(x)\n",
    "        return x\n",
    "\n",
    "model_net = Net()\n",
    "for n,p in model_net.named_parameters():\n",
    "    print(f'{n}: {p}')"
   ]
  },
  {
   "cell_type": "code",
   "execution_count": 14,
   "id": "79021778",
   "metadata": {},
   "outputs": [],
   "source": [
    "optimizer_adam = optim.Adam(model_net.parameters(), lr=1e-4)"
   ]
  },
  {
   "cell_type": "markdown",
   "id": "f097cdc5",
   "metadata": {},
   "source": [
    "### Register model"
   ]
  },
  {
   "cell_type": "code",
   "execution_count": 15,
   "id": "06a8cca8",
   "metadata": {},
   "outputs": [],
   "source": [
    "from copy import deepcopy\n",
    "\n",
    "framework_adapter = 'openfl.plugins.frameworks_adapters.pytorch_adapter.FrameworkAdapterPlugin'\n",
    "model_interface = ModelInterface(model=model_net, optimizer=optimizer_adam, framework_plugin=framework_adapter)\n",
    "\n",
    "# Save the initial model state\n",
    "initial_model = deepcopy(model_net)"
   ]
  },
  {
   "cell_type": "markdown",
   "id": "849c165b",
   "metadata": {},
   "source": [
    "## Define and register FL tasks"
   ]
  },
  {
   "cell_type": "code",
   "execution_count": 16,
   "id": "b9649385",
   "metadata": {},
   "outputs": [],
   "source": [
    "task_interface = TaskInterface()\n",
    "import torch\n",
    "\n",
    "from openfl.utilities.fedcurv.torch import FedCurv\n",
    "from openfl.utilities.fedcurv.aggregation_function import FedCurvWeightedAverage\n",
    "import tqdm\n",
    "\n",
    "# The Interactive API supports registering functions definied in main module or imported.\n",
    "def function_defined_in_notebook(some_parameter):\n",
    "    print(f'Also I accept a parameter and it is {some_parameter}')\n",
    "    \n",
    "fedcurv = FedCurv(model_interface.provide_model(), importance=0)\n",
    "\n",
    "# Task interface currently supports only standalone functions.\n",
    "@task_interface.add_kwargs(**{'some_parameter': 42})\n",
    "@task_interface.register_fl_task(model='net_model', data_loader='train_loader', \\\n",
    "                     device='device', optimizer='optimizer')\n",
    "@task_interface.set_aggregation_function(FedCurvWeightedAverage())\n",
    "def train(net_model, train_loader, optimizer, device, loss_fn=F.cross_entropy, some_parameter=None):\n",
    "    torch.manual_seed(0)\n",
    "#     fedcurv.on_train_begin(net_model)\n",
    "    device = 'cpu'\n",
    "    \n",
    "    function_defined_in_notebook(some_parameter)\n",
    "    \n",
    "    train_loader = tqdm.tqdm(train_loader, desc=\"train\")\n",
    "    net_model.train()\n",
    "    net_model.to(device)\n",
    "\n",
    "    losses = []\n",
    "\n",
    "    for data, target in train_loader:\n",
    "        data, target = torch.tensor(data).to(device), torch.tensor(\n",
    "            target).to(device) \n",
    "        optimizer.zero_grad()\n",
    "        output = net_model(data)\n",
    "        loss = loss_fn(output, target) #+ fedcurv.get_penalty(net_model)\n",
    "        loss.backward()\n",
    "        optimizer.step()\n",
    "        losses.append(loss.detach().cpu().numpy())\n",
    "    \n",
    "#     fedcurv.on_train_end(net_model, train_loader, device)\n",
    "        \n",
    "    return {'train_loss': np.mean(losses),}\n",
    "\n",
    "\n",
    "@task_interface.register_fl_task(model='net_model', data_loader='val_loader', device='device')     \n",
    "def validate(net_model, val_loader, device):\n",
    "    device = torch.device('cpu')\n",
    "    net_model.eval()\n",
    "    net_model.to(device)\n",
    "    \n",
    "    val_loader = tqdm.tqdm(val_loader, desc=\"validate\")\n",
    "    val_score = 0\n",
    "    total_samples = 0\n",
    "\n",
    "    with torch.no_grad():\n",
    "        for data, target in val_loader:\n",
    "            samples = target.shape[0]\n",
    "            total_samples += samples\n",
    "            data, target = torch.tensor(data).to(device), \\\n",
    "                torch.tensor(target).to(device, dtype=torch.int64)\n",
    "            output = net_model(data)\n",
    "            pred = output.argmax(dim=1)\n",
    "            val_score += pred.eq(target).sum().cpu().numpy()\n",
    "            \n",
    "    return {'acc': val_score / total_samples,}"
   ]
  },
  {
   "cell_type": "markdown",
   "id": "8f0ebf2d",
   "metadata": {},
   "source": [
    "## Time to start a federated learning experiment"
   ]
  },
  {
   "cell_type": "code",
   "execution_count": 17,
   "id": "d41b7896",
   "metadata": {},
   "outputs": [],
   "source": [
    "# create an experimnet in federation\n",
    "experiment_name = f'histology_test_experiment'\n",
    "fl_experiment = FLExperiment(federation=federation, experiment_name=experiment_name)"
   ]
  },
  {
   "cell_type": "code",
   "execution_count": 18,
   "id": "41b44de9",
   "metadata": {},
   "outputs": [
    {
     "data": {
      "text/html": [
       "<pre style=\"white-space:pre;overflow-x:auto;line-height:normal;font-family:Menlo,'DejaVu Sans Mono',consolas,'Courier New',monospace\"><span style=\"color: #7fbfbf\">[13:29:48] </span><span style=\"color: #000080\">INFO</span>     Building <span style=\"color: #800000\">🡆</span> Object <span style=\"color: #800000\">CloudpickleSerializer</span> from <span style=\"color: #800000\">openfl.plugins.interface_serializer.cloudpickle_serializer</span> Module.                  <a href=\"file:///home/itrushkin/.virtualenvs/openfl/lib/python3.8/site-packages/openfl/federated/plan/plan.py\"><span style=\"color: #7f7f7f\">plan.py</span></a><span style=\"color: #7f7f7f\">:170</span>\n",
       "</pre>\n"
      ],
      "text/plain": [
       "<rich.jupyter.JupyterRenderable at 0x7f5019f0b820>"
      ]
     },
     "metadata": {},
     "output_type": "display_data"
    },
    {
     "data": {
      "text/html": [
       "<pre style=\"white-space:pre;overflow-x:auto;line-height:normal;font-family:Menlo,'DejaVu Sans Mono',consolas,'Courier New',monospace\"><span style=\"color: #7fbfbf\">           </span><span style=\"color: #000080\">INFO</span>     Settings <span style=\"color: #800000\">🡆</span> <span style=\"font-weight: bold\">{}</span>                                                                                                                    <a href=\"file:///home/itrushkin/.virtualenvs/openfl/lib/python3.8/site-packages/openfl/federated/plan/plan.py\"><span style=\"color: #7f7f7f\">plan.py</span></a><span style=\"color: #7f7f7f\">:173</span>\n",
       "</pre>\n"
      ],
      "text/plain": [
       "<rich.jupyter.JupyterRenderable at 0x7f5019f0b610>"
      ]
     },
     "metadata": {},
     "output_type": "display_data"
    },
    {
     "data": {
      "text/html": [
       "<pre style=\"white-space:pre;overflow-x:auto;line-height:normal;font-family:Menlo,'DejaVu Sans Mono',consolas,'Courier New',monospace\"><span style=\"color: #7fbfbf\">           </span><span style=\"color: #000080\">INFO</span>     Override <span style=\"color: #800000\">🡆</span> <span style=\"font-weight: bold\">{}</span>                                                                                                                    <a href=\"file:///home/itrushkin/.virtualenvs/openfl/lib/python3.8/site-packages/openfl/federated/plan/plan.py\"><span style=\"color: #7f7f7f\">plan.py</span></a><span style=\"color: #7f7f7f\">:175</span>\n",
       "</pre>\n"
      ],
      "text/plain": [
       "<rich.jupyter.JupyterRenderable at 0x7f5019f0b6a0>"
      ]
     },
     "metadata": {},
     "output_type": "display_data"
    },
    {
     "data": {
      "text/html": [
       "<pre style=\"white-space:pre;overflow-x:auto;line-height:normal;font-family:Menlo,'DejaVu Sans Mono',consolas,'Courier New',monospace\"><span style=\"color: #7fbfbf\">           </span><span style=\"color: #000080\">INFO</span>     Building <span style=\"color: #800000\">🡆</span> Object <span style=\"color: #800000\">FrameworkAdapterPlugin</span> from <span style=\"color: #800000\">openfl.plugins.frameworks_adapters.pytorch_adapter</span> Module.                         <a href=\"file:///home/itrushkin/.virtualenvs/openfl/lib/python3.8/site-packages/openfl/federated/plan/plan.py\"><span style=\"color: #7f7f7f\">plan.py</span></a><span style=\"color: #7f7f7f\">:170</span>\n",
       "</pre>\n"
      ],
      "text/plain": [
       "<rich.jupyter.JupyterRenderable at 0x7f501dd0a250>"
      ]
     },
     "metadata": {},
     "output_type": "display_data"
    },
    {
     "data": {
      "text/html": [
       "<pre style=\"white-space:pre;overflow-x:auto;line-height:normal;font-family:Menlo,'DejaVu Sans Mono',consolas,'Courier New',monospace\"><span style=\"color: #7fbfbf\">           </span><span style=\"color: #000080\">INFO</span>     Settings <span style=\"color: #800000\">🡆</span> <span style=\"font-weight: bold\">{}</span>                                                                                                                    <a href=\"file:///home/itrushkin/.virtualenvs/openfl/lib/python3.8/site-packages/openfl/federated/plan/plan.py\"><span style=\"color: #7f7f7f\">plan.py</span></a><span style=\"color: #7f7f7f\">:173</span>\n",
       "</pre>\n"
      ],
      "text/plain": [
       "<rich.jupyter.JupyterRenderable at 0x7f501dd0a730>"
      ]
     },
     "metadata": {},
     "output_type": "display_data"
    },
    {
     "data": {
      "text/html": [
       "<pre style=\"white-space:pre;overflow-x:auto;line-height:normal;font-family:Menlo,'DejaVu Sans Mono',consolas,'Courier New',monospace\"><span style=\"color: #7fbfbf\">           </span><span style=\"color: #000080\">INFO</span>     Override <span style=\"color: #800000\">🡆</span> <span style=\"font-weight: bold\">{}</span>                                                                                                                    <a href=\"file:///home/itrushkin/.virtualenvs/openfl/lib/python3.8/site-packages/openfl/federated/plan/plan.py\"><span style=\"color: #7f7f7f\">plan.py</span></a><span style=\"color: #7f7f7f\">:175</span>\n",
       "</pre>\n"
      ],
      "text/plain": [
       "<rich.jupyter.JupyterRenderable at 0x7f501dd0a850>"
      ]
     },
     "metadata": {},
     "output_type": "display_data"
    },
    {
     "data": {
      "text/html": [
       "<pre style=\"white-space:pre;overflow-x:auto;line-height:normal;font-family:Menlo,'DejaVu Sans Mono',consolas,'Courier New',monospace\"><span style=\"color: #7fbfbf\">[13:29:52] </span><span style=\"color: #000080\">INFO</span>     Starting experiment!                                                                                                       <a href=\"file:///home/itrushkin/.virtualenvs/openfl/lib/python3.8/site-packages/openfl/interface/interactive_api/experiment.py\"><span style=\"color: #7f7f7f\">experiment.py</span></a><span style=\"color: #7f7f7f\">:173</span>\n",
       "</pre>\n"
      ],
      "text/plain": [
       "<rich.jupyter.JupyterRenderable at 0x7f5002eb0c40>"
      ]
     },
     "metadata": {},
     "output_type": "display_data"
    },
    {
     "data": {
      "text/html": [
       "<pre style=\"white-space:pre;overflow-x:auto;line-height:normal;font-family:Menlo,'DejaVu Sans Mono',consolas,'Courier New',monospace\"><span style=\"color: #7fbfbf\">           </span><span style=\"color: #000080\">INFO</span>     FL-Plan hash is <span style=\"color: #000080\">e9d17fbef9acd257d47f7224dc6604b2d9988418cfb8e7ab253b4b1266e9993944fbb442d50672a001492189a4e67f71</span>                 <a href=\"file:///home/itrushkin/.virtualenvs/openfl/lib/python3.8/site-packages/openfl/federated/plan/plan.py\"><span style=\"color: #7f7f7f\">plan.py</span></a><span style=\"color: #7f7f7f\">:232</span>\n",
       "</pre>\n"
      ],
      "text/plain": [
       "<rich.jupyter.JupyterRenderable at 0x7f5018249eb0>"
      ]
     },
     "metadata": {},
     "output_type": "display_data"
    },
    {
     "data": {
      "text/html": [
       "<pre style=\"white-space:pre;overflow-x:auto;line-height:normal;font-family:Menlo,'DejaVu Sans Mono',consolas,'Courier New',monospace\"><span style=\"color: #7fbfbf\">           </span><span style=\"color: #000080\">INFO</span>     FL-Plan hash is <span style=\"color: #000080\">e9d17fbef9acd257d47f7224dc6604b2d9988418cfb8e7ab253b4b1266e9993944fbb442d50672a001492189a4e67f71</span>                 <a href=\"file:///home/itrushkin/.virtualenvs/openfl/lib/python3.8/site-packages/openfl/federated/plan/plan.py\"><span style=\"color: #7f7f7f\">plan.py</span></a><span style=\"color: #7f7f7f\">:232</span>\n",
       "</pre>\n"
      ],
      "text/plain": [
       "<rich.jupyter.JupyterRenderable at 0x7f5018249430>"
      ]
     },
     "metadata": {},
     "output_type": "display_data"
    },
    {
     "data": {
      "text/html": [
       "<pre style=\"white-space:pre;overflow-x:auto;line-height:normal;font-family:Menlo,'DejaVu Sans Mono',consolas,'Courier New',monospace\"><span style=\"color: #7fbfbf\">           </span><span style=\"color: #000080\">INFO</span>     Building <span style=\"color: #800000\">🡆</span> Object <span style=\"color: #800000\">CoreTaskRunner</span> from <span style=\"color: #800000\">openfl.federated.task.task_runner</span> Module.                                                  <a href=\"file:///home/itrushkin/.virtualenvs/openfl/lib/python3.8/site-packages/openfl/federated/plan/plan.py\"><span style=\"color: #7f7f7f\">plan.py</span></a><span style=\"color: #7f7f7f\">:170</span>\n",
       "</pre>\n"
      ],
      "text/plain": [
       "<rich.jupyter.JupyterRenderable at 0x7f5018249eb0>"
      ]
     },
     "metadata": {},
     "output_type": "display_data"
    },
    {
     "data": {
      "text/html": [
       "<pre style=\"white-space:pre;overflow-x:auto;line-height:normal;font-family:Menlo,'DejaVu Sans Mono',consolas,'Courier New',monospace\"><span style=\"color: #7fbfbf\">           </span><span style=\"color: #000080\">INFO</span>     Settings <span style=\"color: #800000\">🡆</span> <span style=\"font-weight: bold\">{}</span>                                                                                                                    <a href=\"file:///home/itrushkin/.virtualenvs/openfl/lib/python3.8/site-packages/openfl/federated/plan/plan.py\"><span style=\"color: #7f7f7f\">plan.py</span></a><span style=\"color: #7f7f7f\">:173</span>\n",
       "</pre>\n"
      ],
      "text/plain": [
       "<rich.jupyter.JupyterRenderable at 0x7f5018249430>"
      ]
     },
     "metadata": {},
     "output_type": "display_data"
    },
    {
     "data": {
      "text/html": [
       "<pre style=\"white-space:pre;overflow-x:auto;line-height:normal;font-family:Menlo,'DejaVu Sans Mono',consolas,'Courier New',monospace\"><span style=\"color: #7fbfbf\">           </span><span style=\"color: #000080\">INFO</span>     Override <span style=\"color: #800000\">🡆</span> <span style=\"font-weight: bold\">{</span><span style=\"color: #008000\">'required_plugin_components'</span>: <span style=\"font-weight: bold\">{</span><span style=\"color: #008000\">'framework_adapters'</span>:                                                                 <a href=\"file:///home/itrushkin/.virtualenvs/openfl/lib/python3.8/site-packages/openfl/federated/plan/plan.py\"><span style=\"color: #7f7f7f\">plan.py</span></a><span style=\"color: #7f7f7f\">:175</span>\n",
       "                    <span style=\"color: #008000\">'openfl.plugins.frameworks_adapters.pytorch_adapter.FrameworkAdapterPlugin'</span><span style=\"font-weight: bold\">}}</span>                                                               \n",
       "</pre>\n"
      ],
      "text/plain": [
       "<rich.jupyter.JupyterRenderable at 0x7f5018249eb0>"
      ]
     },
     "metadata": {},
     "output_type": "display_data"
    },
    {
     "data": {
      "text/html": [
       "<pre style=\"white-space:pre;overflow-x:auto;line-height:normal;font-family:Menlo,'DejaVu Sans Mono',consolas,'Courier New',monospace\"><span style=\"color: #7fbfbf\">           </span><span style=\"color: #000080\">INFO</span>     Building <span style=\"color: #800000\">🡆</span> Object <span style=\"color: #800000\">FrameworkAdapterPlugin</span> from <span style=\"color: #800000\">openfl.plugins.frameworks_adapters.pytorch_adapter</span> Module.                         <a href=\"file:///home/itrushkin/.virtualenvs/openfl/lib/python3.8/site-packages/openfl/federated/plan/plan.py\"><span style=\"color: #7f7f7f\">plan.py</span></a><span style=\"color: #7f7f7f\">:170</span>\n",
       "</pre>\n"
      ],
      "text/plain": [
       "<rich.jupyter.JupyterRenderable at 0x7f5002e7a220>"
      ]
     },
     "metadata": {},
     "output_type": "display_data"
    },
    {
     "data": {
      "text/html": [
       "<pre style=\"white-space:pre;overflow-x:auto;line-height:normal;font-family:Menlo,'DejaVu Sans Mono',consolas,'Courier New',monospace\"><span style=\"color: #7fbfbf\">           </span><span style=\"color: #000080\">INFO</span>     Settings <span style=\"color: #800000\">🡆</span> <span style=\"font-weight: bold\">{}</span>                                                                                                                    <a href=\"file:///home/itrushkin/.virtualenvs/openfl/lib/python3.8/site-packages/openfl/federated/plan/plan.py\"><span style=\"color: #7f7f7f\">plan.py</span></a><span style=\"color: #7f7f7f\">:173</span>\n",
       "</pre>\n"
      ],
      "text/plain": [
       "<rich.jupyter.JupyterRenderable at 0x7f5002e7a250>"
      ]
     },
     "metadata": {},
     "output_type": "display_data"
    },
    {
     "data": {
      "text/html": [
       "<pre style=\"white-space:pre;overflow-x:auto;line-height:normal;font-family:Menlo,'DejaVu Sans Mono',consolas,'Courier New',monospace\"><span style=\"color: #7fbfbf\">           </span><span style=\"color: #000080\">INFO</span>     Override <span style=\"color: #800000\">🡆</span> <span style=\"font-weight: bold\">{}</span>                                                                                                                    <a href=\"file:///home/itrushkin/.virtualenvs/openfl/lib/python3.8/site-packages/openfl/federated/plan/plan.py\"><span style=\"color: #7f7f7f\">plan.py</span></a><span style=\"color: #7f7f7f\">:175</span>\n",
       "</pre>\n"
      ],
      "text/plain": [
       "<rich.jupyter.JupyterRenderable at 0x7f5002e7a820>"
      ]
     },
     "metadata": {},
     "output_type": "display_data"
    },
    {
     "data": {
      "text/html": [
       "<pre style=\"white-space:pre;overflow-x:auto;line-height:normal;font-family:Menlo,'DejaVu Sans Mono',consolas,'Courier New',monospace\"><span style=\"color: #7fbfbf\">           </span><span style=\"color: #800000\">WARNING</span>  tried to remove tensor: __opt_state_needed not present in the tensor dict                                                       <a href=\"file:///home/itrushkin/.virtualenvs/openfl/lib/python3.8/site-packages/openfl/utilities/utils.py\"><span style=\"color: #7f7f7f\">utils.py</span></a><span style=\"color: #7f7f7f\">:165</span>\n",
       "</pre>\n"
      ],
      "text/plain": [
       "<rich.jupyter.JupyterRenderable at 0x7f5002e7a070>"
      ]
     },
     "metadata": {},
     "output_type": "display_data"
    },
    {
     "data": {
      "text/html": [
       "<pre style=\"white-space:pre;overflow-x:auto;line-height:normal;font-family:Menlo,'DejaVu Sans Mono',consolas,'Courier New',monospace\"><span style=\"color: #7fbfbf\">           </span><span style=\"color: #800000\">WARNING</span>  tried to remove tensor: __opt_state_needed not present in the tensor dict                                                       <a href=\"file:///home/itrushkin/.virtualenvs/openfl/lib/python3.8/site-packages/openfl/utilities/utils.py\"><span style=\"color: #7f7f7f\">utils.py</span></a><span style=\"color: #7f7f7f\">:165</span>\n",
       "</pre>\n"
      ],
      "text/plain": [
       "<rich.jupyter.JupyterRenderable at 0x7f5002e7a0a0>"
      ]
     },
     "metadata": {},
     "output_type": "display_data"
    },
    {
     "data": {
      "text/html": [
       "<pre style=\"white-space:pre;overflow-x:auto;line-height:normal;font-family:Menlo,'DejaVu Sans Mono',consolas,'Courier New',monospace\"><span style=\"color: #7fbfbf\">           </span><span style=\"color: #000080\">INFO</span>     SetNewExperiment                                                                                                      <a href=\"file:///home/itrushkin/.virtualenvs/openfl/lib/python3.8/site-packages/openfl/transport/grpc/director_client.py\"><span style=\"color: #7f7f7f\">director_client.py</span></a><span style=\"color: #7f7f7f\">:200</span>\n",
       "</pre>\n"
      ],
      "text/plain": [
       "<rich.jupyter.JupyterRenderable at 0x7f5002e7a100>"
      ]
     },
     "metadata": {},
     "output_type": "display_data"
    },
    {
     "data": {
      "text/html": [
       "<pre style=\"white-space:pre;overflow-x:auto;line-height:normal;font-family:Menlo,'DejaVu Sans Mono',consolas,'Courier New',monospace\"><span style=\"color: #7fbfbf\">[13:31:06] </span><span style=\"color: #000080\">INFO</span>     Experiment was accepted and launched.                                                                                      <a href=\"file:///home/itrushkin/.virtualenvs/openfl/lib/python3.8/site-packages/openfl/interface/interactive_api/experiment.py\"><span style=\"color: #7f7f7f\">experiment.py</span></a><span style=\"color: #7f7f7f\">:187</span>\n",
       "</pre>\n"
      ],
      "text/plain": [
       "<rich.jupyter.JupyterRenderable at 0x7f5002e7abe0>"
      ]
     },
     "metadata": {},
     "output_type": "display_data"
    }
   ],
   "source": [
    "# The following command zips the workspace and python requirements to be transfered to collaborator nodes\n",
    "fl_experiment.start(\n",
    "    model_provider=model_interface, \n",
    "    task_keeper=task_interface,\n",
    "    data_loader=fed_dataset,\n",
    "    rounds_to_train=5,\n",
    "    opt_treatment='CONTINUE_GLOBAL'\n",
    ")"
   ]
  },
  {
   "cell_type": "code",
   "execution_count": 19,
   "id": "acting-immunology",
   "metadata": {},
   "outputs": [
    {
     "data": {
      "text/html": [
       "<pre style=\"white-space:pre;overflow-x:auto;line-height:normal;font-family:Menlo,'DejaVu Sans Mono',consolas,'Courier New',monospace\"><span style=\"color: #7fbfbf\">[13:33:27] </span>METRIC   Round <span style=\"color: #000080; font-weight: bold\">0</span>, collaborator env_1 train result train_loss:    <span style=\"color: #000080; font-weight: bold\">2.042620</span>                                                           <a href=\"file:///home/itrushkin/.virtualenvs/openfl/lib/python3.8/site-packages/openfl/interface/interactive_api/experiment.py\"><span style=\"color: #7f7f7f\">experiment.py</span></a><span style=\"color: #7f7f7f\">:111</span>\n",
       "</pre>\n"
      ],
      "text/plain": [
       "<rich.jupyter.JupyterRenderable at 0x7f5002e7a9d0>"
      ]
     },
     "metadata": {},
     "output_type": "display_data"
    },
    {
     "data": {
      "text/html": [
       "<pre style=\"white-space:pre;overflow-x:auto;line-height:normal;font-family:Menlo,'DejaVu Sans Mono',consolas,'Courier New',monospace\"><span style=\"color: #7fbfbf\">[13:33:36] </span>METRIC   Round <span style=\"color: #000080; font-weight: bold\">0</span>, collaborator env_1 localy_tuned_model_validate result acc:     <span style=\"color: #000080; font-weight: bold\">0.142857</span>                                           <a href=\"file:///home/itrushkin/.virtualenvs/openfl/lib/python3.8/site-packages/openfl/interface/interactive_api/experiment.py\"><span style=\"color: #7f7f7f\">experiment.py</span></a><span style=\"color: #7f7f7f\">:111</span>\n",
       "</pre>\n"
      ],
      "text/plain": [
       "<rich.jupyter.JupyterRenderable at 0x7f5002eb0910>"
      ]
     },
     "metadata": {},
     "output_type": "display_data"
    },
    {
     "data": {
      "text/html": [
       "<pre style=\"white-space:pre;overflow-x:auto;line-height:normal;font-family:Menlo,'DejaVu Sans Mono',consolas,'Courier New',monospace\"><span style=\"color: #7fbfbf\">[13:33:45] </span>METRIC   Round <span style=\"color: #000080; font-weight: bold\">0</span>, collaborator env_1 aggregated_model_validate result acc:       <span style=\"color: #000080; font-weight: bold\">0.142857</span>                                           <a href=\"file:///home/itrushkin/.virtualenvs/openfl/lib/python3.8/site-packages/openfl/interface/interactive_api/experiment.py\"><span style=\"color: #7f7f7f\">experiment.py</span></a><span style=\"color: #7f7f7f\">:111</span>\n",
       "</pre>\n"
      ],
      "text/plain": [
       "<rich.jupyter.JupyterRenderable at 0x7f5002eb09a0>"
      ]
     },
     "metadata": {},
     "output_type": "display_data"
    },
    {
     "data": {
      "text/html": [
       "<pre style=\"white-space:pre;overflow-x:auto;line-height:normal;font-family:Menlo,'DejaVu Sans Mono',consolas,'Courier New',monospace\"><span style=\"color: #7fbfbf\">[13:34:17] </span>METRIC   Round <span style=\"color: #000080; font-weight: bold\">0</span>, collaborator env_2 train result train_loss:    <span style=\"color: #000080; font-weight: bold\">2.065747</span>                                                           <a href=\"file:///home/itrushkin/.virtualenvs/openfl/lib/python3.8/site-packages/openfl/interface/interactive_api/experiment.py\"><span style=\"color: #7f7f7f\">experiment.py</span></a><span style=\"color: #7f7f7f\">:111</span>\n",
       "</pre>\n"
      ],
      "text/plain": [
       "<rich.jupyter.JupyterRenderable at 0x7f5002eb07f0>"
      ]
     },
     "metadata": {},
     "output_type": "display_data"
    },
    {
     "data": {
      "text/html": [
       "<pre style=\"white-space:pre;overflow-x:auto;line-height:normal;font-family:Menlo,'DejaVu Sans Mono',consolas,'Courier New',monospace\"><span style=\"color: #7fbfbf\">[13:34:25] </span>METRIC   Round <span style=\"color: #000080; font-weight: bold\">0</span>, collaborator env_2 localy_tuned_model_validate result acc:     <span style=\"color: #000080; font-weight: bold\">0.145455</span>                                           <a href=\"file:///home/itrushkin/.virtualenvs/openfl/lib/python3.8/site-packages/openfl/interface/interactive_api/experiment.py\"><span style=\"color: #7f7f7f\">experiment.py</span></a><span style=\"color: #7f7f7f\">:111</span>\n",
       "</pre>\n"
      ],
      "text/plain": [
       "<rich.jupyter.JupyterRenderable at 0x7f5002eb0fd0>"
      ]
     },
     "metadata": {},
     "output_type": "display_data"
    },
    {
     "data": {
      "text/html": [
       "<pre style=\"white-space:pre;overflow-x:auto;line-height:normal;font-family:Menlo,'DejaVu Sans Mono',consolas,'Courier New',monospace\"><span style=\"color: #7fbfbf\">[13:34:30] </span>METRIC   Round <span style=\"color: #000080; font-weight: bold\">0</span>, collaborator env_2 aggregated_model_validate result acc:       <span style=\"color: #000080; font-weight: bold\">0.072727</span>                                           <a href=\"file:///home/itrushkin/.virtualenvs/openfl/lib/python3.8/site-packages/openfl/interface/interactive_api/experiment.py\"><span style=\"color: #7f7f7f\">experiment.py</span></a><span style=\"color: #7f7f7f\">:111</span>\n",
       "</pre>\n"
      ],
      "text/plain": [
       "<rich.jupyter.JupyterRenderable at 0x7f5002eb0040>"
      ]
     },
     "metadata": {},
     "output_type": "display_data"
    },
    {
     "data": {
      "text/html": [
       "<pre style=\"white-space:pre;overflow-x:auto;line-height:normal;font-family:Menlo,'DejaVu Sans Mono',consolas,'Courier New',monospace\"><span style=\"color: #7fbfbf\">[13:34:44] </span>METRIC   Round <span style=\"color: #000080; font-weight: bold\">0</span>, collaborator env_8 train result train_loss:    <span style=\"color: #000080; font-weight: bold\">2.124902</span>                                                           <a href=\"file:///home/itrushkin/.virtualenvs/openfl/lib/python3.8/site-packages/openfl/interface/interactive_api/experiment.py\"><span style=\"color: #7f7f7f\">experiment.py</span></a><span style=\"color: #7f7f7f\">:111</span>\n",
       "</pre>\n"
      ],
      "text/plain": [
       "<rich.jupyter.JupyterRenderable at 0x7f5002eb0be0>"
      ]
     },
     "metadata": {},
     "output_type": "display_data"
    },
    {
     "data": {
      "text/html": [
       "<pre style=\"white-space:pre;overflow-x:auto;line-height:normal;font-family:Menlo,'DejaVu Sans Mono',consolas,'Courier New',monospace\"><span style=\"color: #7fbfbf\">[13:34:51] </span>METRIC   Round <span style=\"color: #000080; font-weight: bold\">0</span>, collaborator env_8 localy_tuned_model_validate result acc:     <span style=\"color: #000080; font-weight: bold\">0.300000</span>                                           <a href=\"file:///home/itrushkin/.virtualenvs/openfl/lib/python3.8/site-packages/openfl/interface/interactive_api/experiment.py\"><span style=\"color: #7f7f7f\">experiment.py</span></a><span style=\"color: #7f7f7f\">:111</span>\n",
       "</pre>\n"
      ],
      "text/plain": [
       "<rich.jupyter.JupyterRenderable at 0x7f5002eb0160>"
      ]
     },
     "metadata": {},
     "output_type": "display_data"
    },
    {
     "data": {
      "text/html": [
       "<pre style=\"white-space:pre;overflow-x:auto;line-height:normal;font-family:Menlo,'DejaVu Sans Mono',consolas,'Courier New',monospace\"><span style=\"color: #7fbfbf\">[13:34:55] </span>METRIC   Round <span style=\"color: #000080; font-weight: bold\">0</span>, collaborator env_8 aggregated_model_validate result acc:       <span style=\"color: #000080; font-weight: bold\">0.100000</span>                                           <a href=\"file:///home/itrushkin/.virtualenvs/openfl/lib/python3.8/site-packages/openfl/interface/interactive_api/experiment.py\"><span style=\"color: #7f7f7f\">experiment.py</span></a><span style=\"color: #7f7f7f\">:111</span>\n",
       "</pre>\n"
      ],
      "text/plain": [
       "<rich.jupyter.JupyterRenderable at 0x7f5002eb0d60>"
      ]
     },
     "metadata": {},
     "output_type": "display_data"
    },
    {
     "data": {
      "text/html": [
       "<pre style=\"white-space:pre;overflow-x:auto;line-height:normal;font-family:Menlo,'DejaVu Sans Mono',consolas,'Courier New',monospace\"><span style=\"color: #7fbfbf\">[13:34:56] </span>METRIC   Round <span style=\"color: #000080; font-weight: bold\">0</span>, collaborator env_6 train result train_loss:    <span style=\"color: #000080; font-weight: bold\">2.050660</span>                                                           <a href=\"file:///home/itrushkin/.virtualenvs/openfl/lib/python3.8/site-packages/openfl/interface/interactive_api/experiment.py\"><span style=\"color: #7f7f7f\">experiment.py</span></a><span style=\"color: #7f7f7f\">:111</span>\n",
       "</pre>\n"
      ],
      "text/plain": [
       "<rich.jupyter.JupyterRenderable at 0x7f5002eb0a00>"
      ]
     },
     "metadata": {},
     "output_type": "display_data"
    },
    {
     "data": {
      "text/html": [
       "<pre style=\"white-space:pre;overflow-x:auto;line-height:normal;font-family:Menlo,'DejaVu Sans Mono',consolas,'Courier New',monospace\"><span style=\"color: #7fbfbf\">[13:34:57] </span>METRIC   Round <span style=\"color: #000080; font-weight: bold\">0</span>, collaborator env_4 train result train_loss:    <span style=\"color: #000080; font-weight: bold\">1.039123</span>                                                           <a href=\"file:///home/itrushkin/.virtualenvs/openfl/lib/python3.8/site-packages/openfl/interface/interactive_api/experiment.py\"><span style=\"color: #7f7f7f\">experiment.py</span></a><span style=\"color: #7f7f7f\">:111</span>\n",
       "</pre>\n"
      ],
      "text/plain": [
       "<rich.jupyter.JupyterRenderable at 0x7f5002eb0b50>"
      ]
     },
     "metadata": {},
     "output_type": "display_data"
    },
    {
     "data": {
      "text/html": [
       "<pre style=\"white-space:pre;overflow-x:auto;line-height:normal;font-family:Menlo,'DejaVu Sans Mono',consolas,'Courier New',monospace\"><span style=\"color: #7fbfbf\">           </span>METRIC   Round <span style=\"color: #000080; font-weight: bold\">0</span>, collaborator env_7 train result train_loss:    <span style=\"color: #000080; font-weight: bold\">0.960602</span>                                                           <a href=\"file:///home/itrushkin/.virtualenvs/openfl/lib/python3.8/site-packages/openfl/interface/interactive_api/experiment.py\"><span style=\"color: #7f7f7f\">experiment.py</span></a><span style=\"color: #7f7f7f\">:111</span>\n",
       "</pre>\n"
      ],
      "text/plain": [
       "<rich.jupyter.JupyterRenderable at 0x7f5002eb0d60>"
      ]
     },
     "metadata": {},
     "output_type": "display_data"
    },
    {
     "data": {
      "text/html": [
       "<pre style=\"white-space:pre;overflow-x:auto;line-height:normal;font-family:Menlo,'DejaVu Sans Mono',consolas,'Courier New',monospace\"><span style=\"color: #7fbfbf\">[13:34:58] </span>METRIC   Round <span style=\"color: #000080; font-weight: bold\">0</span>, collaborator env_3 train result train_loss:    <span style=\"color: #000080; font-weight: bold\">0.894900</span>                                                           <a href=\"file:///home/itrushkin/.virtualenvs/openfl/lib/python3.8/site-packages/openfl/interface/interactive_api/experiment.py\"><span style=\"color: #7f7f7f\">experiment.py</span></a><span style=\"color: #7f7f7f\">:111</span>\n",
       "</pre>\n"
      ],
      "text/plain": [
       "<rich.jupyter.JupyterRenderable at 0x7f5002eb0940>"
      ]
     },
     "metadata": {},
     "output_type": "display_data"
    },
    {
     "data": {
      "text/html": [
       "<pre style=\"white-space:pre;overflow-x:auto;line-height:normal;font-family:Menlo,'DejaVu Sans Mono',consolas,'Courier New',monospace\"><span style=\"color: #7fbfbf\">           </span>METRIC   Round <span style=\"color: #000080; font-weight: bold\">0</span>, collaborator env_5 train result train_loss:    <span style=\"color: #000080; font-weight: bold\">0.593061</span>                                                           <a href=\"file:///home/itrushkin/.virtualenvs/openfl/lib/python3.8/site-packages/openfl/interface/interactive_api/experiment.py\"><span style=\"color: #7f7f7f\">experiment.py</span></a><span style=\"color: #7f7f7f\">:111</span>\n",
       "</pre>\n"
      ],
      "text/plain": [
       "<rich.jupyter.JupyterRenderable at 0x7f5002eb0ac0>"
      ]
     },
     "metadata": {},
     "output_type": "display_data"
    },
    {
     "data": {
      "text/html": [
       "<pre style=\"white-space:pre;overflow-x:auto;line-height:normal;font-family:Menlo,'DejaVu Sans Mono',consolas,'Courier New',monospace\"><span style=\"color: #7fbfbf\">[13:35:00] </span>METRIC   Round <span style=\"color: #000080; font-weight: bold\">0</span>, collaborator env_4 localy_tuned_model_validate result acc:     <span style=\"color: #000080; font-weight: bold\">0.090909</span>                                           <a href=\"file:///home/itrushkin/.virtualenvs/openfl/lib/python3.8/site-packages/openfl/interface/interactive_api/experiment.py\"><span style=\"color: #7f7f7f\">experiment.py</span></a><span style=\"color: #7f7f7f\">:111</span>\n",
       "</pre>\n"
      ],
      "text/plain": [
       "<rich.jupyter.JupyterRenderable at 0x7f5002eb0160>"
      ]
     },
     "metadata": {},
     "output_type": "display_data"
    },
    {
     "data": {
      "text/html": [
       "<pre style=\"white-space:pre;overflow-x:auto;line-height:normal;font-family:Menlo,'DejaVu Sans Mono',consolas,'Courier New',monospace\"><span style=\"color: #7fbfbf\">[13:35:01] </span>METRIC   Round <span style=\"color: #000080; font-weight: bold\">0</span>, collaborator env_6 localy_tuned_model_validate result acc:     <span style=\"color: #000080; font-weight: bold\">0.106383</span>                                           <a href=\"file:///home/itrushkin/.virtualenvs/openfl/lib/python3.8/site-packages/openfl/interface/interactive_api/experiment.py\"><span style=\"color: #7f7f7f\">experiment.py</span></a><span style=\"color: #7f7f7f\">:111</span>\n",
       "</pre>\n"
      ],
      "text/plain": [
       "<rich.jupyter.JupyterRenderable at 0x7f5002eb0a30>"
      ]
     },
     "metadata": {},
     "output_type": "display_data"
    },
    {
     "data": {
      "text/html": [
       "<pre style=\"white-space:pre;overflow-x:auto;line-height:normal;font-family:Menlo,'DejaVu Sans Mono',consolas,'Courier New',monospace\"><span style=\"color: #7fbfbf\">[13:35:02] </span>METRIC   Round <span style=\"color: #000080; font-weight: bold\">0</span>, collaborator env_7 localy_tuned_model_validate result acc:     <span style=\"color: #000080; font-weight: bold\">0.192308</span>                                           <a href=\"file:///home/itrushkin/.virtualenvs/openfl/lib/python3.8/site-packages/openfl/interface/interactive_api/experiment.py\"><span style=\"color: #7f7f7f\">experiment.py</span></a><span style=\"color: #7f7f7f\">:111</span>\n",
       "</pre>\n"
      ],
      "text/plain": [
       "<rich.jupyter.JupyterRenderable at 0x7f5002eb05e0>"
      ]
     },
     "metadata": {},
     "output_type": "display_data"
    },
    {
     "data": {
      "text/html": [
       "<pre style=\"white-space:pre;overflow-x:auto;line-height:normal;font-family:Menlo,'DejaVu Sans Mono',consolas,'Courier New',monospace\"><span style=\"color: #7fbfbf\">           </span>METRIC   Round <span style=\"color: #000080; font-weight: bold\">0</span>, collaborator env_5 localy_tuned_model_validate result acc:     <span style=\"color: #000080; font-weight: bold\">0.148148</span>                                           <a href=\"file:///home/itrushkin/.virtualenvs/openfl/lib/python3.8/site-packages/openfl/interface/interactive_api/experiment.py\"><span style=\"color: #7f7f7f\">experiment.py</span></a><span style=\"color: #7f7f7f\">:111</span>\n",
       "</pre>\n"
      ],
      "text/plain": [
       "<rich.jupyter.JupyterRenderable at 0x7f5002eb0850>"
      ]
     },
     "metadata": {},
     "output_type": "display_data"
    },
    {
     "data": {
      "text/html": [
       "<pre style=\"white-space:pre;overflow-x:auto;line-height:normal;font-family:Menlo,'DejaVu Sans Mono',consolas,'Courier New',monospace\"><span style=\"color: #7fbfbf\">[13:35:03] </span>METRIC   Round <span style=\"color: #000080; font-weight: bold\">0</span>, collaborator env_3 localy_tuned_model_validate result acc:     <span style=\"color: #000080; font-weight: bold\">0.135135</span>                                           <a href=\"file:///home/itrushkin/.virtualenvs/openfl/lib/python3.8/site-packages/openfl/interface/interactive_api/experiment.py\"><span style=\"color: #7f7f7f\">experiment.py</span></a><span style=\"color: #7f7f7f\">:111</span>\n",
       "</pre>\n"
      ],
      "text/plain": [
       "<rich.jupyter.JupyterRenderable at 0x7f5002eb0a30>"
      ]
     },
     "metadata": {},
     "output_type": "display_data"
    },
    {
     "data": {
      "text/html": [
       "<pre style=\"white-space:pre;overflow-x:auto;line-height:normal;font-family:Menlo,'DejaVu Sans Mono',consolas,'Courier New',monospace\"><span style=\"color: #7fbfbf\">           </span>METRIC   Round <span style=\"color: #000080; font-weight: bold\">0</span>, collaborator env_4 aggregated_model_validate result acc:       <span style=\"color: #000080; font-weight: bold\">0.090909</span>                                           <a href=\"file:///home/itrushkin/.virtualenvs/openfl/lib/python3.8/site-packages/openfl/interface/interactive_api/experiment.py\"><span style=\"color: #7f7f7f\">experiment.py</span></a><span style=\"color: #7f7f7f\">:111</span>\n",
       "</pre>\n"
      ],
      "text/plain": [
       "<rich.jupyter.JupyterRenderable at 0x7f5002eb0ee0>"
      ]
     },
     "metadata": {},
     "output_type": "display_data"
    },
    {
     "data": {
      "text/html": [
       "<pre style=\"white-space:pre;overflow-x:auto;line-height:normal;font-family:Menlo,'DejaVu Sans Mono',consolas,'Courier New',monospace\"><span style=\"color: #7fbfbf\">[13:35:05] </span>METRIC   Round <span style=\"color: #000080; font-weight: bold\">0</span>, collaborator env_7 aggregated_model_validate result acc:       <span style=\"color: #000080; font-weight: bold\">0.038462</span>                                           <a href=\"file:///home/itrushkin/.virtualenvs/openfl/lib/python3.8/site-packages/openfl/interface/interactive_api/experiment.py\"><span style=\"color: #7f7f7f\">experiment.py</span></a><span style=\"color: #7f7f7f\">:111</span>\n",
       "</pre>\n"
      ],
      "text/plain": [
       "<rich.jupyter.JupyterRenderable at 0x7f5002eb0940>"
      ]
     },
     "metadata": {},
     "output_type": "display_data"
    },
    {
     "data": {
      "text/html": [
       "<pre style=\"white-space:pre;overflow-x:auto;line-height:normal;font-family:Menlo,'DejaVu Sans Mono',consolas,'Courier New',monospace\"><span style=\"color: #7fbfbf\">[13:35:06] </span>METRIC   Round <span style=\"color: #000080; font-weight: bold\">0</span>, collaborator env_6 aggregated_model_validate result acc:       <span style=\"color: #000080; font-weight: bold\">0.095745</span>                                           <a href=\"file:///home/itrushkin/.virtualenvs/openfl/lib/python3.8/site-packages/openfl/interface/interactive_api/experiment.py\"><span style=\"color: #7f7f7f\">experiment.py</span></a><span style=\"color: #7f7f7f\">:111</span>\n",
       "</pre>\n"
      ],
      "text/plain": [
       "<rich.jupyter.JupyterRenderable at 0x7f5002eb0c70>"
      ]
     },
     "metadata": {},
     "output_type": "display_data"
    },
    {
     "data": {
      "text/html": [
       "<pre style=\"white-space:pre;overflow-x:auto;line-height:normal;font-family:Menlo,'DejaVu Sans Mono',consolas,'Courier New',monospace\"><span style=\"color: #7fbfbf\">           </span>METRIC   Round <span style=\"color: #000080; font-weight: bold\">0</span>, collaborator env_5 aggregated_model_validate result acc:       <span style=\"color: #000080; font-weight: bold\">0.055556</span>                                           <a href=\"file:///home/itrushkin/.virtualenvs/openfl/lib/python3.8/site-packages/openfl/interface/interactive_api/experiment.py\"><span style=\"color: #7f7f7f\">experiment.py</span></a><span style=\"color: #7f7f7f\">:111</span>\n",
       "</pre>\n"
      ],
      "text/plain": [
       "<rich.jupyter.JupyterRenderable at 0x7f5002eb0ee0>"
      ]
     },
     "metadata": {},
     "output_type": "display_data"
    },
    {
     "data": {
      "text/html": [
       "<pre style=\"white-space:pre;overflow-x:auto;line-height:normal;font-family:Menlo,'DejaVu Sans Mono',consolas,'Courier New',monospace\"><span style=\"color: #7fbfbf\">[13:35:07] </span>METRIC   Round <span style=\"color: #000080; font-weight: bold\">0</span>, collaborator env_3 aggregated_model_validate result acc:       <span style=\"color: #000080; font-weight: bold\">0.153153</span>                                           <a href=\"file:///home/itrushkin/.virtualenvs/openfl/lib/python3.8/site-packages/openfl/interface/interactive_api/experiment.py\"><span style=\"color: #7f7f7f\">experiment.py</span></a><span style=\"color: #7f7f7f\">:111</span>\n",
       "</pre>\n"
      ],
      "text/plain": [
       "<rich.jupyter.JupyterRenderable at 0x7f5002eb0040>"
      ]
     },
     "metadata": {},
     "output_type": "display_data"
    },
    {
     "data": {
      "text/html": [
       "<pre style=\"white-space:pre;overflow-x:auto;line-height:normal;font-family:Menlo,'DejaVu Sans Mono',consolas,'Courier New',monospace\"><span style=\"color: #7fbfbf\">           </span>METRIC   Round <span style=\"color: #000080; font-weight: bold\">0</span>, collaborator Aggregator aggregated_model_validate result acc:  <span style=\"color: #000080; font-weight: bold\">0.110883</span>                                           <a href=\"file:///home/itrushkin/.virtualenvs/openfl/lib/python3.8/site-packages/openfl/interface/interactive_api/experiment.py\"><span style=\"color: #7f7f7f\">experiment.py</span></a><span style=\"color: #7f7f7f\">:111</span>\n",
       "</pre>\n"
      ],
      "text/plain": [
       "<rich.jupyter.JupyterRenderable at 0x7f5002eb0ee0>"
      ]
     },
     "metadata": {},
     "output_type": "display_data"
    },
    {
     "data": {
      "text/html": [
       "<pre style=\"white-space:pre;overflow-x:auto;line-height:normal;font-family:Menlo,'DejaVu Sans Mono',consolas,'Courier New',monospace\"><span style=\"color: #7fbfbf\">[13:35:14] </span>METRIC   Round <span style=\"color: #000080; font-weight: bold\">0</span>, collaborator Aggregator train result train_loss:       <span style=\"color: #000080; font-weight: bold\">0.918775</span>                                                   <a href=\"file:///home/itrushkin/.virtualenvs/openfl/lib/python3.8/site-packages/openfl/interface/interactive_api/experiment.py\"><span style=\"color: #7f7f7f\">experiment.py</span></a><span style=\"color: #7f7f7f\">:111</span>\n",
       "</pre>\n"
      ],
      "text/plain": [
       "<rich.jupyter.JupyterRenderable at 0x7f5002eb0dc0>"
      ]
     },
     "metadata": {},
     "output_type": "display_data"
    },
    {
     "data": {
      "text/html": [
       "<pre style=\"white-space:pre;overflow-x:auto;line-height:normal;font-family:Menlo,'DejaVu Sans Mono',consolas,'Courier New',monospace\"><span style=\"color: #7fbfbf\">           </span>METRIC   Round <span style=\"color: #000080; font-weight: bold\">0</span>, collaborator Aggregator localy_tuned_model_validate result acc:        <span style=\"color: #000080; font-weight: bold\">0.139630</span>                                   <a href=\"file:///home/itrushkin/.virtualenvs/openfl/lib/python3.8/site-packages/openfl/interface/interactive_api/experiment.py\"><span style=\"color: #7f7f7f\">experiment.py</span></a><span style=\"color: #7f7f7f\">:111</span>\n",
       "</pre>\n"
      ],
      "text/plain": [
       "<rich.jupyter.JupyterRenderable at 0x7f5002eb0d60>"
      ]
     },
     "metadata": {},
     "output_type": "display_data"
    },
    {
     "data": {
      "text/html": [
       "<pre style=\"white-space:pre;overflow-x:auto;line-height:normal;font-family:Menlo,'DejaVu Sans Mono',consolas,'Courier New',monospace\"><span style=\"color: #7fbfbf\">[13:37:06] </span>METRIC   Round <span style=\"color: #000080; font-weight: bold\">1</span>, collaborator env_1 train result train_loss:    <span style=\"color: #000080; font-weight: bold\">4.748063</span>                                                           <a href=\"file:///home/itrushkin/.virtualenvs/openfl/lib/python3.8/site-packages/openfl/interface/interactive_api/experiment.py\"><span style=\"color: #7f7f7f\">experiment.py</span></a><span style=\"color: #7f7f7f\">:111</span>\n",
       "</pre>\n"
      ],
      "text/plain": [
       "<rich.jupyter.JupyterRenderable at 0x7f5002eb05e0>"
      ]
     },
     "metadata": {},
     "output_type": "display_data"
    },
    {
     "data": {
      "text/html": [
       "<pre style=\"white-space:pre;overflow-x:auto;line-height:normal;font-family:Menlo,'DejaVu Sans Mono',consolas,'Courier New',monospace\"><span style=\"color: #7fbfbf\">[13:37:18] </span>METRIC   Round <span style=\"color: #000080; font-weight: bold\">1</span>, collaborator env_1 localy_tuned_model_validate result acc:     <span style=\"color: #000080; font-weight: bold\">0.111111</span>                                           <a href=\"file:///home/itrushkin/.virtualenvs/openfl/lib/python3.8/site-packages/openfl/interface/interactive_api/experiment.py\"><span style=\"color: #7f7f7f\">experiment.py</span></a><span style=\"color: #7f7f7f\">:111</span>\n",
       "</pre>\n"
      ],
      "text/plain": [
       "<rich.jupyter.JupyterRenderable at 0x7f5002eb0370>"
      ]
     },
     "metadata": {},
     "output_type": "display_data"
    },
    {
     "data": {
      "text/html": [
       "<pre style=\"white-space:pre;overflow-x:auto;line-height:normal;font-family:Menlo,'DejaVu Sans Mono',consolas,'Courier New',monospace\"><span style=\"color: #7fbfbf\">[13:37:24] </span>METRIC   Round <span style=\"color: #000080; font-weight: bold\">1</span>, collaborator env_1 aggregated_model_validate result acc:       <span style=\"color: #000080; font-weight: bold\">0.111111</span>                                           <a href=\"file:///home/itrushkin/.virtualenvs/openfl/lib/python3.8/site-packages/openfl/interface/interactive_api/experiment.py\"><span style=\"color: #7f7f7f\">experiment.py</span></a><span style=\"color: #7f7f7f\">:111</span>\n",
       "</pre>\n"
      ],
      "text/plain": [
       "<rich.jupyter.JupyterRenderable at 0x7f5002eb0ac0>"
      ]
     },
     "metadata": {},
     "output_type": "display_data"
    },
    {
     "data": {
      "text/html": [
       "<pre style=\"white-space:pre;overflow-x:auto;line-height:normal;font-family:Menlo,'DejaVu Sans Mono',consolas,'Courier New',monospace\"><span style=\"color: #7fbfbf\">[13:37:43] </span>METRIC   Round <span style=\"color: #000080; font-weight: bold\">1</span>, collaborator env_8 train result train_loss:    <span style=\"color: #000080; font-weight: bold\">4.080872</span>                                                           <a href=\"file:///home/itrushkin/.virtualenvs/openfl/lib/python3.8/site-packages/openfl/interface/interactive_api/experiment.py\"><span style=\"color: #7f7f7f\">experiment.py</span></a><span style=\"color: #7f7f7f\">:111</span>\n",
       "</pre>\n"
      ],
      "text/plain": [
       "<rich.jupyter.JupyterRenderable at 0x7f5002eb0bb0>"
      ]
     },
     "metadata": {},
     "output_type": "display_data"
    },
    {
     "data": {
      "text/html": [
       "<pre style=\"white-space:pre;overflow-x:auto;line-height:normal;font-family:Menlo,'DejaVu Sans Mono',consolas,'Courier New',monospace\"><span style=\"color: #7fbfbf\">[13:37:53] </span>METRIC   Round <span style=\"color: #000080; font-weight: bold\">1</span>, collaborator env_8 localy_tuned_model_validate result acc:     <span style=\"color: #000080; font-weight: bold\">0.100000</span>                                           <a href=\"file:///home/itrushkin/.virtualenvs/openfl/lib/python3.8/site-packages/openfl/interface/interactive_api/experiment.py\"><span style=\"color: #7f7f7f\">experiment.py</span></a><span style=\"color: #7f7f7f\">:111</span>\n",
       "</pre>\n"
      ],
      "text/plain": [
       "<rich.jupyter.JupyterRenderable at 0x7f5002eb0790>"
      ]
     },
     "metadata": {},
     "output_type": "display_data"
    },
    {
     "data": {
      "text/html": [
       "<pre style=\"white-space:pre;overflow-x:auto;line-height:normal;font-family:Menlo,'DejaVu Sans Mono',consolas,'Courier New',monospace\"><span style=\"color: #7fbfbf\">[13:38:02] </span>METRIC   Round <span style=\"color: #000080; font-weight: bold\">1</span>, collaborator env_8 aggregated_model_validate result acc:       <span style=\"color: #000080; font-weight: bold\">0.100000</span>                                           <a href=\"file:///home/itrushkin/.virtualenvs/openfl/lib/python3.8/site-packages/openfl/interface/interactive_api/experiment.py\"><span style=\"color: #7f7f7f\">experiment.py</span></a><span style=\"color: #7f7f7f\">:111</span>\n",
       "</pre>\n"
      ],
      "text/plain": [
       "<rich.jupyter.JupyterRenderable at 0x7f5002eb0940>"
      ]
     },
     "metadata": {},
     "output_type": "display_data"
    },
    {
     "data": {
      "text/html": [
       "<pre style=\"white-space:pre;overflow-x:auto;line-height:normal;font-family:Menlo,'DejaVu Sans Mono',consolas,'Courier New',monospace\"><span style=\"color: #7fbfbf\">[13:38:35] </span>METRIC   Round <span style=\"color: #000080; font-weight: bold\">1</span>, collaborator env_6 train result train_loss:    <span style=\"color: #000080; font-weight: bold\">3.468180</span>                                                           <a href=\"file:///home/itrushkin/.virtualenvs/openfl/lib/python3.8/site-packages/openfl/interface/interactive_api/experiment.py\"><span style=\"color: #7f7f7f\">experiment.py</span></a><span style=\"color: #7f7f7f\">:111</span>\n",
       "</pre>\n"
      ],
      "text/plain": [
       "<rich.jupyter.JupyterRenderable at 0x7f5002eb07c0>"
      ]
     },
     "metadata": {},
     "output_type": "display_data"
    },
    {
     "data": {
      "text/html": [
       "<pre style=\"white-space:pre;overflow-x:auto;line-height:normal;font-family:Menlo,'DejaVu Sans Mono',consolas,'Courier New',monospace\"><span style=\"color: #7fbfbf\">[13:38:39] </span>METRIC   Round <span style=\"color: #000080; font-weight: bold\">1</span>, collaborator env_2 train result train_loss:    <span style=\"color: #000080; font-weight: bold\">4.221764</span>                                                           <a href=\"file:///home/itrushkin/.virtualenvs/openfl/lib/python3.8/site-packages/openfl/interface/interactive_api/experiment.py\"><span style=\"color: #7f7f7f\">experiment.py</span></a><span style=\"color: #7f7f7f\">:111</span>\n",
       "</pre>\n"
      ],
      "text/plain": [
       "<rich.jupyter.JupyterRenderable at 0x7f5002eb0970>"
      ]
     },
     "metadata": {},
     "output_type": "display_data"
    },
    {
     "data": {
      "text/html": [
       "<pre style=\"white-space:pre;overflow-x:auto;line-height:normal;font-family:Menlo,'DejaVu Sans Mono',consolas,'Courier New',monospace\"><span style=\"color: #7fbfbf\">[13:38:43] </span>METRIC   Round <span style=\"color: #000080; font-weight: bold\">1</span>, collaborator env_6 localy_tuned_model_validate result acc:     <span style=\"color: #000080; font-weight: bold\">0.106383</span>                                           <a href=\"file:///home/itrushkin/.virtualenvs/openfl/lib/python3.8/site-packages/openfl/interface/interactive_api/experiment.py\"><span style=\"color: #7f7f7f\">experiment.py</span></a><span style=\"color: #7f7f7f\">:111</span>\n",
       "</pre>\n"
      ],
      "text/plain": [
       "<rich.jupyter.JupyterRenderable at 0x7f5002eb0070>"
      ]
     },
     "metadata": {},
     "output_type": "display_data"
    },
    {
     "data": {
      "text/html": [
       "<pre style=\"white-space:pre;overflow-x:auto;line-height:normal;font-family:Menlo,'DejaVu Sans Mono',consolas,'Courier New',monospace\"><span style=\"color: #7fbfbf\">[13:38:44] </span>METRIC   Round <span style=\"color: #000080; font-weight: bold\">1</span>, collaborator env_2 localy_tuned_model_validate result acc:     <span style=\"color: #000080; font-weight: bold\">0.054545</span>                                           <a href=\"file:///home/itrushkin/.virtualenvs/openfl/lib/python3.8/site-packages/openfl/interface/interactive_api/experiment.py\"><span style=\"color: #7f7f7f\">experiment.py</span></a><span style=\"color: #7f7f7f\">:111</span>\n",
       "</pre>\n"
      ],
      "text/plain": [
       "<rich.jupyter.JupyterRenderable at 0x7f5002eb0280>"
      ]
     },
     "metadata": {},
     "output_type": "display_data"
    },
    {
     "data": {
      "text/html": [
       "<pre style=\"white-space:pre;overflow-x:auto;line-height:normal;font-family:Menlo,'DejaVu Sans Mono',consolas,'Courier New',monospace\"><span style=\"color: #7fbfbf\">[13:38:48] </span>METRIC   Round <span style=\"color: #000080; font-weight: bold\">1</span>, collaborator env_6 aggregated_model_validate result acc:       <span style=\"color: #000080; font-weight: bold\">0.106383</span>                                           <a href=\"file:///home/itrushkin/.virtualenvs/openfl/lib/python3.8/site-packages/openfl/interface/interactive_api/experiment.py\"><span style=\"color: #7f7f7f\">experiment.py</span></a><span style=\"color: #7f7f7f\">:111</span>\n",
       "</pre>\n"
      ],
      "text/plain": [
       "<rich.jupyter.JupyterRenderable at 0x7f5002eb0c10>"
      ]
     },
     "metadata": {},
     "output_type": "display_data"
    },
    {
     "data": {
      "text/html": [
       "<pre style=\"white-space:pre;overflow-x:auto;line-height:normal;font-family:Menlo,'DejaVu Sans Mono',consolas,'Courier New',monospace\"><span style=\"color: #7fbfbf\">[13:38:51] </span>METRIC   Round <span style=\"color: #000080; font-weight: bold\">1</span>, collaborator env_2 aggregated_model_validate result acc:       <span style=\"color: #000080; font-weight: bold\">0.054545</span>                                           <a href=\"file:///home/itrushkin/.virtualenvs/openfl/lib/python3.8/site-packages/openfl/interface/interactive_api/experiment.py\"><span style=\"color: #7f7f7f\">experiment.py</span></a><span style=\"color: #7f7f7f\">:111</span>\n",
       "</pre>\n"
      ],
      "text/plain": [
       "<rich.jupyter.JupyterRenderable at 0x7f5002eb03a0>"
      ]
     },
     "metadata": {},
     "output_type": "display_data"
    },
    {
     "data": {
      "text/html": [
       "<pre style=\"white-space:pre;overflow-x:auto;line-height:normal;font-family:Menlo,'DejaVu Sans Mono',consolas,'Courier New',monospace\"><span style=\"color: #7fbfbf\">[13:38:58] </span>METRIC   Round <span style=\"color: #000080; font-weight: bold\">1</span>, collaborator env_7 train result train_loss:    <span style=\"color: #000080; font-weight: bold\">1.545522</span>                                                           <a href=\"file:///home/itrushkin/.virtualenvs/openfl/lib/python3.8/site-packages/openfl/interface/interactive_api/experiment.py\"><span style=\"color: #7f7f7f\">experiment.py</span></a><span style=\"color: #7f7f7f\">:111</span>\n",
       "</pre>\n"
      ],
      "text/plain": [
       "<rich.jupyter.JupyterRenderable at 0x7f5002eb0790>"
      ]
     },
     "metadata": {},
     "output_type": "display_data"
    },
    {
     "data": {
      "text/html": [
       "<pre style=\"white-space:pre;overflow-x:auto;line-height:normal;font-family:Menlo,'DejaVu Sans Mono',consolas,'Courier New',monospace\"><span style=\"color: #7fbfbf\">           </span>METRIC   Round <span style=\"color: #000080; font-weight: bold\">1</span>, collaborator env_3 train result train_loss:    <span style=\"color: #000080; font-weight: bold\">0.795369</span>                                                           <a href=\"file:///home/itrushkin/.virtualenvs/openfl/lib/python3.8/site-packages/openfl/interface/interactive_api/experiment.py\"><span style=\"color: #7f7f7f\">experiment.py</span></a><span style=\"color: #7f7f7f\">:111</span>\n",
       "</pre>\n"
      ],
      "text/plain": [
       "<rich.jupyter.JupyterRenderable at 0x7f5002eb0dc0>"
      ]
     },
     "metadata": {},
     "output_type": "display_data"
    },
    {
     "data": {
      "text/html": [
       "<pre style=\"white-space:pre;overflow-x:auto;line-height:normal;font-family:Menlo,'DejaVu Sans Mono',consolas,'Courier New',monospace\"><span style=\"color: #7fbfbf\">           </span>METRIC   Round <span style=\"color: #000080; font-weight: bold\">1</span>, collaborator env_4 train result train_loss:    <span style=\"color: #000080; font-weight: bold\">0.807820</span>                                                           <a href=\"file:///home/itrushkin/.virtualenvs/openfl/lib/python3.8/site-packages/openfl/interface/interactive_api/experiment.py\"><span style=\"color: #7f7f7f\">experiment.py</span></a><span style=\"color: #7f7f7f\">:111</span>\n",
       "</pre>\n"
      ],
      "text/plain": [
       "<rich.jupyter.JupyterRenderable at 0x7f5002eb03a0>"
      ]
     },
     "metadata": {},
     "output_type": "display_data"
    },
    {
     "data": {
      "text/html": [
       "<pre style=\"white-space:pre;overflow-x:auto;line-height:normal;font-family:Menlo,'DejaVu Sans Mono',consolas,'Courier New',monospace\"><span style=\"color: #7fbfbf\">           </span>METRIC   Round <span style=\"color: #000080; font-weight: bold\">1</span>, collaborator env_5 train result train_loss:    <span style=\"color: #000080; font-weight: bold\">0.137884</span>                                                           <a href=\"file:///home/itrushkin/.virtualenvs/openfl/lib/python3.8/site-packages/openfl/interface/interactive_api/experiment.py\"><span style=\"color: #7f7f7f\">experiment.py</span></a><span style=\"color: #7f7f7f\">:111</span>\n",
       "</pre>\n"
      ],
      "text/plain": [
       "<rich.jupyter.JupyterRenderable at 0x7f5002eb0880>"
      ]
     },
     "metadata": {},
     "output_type": "display_data"
    },
    {
     "data": {
      "text/html": [
       "<pre style=\"white-space:pre;overflow-x:auto;line-height:normal;font-family:Menlo,'DejaVu Sans Mono',consolas,'Courier New',monospace\"><span style=\"color: #7fbfbf\">[13:39:01] </span>METRIC   Round <span style=\"color: #000080; font-weight: bold\">1</span>, collaborator env_4 localy_tuned_model_validate result acc:     <span style=\"color: #000080; font-weight: bold\">0.090909</span>                                           <a href=\"file:///home/itrushkin/.virtualenvs/openfl/lib/python3.8/site-packages/openfl/interface/interactive_api/experiment.py\"><span style=\"color: #7f7f7f\">experiment.py</span></a><span style=\"color: #7f7f7f\">:111</span>\n",
       "</pre>\n"
      ],
      "text/plain": [
       "<rich.jupyter.JupyterRenderable at 0x7f5002eb07c0>"
      ]
     },
     "metadata": {},
     "output_type": "display_data"
    },
    {
     "data": {
      "text/html": [
       "<pre style=\"white-space:pre;overflow-x:auto;line-height:normal;font-family:Menlo,'DejaVu Sans Mono',consolas,'Courier New',monospace\"><span style=\"color: #7fbfbf\">[13:39:02] </span>METRIC   Round <span style=\"color: #000080; font-weight: bold\">1</span>, collaborator env_5 localy_tuned_model_validate result acc:     <span style=\"color: #000080; font-weight: bold\">0.148148</span>                                           <a href=\"file:///home/itrushkin/.virtualenvs/openfl/lib/python3.8/site-packages/openfl/interface/interactive_api/experiment.py\"><span style=\"color: #7f7f7f\">experiment.py</span></a><span style=\"color: #7f7f7f\">:111</span>\n",
       "</pre>\n"
      ],
      "text/plain": [
       "<rich.jupyter.JupyterRenderable at 0x7f5002eb0c10>"
      ]
     },
     "metadata": {},
     "output_type": "display_data"
    },
    {
     "data": {
      "text/html": [
       "<pre style=\"white-space:pre;overflow-x:auto;line-height:normal;font-family:Menlo,'DejaVu Sans Mono',consolas,'Courier New',monospace\"><span style=\"color: #7fbfbf\">           </span>METRIC   Round <span style=\"color: #000080; font-weight: bold\">1</span>, collaborator env_7 localy_tuned_model_validate result acc:     <span style=\"color: #000080; font-weight: bold\">0.192308</span>                                           <a href=\"file:///home/itrushkin/.virtualenvs/openfl/lib/python3.8/site-packages/openfl/interface/interactive_api/experiment.py\"><span style=\"color: #7f7f7f\">experiment.py</span></a><span style=\"color: #7f7f7f\">:111</span>\n",
       "</pre>\n"
      ],
      "text/plain": [
       "<rich.jupyter.JupyterRenderable at 0x7f50182566a0>"
      ]
     },
     "metadata": {},
     "output_type": "display_data"
    },
    {
     "data": {
      "text/html": [
       "<pre style=\"white-space:pre;overflow-x:auto;line-height:normal;font-family:Menlo,'DejaVu Sans Mono',consolas,'Courier New',monospace\"><span style=\"color: #7fbfbf\">[13:39:03] </span>METRIC   Round <span style=\"color: #000080; font-weight: bold\">1</span>, collaborator env_3 localy_tuned_model_validate result acc:     <span style=\"color: #000080; font-weight: bold\">0.135135</span>                                           <a href=\"file:///home/itrushkin/.virtualenvs/openfl/lib/python3.8/site-packages/openfl/interface/interactive_api/experiment.py\"><span style=\"color: #7f7f7f\">experiment.py</span></a><span style=\"color: #7f7f7f\">:111</span>\n",
       "</pre>\n"
      ],
      "text/plain": [
       "<rich.jupyter.JupyterRenderable at 0x7f5002eb0610>"
      ]
     },
     "metadata": {},
     "output_type": "display_data"
    },
    {
     "data": {
      "text/html": [
       "<pre style=\"white-space:pre;overflow-x:auto;line-height:normal;font-family:Menlo,'DejaVu Sans Mono',consolas,'Courier New',monospace\"><span style=\"color: #7fbfbf\">           </span>METRIC   Round <span style=\"color: #000080; font-weight: bold\">1</span>, collaborator env_4 aggregated_model_validate result acc:       <span style=\"color: #000080; font-weight: bold\">0.000000</span>                                           <a href=\"file:///home/itrushkin/.virtualenvs/openfl/lib/python3.8/site-packages/openfl/interface/interactive_api/experiment.py\"><span style=\"color: #7f7f7f\">experiment.py</span></a><span style=\"color: #7f7f7f\">:111</span>\n",
       "</pre>\n"
      ],
      "text/plain": [
       "<rich.jupyter.JupyterRenderable at 0x7f5002eb02e0>"
      ]
     },
     "metadata": {},
     "output_type": "display_data"
    },
    {
     "data": {
      "text/html": [
       "<pre style=\"white-space:pre;overflow-x:auto;line-height:normal;font-family:Menlo,'DejaVu Sans Mono',consolas,'Courier New',monospace\"><span style=\"color: #7fbfbf\">[13:39:05] </span>METRIC   Round <span style=\"color: #000080; font-weight: bold\">1</span>, collaborator env_5 aggregated_model_validate result acc:       <span style=\"color: #000080; font-weight: bold\">0.148148</span>                                           <a href=\"file:///home/itrushkin/.virtualenvs/openfl/lib/python3.8/site-packages/openfl/interface/interactive_api/experiment.py\"><span style=\"color: #7f7f7f\">experiment.py</span></a><span style=\"color: #7f7f7f\">:111</span>\n",
       "</pre>\n"
      ],
      "text/plain": [
       "<rich.jupyter.JupyterRenderable at 0x7f5002eb0730>"
      ]
     },
     "metadata": {},
     "output_type": "display_data"
    },
    {
     "data": {
      "text/html": [
       "<pre style=\"white-space:pre;overflow-x:auto;line-height:normal;font-family:Menlo,'DejaVu Sans Mono',consolas,'Courier New',monospace\"><span style=\"color: #7fbfbf\">           </span>METRIC   Round <span style=\"color: #000080; font-weight: bold\">1</span>, collaborator env_7 aggregated_model_validate result acc:       <span style=\"color: #000080; font-weight: bold\">0.115385</span>                                           <a href=\"file:///home/itrushkin/.virtualenvs/openfl/lib/python3.8/site-packages/openfl/interface/interactive_api/experiment.py\"><span style=\"color: #7f7f7f\">experiment.py</span></a><span style=\"color: #7f7f7f\">:111</span>\n",
       "</pre>\n"
      ],
      "text/plain": [
       "<rich.jupyter.JupyterRenderable at 0x7f5002eb0130>"
      ]
     },
     "metadata": {},
     "output_type": "display_data"
    },
    {
     "data": {
      "text/html": [
       "<pre style=\"white-space:pre;overflow-x:auto;line-height:normal;font-family:Menlo,'DejaVu Sans Mono',consolas,'Courier New',monospace\"><span style=\"color: #7fbfbf\">[13:39:06] </span>METRIC   Round <span style=\"color: #000080; font-weight: bold\">1</span>, collaborator env_3 aggregated_model_validate result acc:       <span style=\"color: #000080; font-weight: bold\">0.099099</span>                                           <a href=\"file:///home/itrushkin/.virtualenvs/openfl/lib/python3.8/site-packages/openfl/interface/interactive_api/experiment.py\"><span style=\"color: #7f7f7f\">experiment.py</span></a><span style=\"color: #7f7f7f\">:111</span>\n",
       "</pre>\n"
      ],
      "text/plain": [
       "<rich.jupyter.JupyterRenderable at 0x7f5002eb0a60>"
      ]
     },
     "metadata": {},
     "output_type": "display_data"
    },
    {
     "data": {
      "text/html": [
       "<pre style=\"white-space:pre;overflow-x:auto;line-height:normal;font-family:Menlo,'DejaVu Sans Mono',consolas,'Courier New',monospace\"><span style=\"color: #7fbfbf\">           </span>METRIC   Round <span style=\"color: #000080; font-weight: bold\">1</span>, collaborator Aggregator aggregated_model_validate result acc:  <span style=\"color: #000080; font-weight: bold\">0.102669</span>                                           <a href=\"file:///home/itrushkin/.virtualenvs/openfl/lib/python3.8/site-packages/openfl/interface/interactive_api/experiment.py\"><span style=\"color: #7f7f7f\">experiment.py</span></a><span style=\"color: #7f7f7f\">:111</span>\n",
       "</pre>\n"
      ],
      "text/plain": [
       "<rich.jupyter.JupyterRenderable at 0x7f5002eb0130>"
      ]
     },
     "metadata": {},
     "output_type": "display_data"
    },
    {
     "data": {
      "text/html": [
       "<pre style=\"white-space:pre;overflow-x:auto;line-height:normal;font-family:Menlo,'DejaVu Sans Mono',consolas,'Courier New',monospace\"><span style=\"color: #7fbfbf\">[13:39:12] </span>METRIC   Round <span style=\"color: #000080; font-weight: bold\">1</span>, collaborator Aggregator train result train_loss:       <span style=\"color: #000080; font-weight: bold\">0.963483</span>                                                   <a href=\"file:///home/itrushkin/.virtualenvs/openfl/lib/python3.8/site-packages/openfl/interface/interactive_api/experiment.py\"><span style=\"color: #7f7f7f\">experiment.py</span></a><span style=\"color: #7f7f7f\">:111</span>\n",
       "</pre>\n"
      ],
      "text/plain": [
       "<rich.jupyter.JupyterRenderable at 0x7f5002eb09a0>"
      ]
     },
     "metadata": {},
     "output_type": "display_data"
    },
    {
     "data": {
      "text/html": [
       "<pre style=\"white-space:pre;overflow-x:auto;line-height:normal;font-family:Menlo,'DejaVu Sans Mono',consolas,'Courier New',monospace\"><span style=\"color: #7fbfbf\">           </span>METRIC   Round <span style=\"color: #000080; font-weight: bold\">1</span>, collaborator Aggregator localy_tuned_model_validate result acc:        <span style=\"color: #000080; font-weight: bold\">0.117043</span>                                   <a href=\"file:///home/itrushkin/.virtualenvs/openfl/lib/python3.8/site-packages/openfl/interface/interactive_api/experiment.py\"><span style=\"color: #7f7f7f\">experiment.py</span></a><span style=\"color: #7f7f7f\">:111</span>\n",
       "</pre>\n"
      ],
      "text/plain": [
       "<rich.jupyter.JupyterRenderable at 0x7f5002eb0190>"
      ]
     },
     "metadata": {},
     "output_type": "display_data"
    },
    {
     "data": {
      "text/html": [
       "<pre style=\"white-space:pre;overflow-x:auto;line-height:normal;font-family:Menlo,'DejaVu Sans Mono',consolas,'Courier New',monospace\"><span style=\"color: #7fbfbf\">[13:40:59] </span>METRIC   Round <span style=\"color: #000080; font-weight: bold\">2</span>, collaborator env_2 train result train_loss:    <span style=\"color: #000080; font-weight: bold\">7.589661</span>                                                           <a href=\"file:///home/itrushkin/.virtualenvs/openfl/lib/python3.8/site-packages/openfl/interface/interactive_api/experiment.py\"><span style=\"color: #7f7f7f\">experiment.py</span></a><span style=\"color: #7f7f7f\">:111</span>\n",
       "</pre>\n"
      ],
      "text/plain": [
       "<rich.jupyter.JupyterRenderable at 0x7f5002eb04c0>"
      ]
     },
     "metadata": {},
     "output_type": "display_data"
    },
    {
     "data": {
      "text/html": [
       "<pre style=\"white-space:pre;overflow-x:auto;line-height:normal;font-family:Menlo,'DejaVu Sans Mono',consolas,'Courier New',monospace\"><span style=\"color: #7fbfbf\">[13:41:03] </span>METRIC   Round <span style=\"color: #000080; font-weight: bold\">2</span>, collaborator env_2 localy_tuned_model_validate result acc:     <span style=\"color: #000080; font-weight: bold\">0.127273</span>                                           <a href=\"file:///home/itrushkin/.virtualenvs/openfl/lib/python3.8/site-packages/openfl/interface/interactive_api/experiment.py\"><span style=\"color: #7f7f7f\">experiment.py</span></a><span style=\"color: #7f7f7f\">:111</span>\n",
       "</pre>\n"
      ],
      "text/plain": [
       "<rich.jupyter.JupyterRenderable at 0x7f5002eb0310>"
      ]
     },
     "metadata": {},
     "output_type": "display_data"
    },
    {
     "data": {
      "text/html": [
       "<pre style=\"white-space:pre;overflow-x:auto;line-height:normal;font-family:Menlo,'DejaVu Sans Mono',consolas,'Courier New',monospace\"><span style=\"color: #7fbfbf\">[13:41:11] </span>METRIC   Round <span style=\"color: #000080; font-weight: bold\">2</span>, collaborator env_2 aggregated_model_validate result acc:       <span style=\"color: #000080; font-weight: bold\">0.145455</span>                                           <a href=\"file:///home/itrushkin/.virtualenvs/openfl/lib/python3.8/site-packages/openfl/interface/interactive_api/experiment.py\"><span style=\"color: #7f7f7f\">experiment.py</span></a><span style=\"color: #7f7f7f\">:111</span>\n",
       "</pre>\n"
      ],
      "text/plain": [
       "<rich.jupyter.JupyterRenderable at 0x7f5002eb08b0>"
      ]
     },
     "metadata": {},
     "output_type": "display_data"
    },
    {
     "data": {
      "text/html": [
       "<pre style=\"white-space:pre;overflow-x:auto;line-height:normal;font-family:Menlo,'DejaVu Sans Mono',consolas,'Courier New',monospace\"><span style=\"color: #7fbfbf\">[13:41:24] </span>METRIC   Round <span style=\"color: #000080; font-weight: bold\">2</span>, collaborator env_8 train result train_loss:    <span style=\"color: #000080; font-weight: bold\">6.327589</span>                                                           <a href=\"file:///home/itrushkin/.virtualenvs/openfl/lib/python3.8/site-packages/openfl/interface/interactive_api/experiment.py\"><span style=\"color: #7f7f7f\">experiment.py</span></a><span style=\"color: #7f7f7f\">:111</span>\n",
       "</pre>\n"
      ],
      "text/plain": [
       "<rich.jupyter.JupyterRenderable at 0x7f5002eb0910>"
      ]
     },
     "metadata": {},
     "output_type": "display_data"
    },
    {
     "data": {
      "text/html": [
       "<pre style=\"white-space:pre;overflow-x:auto;line-height:normal;font-family:Menlo,'DejaVu Sans Mono',consolas,'Courier New',monospace\"><span style=\"color: #7fbfbf\">[13:41:30] </span>METRIC   Round <span style=\"color: #000080; font-weight: bold\">2</span>, collaborator env_8 localy_tuned_model_validate result acc:     <span style=\"color: #000080; font-weight: bold\">0.100000</span>                                           <a href=\"file:///home/itrushkin/.virtualenvs/openfl/lib/python3.8/site-packages/openfl/interface/interactive_api/experiment.py\"><span style=\"color: #7f7f7f\">experiment.py</span></a><span style=\"color: #7f7f7f\">:111</span>\n",
       "</pre>\n"
      ],
      "text/plain": [
       "<rich.jupyter.JupyterRenderable at 0x7f5002eb0ca0>"
      ]
     },
     "metadata": {},
     "output_type": "display_data"
    },
    {
     "data": {
      "text/html": [
       "<pre style=\"white-space:pre;overflow-x:auto;line-height:normal;font-family:Menlo,'DejaVu Sans Mono',consolas,'Courier New',monospace\"><span style=\"color: #7fbfbf\">[13:41:35] </span>METRIC   Round <span style=\"color: #000080; font-weight: bold\">2</span>, collaborator env_8 aggregated_model_validate result acc:       <span style=\"color: #000080; font-weight: bold\">0.100000</span>                                           <a href=\"file:///home/itrushkin/.virtualenvs/openfl/lib/python3.8/site-packages/openfl/interface/interactive_api/experiment.py\"><span style=\"color: #7f7f7f\">experiment.py</span></a><span style=\"color: #7f7f7f\">:111</span>\n",
       "</pre>\n"
      ],
      "text/plain": [
       "<rich.jupyter.JupyterRenderable at 0x7f5002eb0a60>"
      ]
     },
     "metadata": {},
     "output_type": "display_data"
    },
    {
     "data": {
      "text/html": [
       "<pre style=\"white-space:pre;overflow-x:auto;line-height:normal;font-family:Menlo,'DejaVu Sans Mono',consolas,'Courier New',monospace\"><span style=\"color: #7fbfbf\">[13:41:55] </span>METRIC   Round <span style=\"color: #000080; font-weight: bold\">2</span>, collaborator env_1 train result train_loss:    <span style=\"color: #000080; font-weight: bold\">8.707304</span>                                                           <a href=\"file:///home/itrushkin/.virtualenvs/openfl/lib/python3.8/site-packages/openfl/interface/interactive_api/experiment.py\"><span style=\"color: #7f7f7f\">experiment.py</span></a><span style=\"color: #7f7f7f\">:111</span>\n",
       "</pre>\n"
      ],
      "text/plain": [
       "<rich.jupyter.JupyterRenderable at 0x7f5002eb06d0>"
      ]
     },
     "metadata": {},
     "output_type": "display_data"
    },
    {
     "data": {
      "text/html": [
       "<pre style=\"white-space:pre;overflow-x:auto;line-height:normal;font-family:Menlo,'DejaVu Sans Mono',consolas,'Courier New',monospace\"><span style=\"color: #7fbfbf\">[13:42:03] </span>METRIC   Round <span style=\"color: #000080; font-weight: bold\">2</span>, collaborator env_1 localy_tuned_model_validate result acc:     <span style=\"color: #000080; font-weight: bold\">0.111111</span>                                           <a href=\"file:///home/itrushkin/.virtualenvs/openfl/lib/python3.8/site-packages/openfl/interface/interactive_api/experiment.py\"><span style=\"color: #7f7f7f\">experiment.py</span></a><span style=\"color: #7f7f7f\">:111</span>\n",
       "</pre>\n"
      ],
      "text/plain": [
       "<rich.jupyter.JupyterRenderable at 0x7f5002eb09a0>"
      ]
     },
     "metadata": {},
     "output_type": "display_data"
    },
    {
     "data": {
      "text/html": [
       "<pre style=\"white-space:pre;overflow-x:auto;line-height:normal;font-family:Menlo,'DejaVu Sans Mono',consolas,'Courier New',monospace\"><span style=\"color: #7fbfbf\">[13:42:09] </span>METRIC   Round <span style=\"color: #000080; font-weight: bold\">2</span>, collaborator env_1 aggregated_model_validate result acc:       <span style=\"color: #000080; font-weight: bold\">0.126984</span>                                           <a href=\"file:///home/itrushkin/.virtualenvs/openfl/lib/python3.8/site-packages/openfl/interface/interactive_api/experiment.py\"><span style=\"color: #7f7f7f\">experiment.py</span></a><span style=\"color: #7f7f7f\">:111</span>\n",
       "</pre>\n"
      ],
      "text/plain": [
       "<rich.jupyter.JupyterRenderable at 0x7f5002eb0ac0>"
      ]
     },
     "metadata": {},
     "output_type": "display_data"
    },
    {
     "data": {
      "text/html": [
       "<pre style=\"white-space:pre;overflow-x:auto;line-height:normal;font-family:Menlo,'DejaVu Sans Mono',consolas,'Courier New',monospace\"><span style=\"color: #7fbfbf\">[13:42:26] </span>METRIC   Round <span style=\"color: #000080; font-weight: bold\">2</span>, collaborator env_6 train result train_loss:    <span style=\"color: #000080; font-weight: bold\">6.514324</span>                                                           <a href=\"file:///home/itrushkin/.virtualenvs/openfl/lib/python3.8/site-packages/openfl/interface/interactive_api/experiment.py\"><span style=\"color: #7f7f7f\">experiment.py</span></a><span style=\"color: #7f7f7f\">:111</span>\n",
       "</pre>\n"
      ],
      "text/plain": [
       "<rich.jupyter.JupyterRenderable at 0x7f5002eb04c0>"
      ]
     },
     "metadata": {},
     "output_type": "display_data"
    },
    {
     "data": {
      "text/html": [
       "<pre style=\"white-space:pre;overflow-x:auto;line-height:normal;font-family:Menlo,'DejaVu Sans Mono',consolas,'Courier New',monospace\"><span style=\"color: #7fbfbf\">[13:42:32] </span>METRIC   Round <span style=\"color: #000080; font-weight: bold\">2</span>, collaborator env_6 localy_tuned_model_validate result acc:     <span style=\"color: #000080; font-weight: bold\">0.106383</span>                                           <a href=\"file:///home/itrushkin/.virtualenvs/openfl/lib/python3.8/site-packages/openfl/interface/interactive_api/experiment.py\"><span style=\"color: #7f7f7f\">experiment.py</span></a><span style=\"color: #7f7f7f\">:111</span>\n",
       "</pre>\n"
      ],
      "text/plain": [
       "<rich.jupyter.JupyterRenderable at 0x7f5002eb08e0>"
      ]
     },
     "metadata": {},
     "output_type": "display_data"
    },
    {
     "data": {
      "text/html": [
       "<pre style=\"white-space:pre;overflow-x:auto;line-height:normal;font-family:Menlo,'DejaVu Sans Mono',consolas,'Courier New',monospace\"><span style=\"color: #7fbfbf\">[13:42:37] </span>METRIC   Round <span style=\"color: #000080; font-weight: bold\">2</span>, collaborator env_6 aggregated_model_validate result acc:       <span style=\"color: #000080; font-weight: bold\">0.117021</span>                                           <a href=\"file:///home/itrushkin/.virtualenvs/openfl/lib/python3.8/site-packages/openfl/interface/interactive_api/experiment.py\"><span style=\"color: #7f7f7f\">experiment.py</span></a><span style=\"color: #7f7f7f\">:111</span>\n",
       "</pre>\n"
      ],
      "text/plain": [
       "<rich.jupyter.JupyterRenderable at 0x7f5002eb0610>"
      ]
     },
     "metadata": {},
     "output_type": "display_data"
    },
    {
     "data": {
      "text/html": [
       "<pre style=\"white-space:pre;overflow-x:auto;line-height:normal;font-family:Menlo,'DejaVu Sans Mono',consolas,'Courier New',monospace\"><span style=\"color: #7fbfbf\">[13:42:51] </span>METRIC   Round <span style=\"color: #000080; font-weight: bold\">2</span>, collaborator env_4 train result train_loss:    <span style=\"color: #000080; font-weight: bold\">0.550626</span>                                                           <a href=\"file:///home/itrushkin/.virtualenvs/openfl/lib/python3.8/site-packages/openfl/interface/interactive_api/experiment.py\"><span style=\"color: #7f7f7f\">experiment.py</span></a><span style=\"color: #7f7f7f\">:111</span>\n",
       "</pre>\n"
      ],
      "text/plain": [
       "<rich.jupyter.JupyterRenderable at 0x7f5002eb0430>"
      ]
     },
     "metadata": {},
     "output_type": "display_data"
    },
    {
     "data": {
      "text/html": [
       "<pre style=\"white-space:pre;overflow-x:auto;line-height:normal;font-family:Menlo,'DejaVu Sans Mono',consolas,'Courier New',monospace\"><span style=\"color: #7fbfbf\">[13:42:52] </span>METRIC   Round <span style=\"color: #000080; font-weight: bold\">2</span>, collaborator env_3 train result train_loss:    <span style=\"color: #000080; font-weight: bold\">0.472935</span>                                                           <a href=\"file:///home/itrushkin/.virtualenvs/openfl/lib/python3.8/site-packages/openfl/interface/interactive_api/experiment.py\"><span style=\"color: #7f7f7f\">experiment.py</span></a><span style=\"color: #7f7f7f\">:111</span>\n",
       "</pre>\n"
      ],
      "text/plain": [
       "<rich.jupyter.JupyterRenderable at 0x7f5002eb0400>"
      ]
     },
     "metadata": {},
     "output_type": "display_data"
    },
    {
     "data": {
      "text/html": [
       "<pre style=\"white-space:pre;overflow-x:auto;line-height:normal;font-family:Menlo,'DejaVu Sans Mono',consolas,'Courier New',monospace\"><span style=\"color: #7fbfbf\">           </span>METRIC   Round <span style=\"color: #000080; font-weight: bold\">2</span>, collaborator env_5 train result train_loss:    <span style=\"color: #000080; font-weight: bold\">0.222050</span>                                                           <a href=\"file:///home/itrushkin/.virtualenvs/openfl/lib/python3.8/site-packages/openfl/interface/interactive_api/experiment.py\"><span style=\"color: #7f7f7f\">experiment.py</span></a><span style=\"color: #7f7f7f\">:111</span>\n",
       "</pre>\n"
      ],
      "text/plain": [
       "<rich.jupyter.JupyterRenderable at 0x7f5002eb0430>"
      ]
     },
     "metadata": {},
     "output_type": "display_data"
    },
    {
     "data": {
      "text/html": [
       "<pre style=\"white-space:pre;overflow-x:auto;line-height:normal;font-family:Menlo,'DejaVu Sans Mono',consolas,'Courier New',monospace\"><span style=\"color: #7fbfbf\">           </span>METRIC   Round <span style=\"color: #000080; font-weight: bold\">2</span>, collaborator env_7 train result train_loss:    <span style=\"color: #000080; font-weight: bold\">1.278193</span>                                                           <a href=\"file:///home/itrushkin/.virtualenvs/openfl/lib/python3.8/site-packages/openfl/interface/interactive_api/experiment.py\"><span style=\"color: #7f7f7f\">experiment.py</span></a><span style=\"color: #7f7f7f\">:111</span>\n",
       "</pre>\n"
      ],
      "text/plain": [
       "<rich.jupyter.JupyterRenderable at 0x7f5002eb0160>"
      ]
     },
     "metadata": {},
     "output_type": "display_data"
    },
    {
     "data": {
      "text/html": [
       "<pre style=\"white-space:pre;overflow-x:auto;line-height:normal;font-family:Menlo,'DejaVu Sans Mono',consolas,'Courier New',monospace\"><span style=\"color: #7fbfbf\">[13:42:53] </span>METRIC   Round <span style=\"color: #000080; font-weight: bold\">2</span>, collaborator env_4 localy_tuned_model_validate result acc:     <span style=\"color: #000080; font-weight: bold\">0.090909</span>                                           <a href=\"file:///home/itrushkin/.virtualenvs/openfl/lib/python3.8/site-packages/openfl/interface/interactive_api/experiment.py\"><span style=\"color: #7f7f7f\">experiment.py</span></a><span style=\"color: #7f7f7f\">:111</span>\n",
       "</pre>\n"
      ],
      "text/plain": [
       "<rich.jupyter.JupyterRenderable at 0x7f5002eb0880>"
      ]
     },
     "metadata": {},
     "output_type": "display_data"
    },
    {
     "data": {
      "text/html": [
       "<pre style=\"white-space:pre;overflow-x:auto;line-height:normal;font-family:Menlo,'DejaVu Sans Mono',consolas,'Courier New',monospace\"><span style=\"color: #7fbfbf\">[13:42:55] </span>METRIC   Round <span style=\"color: #000080; font-weight: bold\">2</span>, collaborator env_5 localy_tuned_model_validate result acc:     <span style=\"color: #000080; font-weight: bold\">0.148148</span>                                           <a href=\"file:///home/itrushkin/.virtualenvs/openfl/lib/python3.8/site-packages/openfl/interface/interactive_api/experiment.py\"><span style=\"color: #7f7f7f\">experiment.py</span></a><span style=\"color: #7f7f7f\">:111</span>\n",
       "</pre>\n"
      ],
      "text/plain": [
       "<rich.jupyter.JupyterRenderable at 0x7f5002eb0e50>"
      ]
     },
     "metadata": {},
     "output_type": "display_data"
    },
    {
     "data": {
      "text/html": [
       "<pre style=\"white-space:pre;overflow-x:auto;line-height:normal;font-family:Menlo,'DejaVu Sans Mono',consolas,'Courier New',monospace\"><span style=\"color: #7fbfbf\">           </span>METRIC   Round <span style=\"color: #000080; font-weight: bold\">2</span>, collaborator env_7 localy_tuned_model_validate result acc:     <span style=\"color: #000080; font-weight: bold\">0.192308</span>                                           <a href=\"file:///home/itrushkin/.virtualenvs/openfl/lib/python3.8/site-packages/openfl/interface/interactive_api/experiment.py\"><span style=\"color: #7f7f7f\">experiment.py</span></a><span style=\"color: #7f7f7f\">:111</span>\n",
       "</pre>\n"
      ],
      "text/plain": [
       "<rich.jupyter.JupyterRenderable at 0x7f5002eb0490>"
      ]
     },
     "metadata": {},
     "output_type": "display_data"
    },
    {
     "data": {
      "text/html": [
       "<pre style=\"white-space:pre;overflow-x:auto;line-height:normal;font-family:Menlo,'DejaVu Sans Mono',consolas,'Courier New',monospace\"><span style=\"color: #7fbfbf\">[13:42:56] </span>METRIC   Round <span style=\"color: #000080; font-weight: bold\">2</span>, collaborator env_4 aggregated_model_validate result acc:       <span style=\"color: #000080; font-weight: bold\">0.090909</span>                                           <a href=\"file:///home/itrushkin/.virtualenvs/openfl/lib/python3.8/site-packages/openfl/interface/interactive_api/experiment.py\"><span style=\"color: #7f7f7f\">experiment.py</span></a><span style=\"color: #7f7f7f\">:111</span>\n",
       "</pre>\n"
      ],
      "text/plain": [
       "<rich.jupyter.JupyterRenderable at 0x7f5002eb0a90>"
      ]
     },
     "metadata": {},
     "output_type": "display_data"
    },
    {
     "data": {
      "text/html": [
       "<pre style=\"white-space:pre;overflow-x:auto;line-height:normal;font-family:Menlo,'DejaVu Sans Mono',consolas,'Courier New',monospace\"><span style=\"color: #7fbfbf\">           </span>METRIC   Round <span style=\"color: #000080; font-weight: bold\">2</span>, collaborator env_3 localy_tuned_model_validate result acc:     <span style=\"color: #000080; font-weight: bold\">0.135135</span>                                           <a href=\"file:///home/itrushkin/.virtualenvs/openfl/lib/python3.8/site-packages/openfl/interface/interactive_api/experiment.py\"><span style=\"color: #7f7f7f\">experiment.py</span></a><span style=\"color: #7f7f7f\">:111</span>\n",
       "</pre>\n"
      ],
      "text/plain": [
       "<rich.jupyter.JupyterRenderable at 0x7f5002eb08e0>"
      ]
     },
     "metadata": {},
     "output_type": "display_data"
    },
    {
     "data": {
      "text/html": [
       "<pre style=\"white-space:pre;overflow-x:auto;line-height:normal;font-family:Menlo,'DejaVu Sans Mono',consolas,'Courier New',monospace\"><span style=\"color: #7fbfbf\">[13:42:57] </span>METRIC   Round <span style=\"color: #000080; font-weight: bold\">2</span>, collaborator env_5 aggregated_model_validate result acc:       <span style=\"color: #000080; font-weight: bold\">0.129630</span>                                           <a href=\"file:///home/itrushkin/.virtualenvs/openfl/lib/python3.8/site-packages/openfl/interface/interactive_api/experiment.py\"><span style=\"color: #7f7f7f\">experiment.py</span></a><span style=\"color: #7f7f7f\">:111</span>\n",
       "</pre>\n"
      ],
      "text/plain": [
       "<rich.jupyter.JupyterRenderable at 0x7f5002eb0ca0>"
      ]
     },
     "metadata": {},
     "output_type": "display_data"
    },
    {
     "data": {
      "text/html": [
       "<pre style=\"white-space:pre;overflow-x:auto;line-height:normal;font-family:Menlo,'DejaVu Sans Mono',consolas,'Courier New',monospace\"><span style=\"color: #7fbfbf\">[13:42:58] </span>METRIC   Round <span style=\"color: #000080; font-weight: bold\">2</span>, collaborator env_7 aggregated_model_validate result acc:       <span style=\"color: #000080; font-weight: bold\">0.307692</span>                                           <a href=\"file:///home/itrushkin/.virtualenvs/openfl/lib/python3.8/site-packages/openfl/interface/interactive_api/experiment.py\"><span style=\"color: #7f7f7f\">experiment.py</span></a><span style=\"color: #7f7f7f\">:111</span>\n",
       "</pre>\n"
      ],
      "text/plain": [
       "<rich.jupyter.JupyterRenderable at 0x7f5002eb0790>"
      ]
     },
     "metadata": {},
     "output_type": "display_data"
    },
    {
     "data": {
      "text/html": [
       "<pre style=\"white-space:pre;overflow-x:auto;line-height:normal;font-family:Menlo,'DejaVu Sans Mono',consolas,'Courier New',monospace\"><span style=\"color: #7fbfbf\">[13:43:00] </span>METRIC   Round <span style=\"color: #000080; font-weight: bold\">2</span>, collaborator env_3 aggregated_model_validate result acc:       <span style=\"color: #000080; font-weight: bold\">0.099099</span>                                           <a href=\"file:///home/itrushkin/.virtualenvs/openfl/lib/python3.8/site-packages/openfl/interface/interactive_api/experiment.py\"><span style=\"color: #7f7f7f\">experiment.py</span></a><span style=\"color: #7f7f7f\">:111</span>\n",
       "</pre>\n"
      ],
      "text/plain": [
       "<rich.jupyter.JupyterRenderable at 0x7f5002eb01c0>"
      ]
     },
     "metadata": {},
     "output_type": "display_data"
    },
    {
     "data": {
      "text/html": [
       "<pre style=\"white-space:pre;overflow-x:auto;line-height:normal;font-family:Menlo,'DejaVu Sans Mono',consolas,'Courier New',monospace\"><span style=\"color: #7fbfbf\">           </span>METRIC   Round <span style=\"color: #000080; font-weight: bold\">2</span>, collaborator Aggregator aggregated_model_validate result acc:  <span style=\"color: #000080; font-weight: bold\">0.129363</span>                                           <a href=\"file:///home/itrushkin/.virtualenvs/openfl/lib/python3.8/site-packages/openfl/interface/interactive_api/experiment.py\"><span style=\"color: #7f7f7f\">experiment.py</span></a><span style=\"color: #7f7f7f\">:111</span>\n",
       "</pre>\n"
      ],
      "text/plain": [
       "<rich.jupyter.JupyterRenderable at 0x7f5002eb0850>"
      ]
     },
     "metadata": {},
     "output_type": "display_data"
    },
    {
     "data": {
      "text/html": [
       "<pre style=\"white-space:pre;overflow-x:auto;line-height:normal;font-family:Menlo,'DejaVu Sans Mono',consolas,'Courier New',monospace\"><span style=\"color: #7fbfbf\">[13:43:06] </span>METRIC   Round <span style=\"color: #000080; font-weight: bold\">2</span>, collaborator Aggregator train result train_loss:       <span style=\"color: #000080; font-weight: bold\">1.041013</span>                                                   <a href=\"file:///home/itrushkin/.virtualenvs/openfl/lib/python3.8/site-packages/openfl/interface/interactive_api/experiment.py\"><span style=\"color: #7f7f7f\">experiment.py</span></a><span style=\"color: #7f7f7f\">:111</span>\n",
       "</pre>\n"
      ],
      "text/plain": [
       "<rich.jupyter.JupyterRenderable at 0x7f5002eb0190>"
      ]
     },
     "metadata": {},
     "output_type": "display_data"
    },
    {
     "data": {
      "text/html": [
       "<pre style=\"white-space:pre;overflow-x:auto;line-height:normal;font-family:Menlo,'DejaVu Sans Mono',consolas,'Courier New',monospace\"><span style=\"color: #7fbfbf\">           </span>METRIC   Round <span style=\"color: #000080; font-weight: bold\">2</span>, collaborator Aggregator localy_tuned_model_validate result acc:        <span style=\"color: #000080; font-weight: bold\">0.125257</span>                                   <a href=\"file:///home/itrushkin/.virtualenvs/openfl/lib/python3.8/site-packages/openfl/interface/interactive_api/experiment.py\"><span style=\"color: #7f7f7f\">experiment.py</span></a><span style=\"color: #7f7f7f\">:111</span>\n",
       "</pre>\n"
      ],
      "text/plain": [
       "<rich.jupyter.JupyterRenderable at 0x7f5002eb06d0>"
      ]
     },
     "metadata": {},
     "output_type": "display_data"
    },
    {
     "data": {
      "text/html": [
       "<pre style=\"white-space:pre;overflow-x:auto;line-height:normal;font-family:Menlo,'DejaVu Sans Mono',consolas,'Courier New',monospace\"><span style=\"color: #7fbfbf\">[13:44:53] </span>METRIC   Round <span style=\"color: #000080; font-weight: bold\">3</span>, collaborator env_8 train result train_loss:    <span style=\"color: #000080; font-weight: bold\">5.801192</span>                                                           <a href=\"file:///home/itrushkin/.virtualenvs/openfl/lib/python3.8/site-packages/openfl/interface/interactive_api/experiment.py\"><span style=\"color: #7f7f7f\">experiment.py</span></a><span style=\"color: #7f7f7f\">:111</span>\n",
       "</pre>\n"
      ],
      "text/plain": [
       "<rich.jupyter.JupyterRenderable at 0x7f5002eb0c10>"
      ]
     },
     "metadata": {},
     "output_type": "display_data"
    },
    {
     "data": {
      "text/html": [
       "<pre style=\"white-space:pre;overflow-x:auto;line-height:normal;font-family:Menlo,'DejaVu Sans Mono',consolas,'Courier New',monospace\"><span style=\"color: #7fbfbf\">[13:45:00] </span>METRIC   Round <span style=\"color: #000080; font-weight: bold\">3</span>, collaborator env_8 localy_tuned_model_validate result acc:     <span style=\"color: #000080; font-weight: bold\">0.300000</span>                                           <a href=\"file:///home/itrushkin/.virtualenvs/openfl/lib/python3.8/site-packages/openfl/interface/interactive_api/experiment.py\"><span style=\"color: #7f7f7f\">experiment.py</span></a><span style=\"color: #7f7f7f\">:111</span>\n",
       "</pre>\n"
      ],
      "text/plain": [
       "<rich.jupyter.JupyterRenderable at 0x7f5002eb00d0>"
      ]
     },
     "metadata": {},
     "output_type": "display_data"
    },
    {
     "data": {
      "text/html": [
       "<pre style=\"white-space:pre;overflow-x:auto;line-height:normal;font-family:Menlo,'DejaVu Sans Mono',consolas,'Courier New',monospace\"><span style=\"color: #7fbfbf\">[13:45:04] </span>METRIC   Round <span style=\"color: #000080; font-weight: bold\">3</span>, collaborator env_8 aggregated_model_validate result acc:       <span style=\"color: #000080; font-weight: bold\">0.000000</span>                                           <a href=\"file:///home/itrushkin/.virtualenvs/openfl/lib/python3.8/site-packages/openfl/interface/interactive_api/experiment.py\"><span style=\"color: #7f7f7f\">experiment.py</span></a><span style=\"color: #7f7f7f\">:111</span>\n",
       "</pre>\n"
      ],
      "text/plain": [
       "<rich.jupyter.JupyterRenderable at 0x7f5002eb0490>"
      ]
     },
     "metadata": {},
     "output_type": "display_data"
    },
    {
     "data": {
      "text/html": [
       "<pre style=\"white-space:pre;overflow-x:auto;line-height:normal;font-family:Menlo,'DejaVu Sans Mono',consolas,'Courier New',monospace\"><span style=\"color: #7fbfbf\">[13:45:34] </span>METRIC   Round <span style=\"color: #000080; font-weight: bold\">3</span>, collaborator env_6 train result train_loss:    <span style=\"color: #000080; font-weight: bold\">7.798765</span>                                                           <a href=\"file:///home/itrushkin/.virtualenvs/openfl/lib/python3.8/site-packages/openfl/interface/interactive_api/experiment.py\"><span style=\"color: #7f7f7f\">experiment.py</span></a><span style=\"color: #7f7f7f\">:111</span>\n",
       "</pre>\n"
      ],
      "text/plain": [
       "<rich.jupyter.JupyterRenderable at 0x7f5002eb0730>"
      ]
     },
     "metadata": {},
     "output_type": "display_data"
    },
    {
     "data": {
      "text/html": [
       "<pre style=\"white-space:pre;overflow-x:auto;line-height:normal;font-family:Menlo,'DejaVu Sans Mono',consolas,'Courier New',monospace\"><span style=\"color: #7fbfbf\">[13:45:41] </span>METRIC   Round <span style=\"color: #000080; font-weight: bold\">3</span>, collaborator env_6 localy_tuned_model_validate result acc:     <span style=\"color: #000080; font-weight: bold\">0.148936</span>                                           <a href=\"file:///home/itrushkin/.virtualenvs/openfl/lib/python3.8/site-packages/openfl/interface/interactive_api/experiment.py\"><span style=\"color: #7f7f7f\">experiment.py</span></a><span style=\"color: #7f7f7f\">:111</span>\n",
       "</pre>\n"
      ],
      "text/plain": [
       "<rich.jupyter.JupyterRenderable at 0x7f5002eb0430>"
      ]
     },
     "metadata": {},
     "output_type": "display_data"
    },
    {
     "data": {
      "text/html": [
       "<pre style=\"white-space:pre;overflow-x:auto;line-height:normal;font-family:Menlo,'DejaVu Sans Mono',consolas,'Courier New',monospace\"><span style=\"color: #7fbfbf\">[13:45:49] </span>METRIC   Round <span style=\"color: #000080; font-weight: bold\">3</span>, collaborator env_6 aggregated_model_validate result acc:       <span style=\"color: #000080; font-weight: bold\">0.148936</span>                                           <a href=\"file:///home/itrushkin/.virtualenvs/openfl/lib/python3.8/site-packages/openfl/interface/interactive_api/experiment.py\"><span style=\"color: #7f7f7f\">experiment.py</span></a><span style=\"color: #7f7f7f\">:111</span>\n",
       "</pre>\n"
      ],
      "text/plain": [
       "<rich.jupyter.JupyterRenderable at 0x7f5002eb0400>"
      ]
     },
     "metadata": {},
     "output_type": "display_data"
    },
    {
     "data": {
      "text/html": [
       "<pre style=\"white-space:pre;overflow-x:auto;line-height:normal;font-family:Menlo,'DejaVu Sans Mono',consolas,'Courier New',monospace\"><span style=\"color: #7fbfbf\">[13:45:50] </span>METRIC   Round <span style=\"color: #000080; font-weight: bold\">3</span>, collaborator env_2 train result train_loss:    <span style=\"color: #000080; font-weight: bold\">8.598790</span>                                                           <a href=\"file:///home/itrushkin/.virtualenvs/openfl/lib/python3.8/site-packages/openfl/interface/interactive_api/experiment.py\"><span style=\"color: #7f7f7f\">experiment.py</span></a><span style=\"color: #7f7f7f\">:111</span>\n",
       "</pre>\n"
      ],
      "text/plain": [
       "<rich.jupyter.JupyterRenderable at 0x7f5002eb05b0>"
      ]
     },
     "metadata": {},
     "output_type": "display_data"
    },
    {
     "data": {
      "text/html": [
       "<pre style=\"white-space:pre;overflow-x:auto;line-height:normal;font-family:Menlo,'DejaVu Sans Mono',consolas,'Courier New',monospace\"><span style=\"color: #7fbfbf\">[13:45:55] </span>METRIC   Round <span style=\"color: #000080; font-weight: bold\">3</span>, collaborator env_2 localy_tuned_model_validate result acc:     <span style=\"color: #000080; font-weight: bold\">0.145455</span>                                           <a href=\"file:///home/itrushkin/.virtualenvs/openfl/lib/python3.8/site-packages/openfl/interface/interactive_api/experiment.py\"><span style=\"color: #7f7f7f\">experiment.py</span></a><span style=\"color: #7f7f7f\">:111</span>\n",
       "</pre>\n"
      ],
      "text/plain": [
       "<rich.jupyter.JupyterRenderable at 0x7f5002eb0e50>"
      ]
     },
     "metadata": {},
     "output_type": "display_data"
    },
    {
     "data": {
      "text/html": [
       "<pre style=\"white-space:pre;overflow-x:auto;line-height:normal;font-family:Menlo,'DejaVu Sans Mono',consolas,'Courier New',monospace\"><span style=\"color: #7fbfbf\">[13:46:00] </span>METRIC   Round <span style=\"color: #000080; font-weight: bold\">3</span>, collaborator env_2 aggregated_model_validate result acc:       <span style=\"color: #000080; font-weight: bold\">0.109091</span>                                           <a href=\"file:///home/itrushkin/.virtualenvs/openfl/lib/python3.8/site-packages/openfl/interface/interactive_api/experiment.py\"><span style=\"color: #7f7f7f\">experiment.py</span></a><span style=\"color: #7f7f7f\">:111</span>\n",
       "</pre>\n"
      ],
      "text/plain": [
       "<rich.jupyter.JupyterRenderable at 0x7f5002eb0c70>"
      ]
     },
     "metadata": {},
     "output_type": "display_data"
    },
    {
     "data": {
      "text/html": [
       "<pre style=\"white-space:pre;overflow-x:auto;line-height:normal;font-family:Menlo,'DejaVu Sans Mono',consolas,'Courier New',monospace\"><span style=\"color: #7fbfbf\">[13:46:13] </span>METRIC   Round <span style=\"color: #000080; font-weight: bold\">3</span>, collaborator env_1 train result train_loss:    <span style=\"color: #000080; font-weight: bold\">10.179089</span>                                                          <a href=\"file:///home/itrushkin/.virtualenvs/openfl/lib/python3.8/site-packages/openfl/interface/interactive_api/experiment.py\"><span style=\"color: #7f7f7f\">experiment.py</span></a><span style=\"color: #7f7f7f\">:111</span>\n",
       "</pre>\n"
      ],
      "text/plain": [
       "<rich.jupyter.JupyterRenderable at 0x7f5002eb0190>"
      ]
     },
     "metadata": {},
     "output_type": "display_data"
    },
    {
     "data": {
      "text/html": [
       "<pre style=\"white-space:pre;overflow-x:auto;line-height:normal;font-family:Menlo,'DejaVu Sans Mono',consolas,'Courier New',monospace\"><span style=\"color: #7fbfbf\">[13:46:22] </span>METRIC   Round <span style=\"color: #000080; font-weight: bold\">3</span>, collaborator env_1 localy_tuned_model_validate result acc:     <span style=\"color: #000080; font-weight: bold\">0.119048</span>                                           <a href=\"file:///home/itrushkin/.virtualenvs/openfl/lib/python3.8/site-packages/openfl/interface/interactive_api/experiment.py\"><span style=\"color: #7f7f7f\">experiment.py</span></a><span style=\"color: #7f7f7f\">:111</span>\n",
       "</pre>\n"
      ],
      "text/plain": [
       "<rich.jupyter.JupyterRenderable at 0x7f5002eb0850>"
      ]
     },
     "metadata": {},
     "output_type": "display_data"
    },
    {
     "data": {
      "text/html": [
       "<pre style=\"white-space:pre;overflow-x:auto;line-height:normal;font-family:Menlo,'DejaVu Sans Mono',consolas,'Courier New',monospace\"><span style=\"color: #7fbfbf\">[13:46:29] </span>METRIC   Round <span style=\"color: #000080; font-weight: bold\">3</span>, collaborator env_1 aggregated_model_validate result acc:       <span style=\"color: #000080; font-weight: bold\">0.103175</span>                                           <a href=\"file:///home/itrushkin/.virtualenvs/openfl/lib/python3.8/site-packages/openfl/interface/interactive_api/experiment.py\"><span style=\"color: #7f7f7f\">experiment.py</span></a><span style=\"color: #7f7f7f\">:111</span>\n",
       "</pre>\n"
      ],
      "text/plain": [
       "<rich.jupyter.JupyterRenderable at 0x7f5002eb07f0>"
      ]
     },
     "metadata": {},
     "output_type": "display_data"
    },
    {
     "data": {
      "text/html": [
       "<pre style=\"white-space:pre;overflow-x:auto;line-height:normal;font-family:Menlo,'DejaVu Sans Mono',consolas,'Courier New',monospace\"><span style=\"color: #7fbfbf\">[13:46:48] </span>METRIC   Round <span style=\"color: #000080; font-weight: bold\">3</span>, collaborator env_7 train result train_loss:    <span style=\"color: #000080; font-weight: bold\">0.500717</span>                                                           <a href=\"file:///home/itrushkin/.virtualenvs/openfl/lib/python3.8/site-packages/openfl/interface/interactive_api/experiment.py\"><span style=\"color: #7f7f7f\">experiment.py</span></a><span style=\"color: #7f7f7f\">:111</span>\n",
       "</pre>\n"
      ],
      "text/plain": [
       "<rich.jupyter.JupyterRenderable at 0x7f5002eb0730>"
      ]
     },
     "metadata": {},
     "output_type": "display_data"
    },
    {
     "data": {
      "text/html": [
       "<pre style=\"white-space:pre;overflow-x:auto;line-height:normal;font-family:Menlo,'DejaVu Sans Mono',consolas,'Courier New',monospace\"><span style=\"color: #7fbfbf\">           </span>METRIC   Round <span style=\"color: #000080; font-weight: bold\">3</span>, collaborator env_4 train result train_loss:    <span style=\"color: #000080; font-weight: bold\">0.694700</span>                                                           <a href=\"file:///home/itrushkin/.virtualenvs/openfl/lib/python3.8/site-packages/openfl/interface/interactive_api/experiment.py\"><span style=\"color: #7f7f7f\">experiment.py</span></a><span style=\"color: #7f7f7f\">:111</span>\n",
       "</pre>\n"
      ],
      "text/plain": [
       "<rich.jupyter.JupyterRenderable at 0x7f5002eb04f0>"
      ]
     },
     "metadata": {},
     "output_type": "display_data"
    },
    {
     "data": {
      "text/html": [
       "<pre style=\"white-space:pre;overflow-x:auto;line-height:normal;font-family:Menlo,'DejaVu Sans Mono',consolas,'Courier New',monospace\"><span style=\"color: #7fbfbf\">           </span>METRIC   Round <span style=\"color: #000080; font-weight: bold\">3</span>, collaborator env_3 train result train_loss:    <span style=\"color: #000080; font-weight: bold\">0.543315</span>                                                           <a href=\"file:///home/itrushkin/.virtualenvs/openfl/lib/python3.8/site-packages/openfl/interface/interactive_api/experiment.py\"><span style=\"color: #7f7f7f\">experiment.py</span></a><span style=\"color: #7f7f7f\">:111</span>\n",
       "</pre>\n"
      ],
      "text/plain": [
       "<rich.jupyter.JupyterRenderable at 0x7f5002eb0ee0>"
      ]
     },
     "metadata": {},
     "output_type": "display_data"
    },
    {
     "data": {
      "text/html": [
       "<pre style=\"white-space:pre;overflow-x:auto;line-height:normal;font-family:Menlo,'DejaVu Sans Mono',consolas,'Courier New',monospace\"><span style=\"color: #7fbfbf\">           </span>METRIC   Round <span style=\"color: #000080; font-weight: bold\">3</span>, collaborator env_5 train result train_loss:    <span style=\"color: #000080; font-weight: bold\">0.449150</span>                                                           <a href=\"file:///home/itrushkin/.virtualenvs/openfl/lib/python3.8/site-packages/openfl/interface/interactive_api/experiment.py\"><span style=\"color: #7f7f7f\">experiment.py</span></a><span style=\"color: #7f7f7f\">:111</span>\n",
       "</pre>\n"
      ],
      "text/plain": [
       "<rich.jupyter.JupyterRenderable at 0x7f5002eb0580>"
      ]
     },
     "metadata": {},
     "output_type": "display_data"
    },
    {
     "data": {
      "text/html": [
       "<pre style=\"white-space:pre;overflow-x:auto;line-height:normal;font-family:Menlo,'DejaVu Sans Mono',consolas,'Courier New',monospace\"><span style=\"color: #7fbfbf\">[13:46:50] </span>METRIC   Round <span style=\"color: #000080; font-weight: bold\">3</span>, collaborator env_7 localy_tuned_model_validate result acc:     <span style=\"color: #000080; font-weight: bold\">0.192308</span>                                           <a href=\"file:///home/itrushkin/.virtualenvs/openfl/lib/python3.8/site-packages/openfl/interface/interactive_api/experiment.py\"><span style=\"color: #7f7f7f\">experiment.py</span></a><span style=\"color: #7f7f7f\">:111</span>\n",
       "</pre>\n"
      ],
      "text/plain": [
       "<rich.jupyter.JupyterRenderable at 0x7f5002eb0a00>"
      ]
     },
     "metadata": {},
     "output_type": "display_data"
    },
    {
     "data": {
      "text/html": [
       "<pre style=\"white-space:pre;overflow-x:auto;line-height:normal;font-family:Menlo,'DejaVu Sans Mono',consolas,'Courier New',monospace\"><span style=\"color: #7fbfbf\">[13:46:51] </span>METRIC   Round <span style=\"color: #000080; font-weight: bold\">3</span>, collaborator env_4 localy_tuned_model_validate result acc:     <span style=\"color: #000080; font-weight: bold\">0.090909</span>                                           <a href=\"file:///home/itrushkin/.virtualenvs/openfl/lib/python3.8/site-packages/openfl/interface/interactive_api/experiment.py\"><span style=\"color: #7f7f7f\">experiment.py</span></a><span style=\"color: #7f7f7f\">:111</span>\n",
       "</pre>\n"
      ],
      "text/plain": [
       "<rich.jupyter.JupyterRenderable at 0x7f5002eb0220>"
      ]
     },
     "metadata": {},
     "output_type": "display_data"
    },
    {
     "data": {
      "text/html": [
       "<pre style=\"white-space:pre;overflow-x:auto;line-height:normal;font-family:Menlo,'DejaVu Sans Mono',consolas,'Courier New',monospace\"><span style=\"color: #7fbfbf\">[13:46:52] </span>METRIC   Round <span style=\"color: #000080; font-weight: bold\">3</span>, collaborator env_5 localy_tuned_model_validate result acc:     <span style=\"color: #000080; font-weight: bold\">0.148148</span>                                           <a href=\"file:///home/itrushkin/.virtualenvs/openfl/lib/python3.8/site-packages/openfl/interface/interactive_api/experiment.py\"><span style=\"color: #7f7f7f\">experiment.py</span></a><span style=\"color: #7f7f7f\">:111</span>\n",
       "</pre>\n"
      ],
      "text/plain": [
       "<rich.jupyter.JupyterRenderable at 0x7f5002eb08e0>"
      ]
     },
     "metadata": {},
     "output_type": "display_data"
    },
    {
     "data": {
      "text/html": [
       "<pre style=\"white-space:pre;overflow-x:auto;line-height:normal;font-family:Menlo,'DejaVu Sans Mono',consolas,'Courier New',monospace\"><span style=\"color: #7fbfbf\">           </span>METRIC   Round <span style=\"color: #000080; font-weight: bold\">3</span>, collaborator env_7 aggregated_model_validate result acc:       <span style=\"color: #000080; font-weight: bold\">0.346154</span>                                           <a href=\"file:///home/itrushkin/.virtualenvs/openfl/lib/python3.8/site-packages/openfl/interface/interactive_api/experiment.py\"><span style=\"color: #7f7f7f\">experiment.py</span></a><span style=\"color: #7f7f7f\">:111</span>\n",
       "</pre>\n"
      ],
      "text/plain": [
       "<rich.jupyter.JupyterRenderable at 0x7f5002eb0d60>"
      ]
     },
     "metadata": {},
     "output_type": "display_data"
    },
    {
     "data": {
      "text/html": [
       "<pre style=\"white-space:pre;overflow-x:auto;line-height:normal;font-family:Menlo,'DejaVu Sans Mono',consolas,'Courier New',monospace\"><span style=\"color: #7fbfbf\">[13:46:53] </span>METRIC   Round <span style=\"color: #000080; font-weight: bold\">3</span>, collaborator env_4 aggregated_model_validate result acc:       <span style=\"color: #000080; font-weight: bold\">0.181818</span>                                           <a href=\"file:///home/itrushkin/.virtualenvs/openfl/lib/python3.8/site-packages/openfl/interface/interactive_api/experiment.py\"><span style=\"color: #7f7f7f\">experiment.py</span></a><span style=\"color: #7f7f7f\">:111</span>\n",
       "</pre>\n"
      ],
      "text/plain": [
       "<rich.jupyter.JupyterRenderable at 0x7f5002eb0220>"
      ]
     },
     "metadata": {},
     "output_type": "display_data"
    },
    {
     "data": {
      "text/html": [
       "<pre style=\"white-space:pre;overflow-x:auto;line-height:normal;font-family:Menlo,'DejaVu Sans Mono',consolas,'Courier New',monospace\"><span style=\"color: #7fbfbf\">           </span>METRIC   Round <span style=\"color: #000080; font-weight: bold\">3</span>, collaborator env_3 localy_tuned_model_validate result acc:     <span style=\"color: #000080; font-weight: bold\">0.135135</span>                                           <a href=\"file:///home/itrushkin/.virtualenvs/openfl/lib/python3.8/site-packages/openfl/interface/interactive_api/experiment.py\"><span style=\"color: #7f7f7f\">experiment.py</span></a><span style=\"color: #7f7f7f\">:111</span>\n",
       "</pre>\n"
      ],
      "text/plain": [
       "<rich.jupyter.JupyterRenderable at 0x7f5002eb0790>"
      ]
     },
     "metadata": {},
     "output_type": "display_data"
    },
    {
     "data": {
      "text/html": [
       "<pre style=\"white-space:pre;overflow-x:auto;line-height:normal;font-family:Menlo,'DejaVu Sans Mono',consolas,'Courier New',monospace\"><span style=\"color: #7fbfbf\">[13:46:54] </span>METRIC   Round <span style=\"color: #000080; font-weight: bold\">3</span>, collaborator env_5 aggregated_model_validate result acc:       <span style=\"color: #000080; font-weight: bold\">0.203704</span>                                           <a href=\"file:///home/itrushkin/.virtualenvs/openfl/lib/python3.8/site-packages/openfl/interface/interactive_api/experiment.py\"><span style=\"color: #7f7f7f\">experiment.py</span></a><span style=\"color: #7f7f7f\">:111</span>\n",
       "</pre>\n"
      ],
      "text/plain": [
       "<rich.jupyter.JupyterRenderable at 0x7f5002eb0d60>"
      ]
     },
     "metadata": {},
     "output_type": "display_data"
    },
    {
     "data": {
      "text/html": [
       "<pre style=\"white-space:pre;overflow-x:auto;line-height:normal;font-family:Menlo,'DejaVu Sans Mono',consolas,'Courier New',monospace\"><span style=\"color: #7fbfbf\">[13:46:57] </span>METRIC   Round <span style=\"color: #000080; font-weight: bold\">3</span>, collaborator env_3 aggregated_model_validate result acc:       <span style=\"color: #000080; font-weight: bold\">0.153153</span>                                           <a href=\"file:///home/itrushkin/.virtualenvs/openfl/lib/python3.8/site-packages/openfl/interface/interactive_api/experiment.py\"><span style=\"color: #7f7f7f\">experiment.py</span></a><span style=\"color: #7f7f7f\">:111</span>\n",
       "</pre>\n"
      ],
      "text/plain": [
       "<rich.jupyter.JupyterRenderable at 0x7f5002eb0430>"
      ]
     },
     "metadata": {},
     "output_type": "display_data"
    },
    {
     "data": {
      "text/html": [
       "<pre style=\"white-space:pre;overflow-x:auto;line-height:normal;font-family:Menlo,'DejaVu Sans Mono',consolas,'Courier New',monospace\"><span style=\"color: #7fbfbf\">           </span>METRIC   Round <span style=\"color: #000080; font-weight: bold\">3</span>, collaborator Aggregator aggregated_model_validate result acc:  <span style=\"color: #000080; font-weight: bold\">0.147844</span>                                           <a href=\"file:///home/itrushkin/.virtualenvs/openfl/lib/python3.8/site-packages/openfl/interface/interactive_api/experiment.py\"><span style=\"color: #7f7f7f\">experiment.py</span></a><span style=\"color: #7f7f7f\">:111</span>\n",
       "</pre>\n"
      ],
      "text/plain": [
       "<rich.jupyter.JupyterRenderable at 0x7f5002eb0a90>"
      ]
     },
     "metadata": {},
     "output_type": "display_data"
    },
    {
     "data": {
      "text/html": [
       "<pre style=\"white-space:pre;overflow-x:auto;line-height:normal;font-family:Menlo,'DejaVu Sans Mono',consolas,'Courier New',monospace\"><span style=\"color: #7fbfbf\">[13:47:03] </span>METRIC   Round <span style=\"color: #000080; font-weight: bold\">3</span>, collaborator Aggregator train result train_loss:       <span style=\"color: #000080; font-weight: bold\">1.087119</span>                                                   <a href=\"file:///home/itrushkin/.virtualenvs/openfl/lib/python3.8/site-packages/openfl/interface/interactive_api/experiment.py\"><span style=\"color: #7f7f7f\">experiment.py</span></a><span style=\"color: #7f7f7f\">:111</span>\n",
       "</pre>\n"
      ],
      "text/plain": [
       "<rich.jupyter.JupyterRenderable at 0x7f5002eb0c70>"
      ]
     },
     "metadata": {},
     "output_type": "display_data"
    },
    {
     "data": {
      "text/html": [
       "<pre style=\"white-space:pre;overflow-x:auto;line-height:normal;font-family:Menlo,'DejaVu Sans Mono',consolas,'Courier New',monospace\"><span style=\"color: #7fbfbf\">           </span>METRIC   Round <span style=\"color: #000080; font-weight: bold\">3</span>, collaborator Aggregator localy_tuned_model_validate result acc:        <span style=\"color: #000080; font-weight: bold\">0.141684</span>                                   <a href=\"file:///home/itrushkin/.virtualenvs/openfl/lib/python3.8/site-packages/openfl/interface/interactive_api/experiment.py\"><span style=\"color: #7f7f7f\">experiment.py</span></a><span style=\"color: #7f7f7f\">:111</span>\n",
       "</pre>\n"
      ],
      "text/plain": [
       "<rich.jupyter.JupyterRenderable at 0x7f5002eb0a90>"
      ]
     },
     "metadata": {},
     "output_type": "display_data"
    },
    {
     "data": {
      "text/html": [
       "<pre style=\"white-space:pre;overflow-x:auto;line-height:normal;font-family:Menlo,'DejaVu Sans Mono',consolas,'Courier New',monospace\"><span style=\"color: #7fbfbf\">[13:49:01] </span>METRIC   Round <span style=\"color: #000080; font-weight: bold\">4</span>, collaborator env_6 train result train_loss:    <span style=\"color: #000080; font-weight: bold\">6.362684</span>                                                           <a href=\"file:///home/itrushkin/.virtualenvs/openfl/lib/python3.8/site-packages/openfl/interface/interactive_api/experiment.py\"><span style=\"color: #7f7f7f\">experiment.py</span></a><span style=\"color: #7f7f7f\">:111</span>\n",
       "</pre>\n"
      ],
      "text/plain": [
       "<rich.jupyter.JupyterRenderable at 0x7f5002eb0bb0>"
      ]
     },
     "metadata": {},
     "output_type": "display_data"
    },
    {
     "data": {
      "text/html": [
       "<pre style=\"white-space:pre;overflow-x:auto;line-height:normal;font-family:Menlo,'DejaVu Sans Mono',consolas,'Courier New',monospace\"><span style=\"color: #7fbfbf\">[13:49:06] </span>METRIC   Round <span style=\"color: #000080; font-weight: bold\">4</span>, collaborator env_6 localy_tuned_model_validate result acc:     <span style=\"color: #000080; font-weight: bold\">0.127660</span>                                           <a href=\"file:///home/itrushkin/.virtualenvs/openfl/lib/python3.8/site-packages/openfl/interface/interactive_api/experiment.py\"><span style=\"color: #7f7f7f\">experiment.py</span></a><span style=\"color: #7f7f7f\">:111</span>\n",
       "</pre>\n"
      ],
      "text/plain": [
       "<rich.jupyter.JupyterRenderable at 0x7f5002eb04c0>"
      ]
     },
     "metadata": {},
     "output_type": "display_data"
    },
    {
     "data": {
      "text/html": [
       "<pre style=\"white-space:pre;overflow-x:auto;line-height:normal;font-family:Menlo,'DejaVu Sans Mono',consolas,'Courier New',monospace\"><span style=\"color: #7fbfbf\">[13:49:14] </span>METRIC   Round <span style=\"color: #000080; font-weight: bold\">4</span>, collaborator env_6 aggregated_model_validate result acc:       <span style=\"color: #000080; font-weight: bold\">0.138298</span>                                           <a href=\"file:///home/itrushkin/.virtualenvs/openfl/lib/python3.8/site-packages/openfl/interface/interactive_api/experiment.py\"><span style=\"color: #7f7f7f\">experiment.py</span></a><span style=\"color: #7f7f7f\">:111</span>\n",
       "</pre>\n"
      ],
      "text/plain": [
       "<rich.jupyter.JupyterRenderable at 0x7f5002eb0910>"
      ]
     },
     "metadata": {},
     "output_type": "display_data"
    },
    {
     "data": {
      "text/html": [
       "<pre style=\"white-space:pre;overflow-x:auto;line-height:normal;font-family:Menlo,'DejaVu Sans Mono',consolas,'Courier New',monospace\"><span style=\"color: #7fbfbf\">[13:49:31] </span>METRIC   Round <span style=\"color: #000080; font-weight: bold\">4</span>, collaborator env_2 train result train_loss:    <span style=\"color: #000080; font-weight: bold\">7.557998</span>                                                           <a href=\"file:///home/itrushkin/.virtualenvs/openfl/lib/python3.8/site-packages/openfl/interface/interactive_api/experiment.py\"><span style=\"color: #7f7f7f\">experiment.py</span></a><span style=\"color: #7f7f7f\">:111</span>\n",
       "</pre>\n"
      ],
      "text/plain": [
       "<rich.jupyter.JupyterRenderable at 0x7f5002eb0070>"
      ]
     },
     "metadata": {},
     "output_type": "display_data"
    },
    {
     "data": {
      "text/html": [
       "<pre style=\"white-space:pre;overflow-x:auto;line-height:normal;font-family:Menlo,'DejaVu Sans Mono',consolas,'Courier New',monospace\"><span style=\"color: #7fbfbf\">[13:49:39] </span>METRIC   Round <span style=\"color: #000080; font-weight: bold\">4</span>, collaborator env_2 localy_tuned_model_validate result acc:     <span style=\"color: #000080; font-weight: bold\">0.127273</span>                                           <a href=\"file:///home/itrushkin/.virtualenvs/openfl/lib/python3.8/site-packages/openfl/interface/interactive_api/experiment.py\"><span style=\"color: #7f7f7f\">experiment.py</span></a><span style=\"color: #7f7f7f\">:111</span>\n",
       "</pre>\n"
      ],
      "text/plain": [
       "<rich.jupyter.JupyterRenderable at 0x7f5002eb0130>"
      ]
     },
     "metadata": {},
     "output_type": "display_data"
    },
    {
     "data": {
      "text/html": [
       "<pre style=\"white-space:pre;overflow-x:auto;line-height:normal;font-family:Menlo,'DejaVu Sans Mono',consolas,'Courier New',monospace\"><span style=\"color: #7fbfbf\">[13:49:46] </span>METRIC   Round <span style=\"color: #000080; font-weight: bold\">4</span>, collaborator env_2 aggregated_model_validate result acc:       <span style=\"color: #000080; font-weight: bold\">0.109091</span>                                           <a href=\"file:///home/itrushkin/.virtualenvs/openfl/lib/python3.8/site-packages/openfl/interface/interactive_api/experiment.py\"><span style=\"color: #7f7f7f\">experiment.py</span></a><span style=\"color: #7f7f7f\">:111</span>\n",
       "</pre>\n"
      ],
      "text/plain": [
       "<rich.jupyter.JupyterRenderable at 0x7f5002eb0a00>"
      ]
     },
     "metadata": {},
     "output_type": "display_data"
    },
    {
     "data": {
      "text/html": [
       "<pre style=\"white-space:pre;overflow-x:auto;line-height:normal;font-family:Menlo,'DejaVu Sans Mono',consolas,'Courier New',monospace\"><span style=\"color: #7fbfbf\">[13:50:03] </span>METRIC   Round <span style=\"color: #000080; font-weight: bold\">4</span>, collaborator env_8 train result train_loss:    <span style=\"color: #000080; font-weight: bold\">5.614558</span>                                                           <a href=\"file:///home/itrushkin/.virtualenvs/openfl/lib/python3.8/site-packages/openfl/interface/interactive_api/experiment.py\"><span style=\"color: #7f7f7f\">experiment.py</span></a><span style=\"color: #7f7f7f\">:111</span>\n",
       "</pre>\n"
      ],
      "text/plain": [
       "<rich.jupyter.JupyterRenderable at 0x7f5002eb0a90>"
      ]
     },
     "metadata": {},
     "output_type": "display_data"
    },
    {
     "data": {
      "text/html": [
       "<pre style=\"white-space:pre;overflow-x:auto;line-height:normal;font-family:Menlo,'DejaVu Sans Mono',consolas,'Courier New',monospace\"><span style=\"color: #7fbfbf\">[13:50:09] </span>METRIC   Round <span style=\"color: #000080; font-weight: bold\">4</span>, collaborator env_8 localy_tuned_model_validate result acc:     <span style=\"color: #000080; font-weight: bold\">0.200000</span>                                           <a href=\"file:///home/itrushkin/.virtualenvs/openfl/lib/python3.8/site-packages/openfl/interface/interactive_api/experiment.py\"><span style=\"color: #7f7f7f\">experiment.py</span></a><span style=\"color: #7f7f7f\">:111</span>\n",
       "</pre>\n"
      ],
      "text/plain": [
       "<rich.jupyter.JupyterRenderable at 0x7f5002eb0a60>"
      ]
     },
     "metadata": {},
     "output_type": "display_data"
    },
    {
     "data": {
      "text/html": [
       "<pre style=\"white-space:pre;overflow-x:auto;line-height:normal;font-family:Menlo,'DejaVu Sans Mono',consolas,'Courier New',monospace\"><span style=\"color: #7fbfbf\">[13:50:13] </span>METRIC   Round <span style=\"color: #000080; font-weight: bold\">4</span>, collaborator env_8 aggregated_model_validate result acc:       <span style=\"color: #000080; font-weight: bold\">0.100000</span>                                           <a href=\"file:///home/itrushkin/.virtualenvs/openfl/lib/python3.8/site-packages/openfl/interface/interactive_api/experiment.py\"><span style=\"color: #7f7f7f\">experiment.py</span></a><span style=\"color: #7f7f7f\">:111</span>\n",
       "</pre>\n"
      ],
      "text/plain": [
       "<rich.jupyter.JupyterRenderable at 0x7f5002eb0940>"
      ]
     },
     "metadata": {},
     "output_type": "display_data"
    },
    {
     "data": {
      "text/html": [
       "<pre style=\"white-space:pre;overflow-x:auto;line-height:normal;font-family:Menlo,'DejaVu Sans Mono',consolas,'Courier New',monospace\"><span style=\"color: #7fbfbf\">[13:50:15] </span>METRIC   Round <span style=\"color: #000080; font-weight: bold\">4</span>, collaborator env_1 train result train_loss:    <span style=\"color: #000080; font-weight: bold\">9.132400</span>                                                           <a href=\"file:///home/itrushkin/.virtualenvs/openfl/lib/python3.8/site-packages/openfl/interface/interactive_api/experiment.py\"><span style=\"color: #7f7f7f\">experiment.py</span></a><span style=\"color: #7f7f7f\">:111</span>\n",
       "</pre>\n"
      ],
      "text/plain": [
       "<rich.jupyter.JupyterRenderable at 0x7f5002eb0550>"
      ]
     },
     "metadata": {},
     "output_type": "display_data"
    },
    {
     "data": {
      "text/html": [
       "<pre style=\"white-space:pre;overflow-x:auto;line-height:normal;font-family:Menlo,'DejaVu Sans Mono',consolas,'Courier New',monospace\"><span style=\"color: #7fbfbf\">[13:50:20] </span>METRIC   Round <span style=\"color: #000080; font-weight: bold\">4</span>, collaborator env_1 localy_tuned_model_validate result acc:     <span style=\"color: #000080; font-weight: bold\">0.158730</span>                                           <a href=\"file:///home/itrushkin/.virtualenvs/openfl/lib/python3.8/site-packages/openfl/interface/interactive_api/experiment.py\"><span style=\"color: #7f7f7f\">experiment.py</span></a><span style=\"color: #7f7f7f\">:111</span>\n",
       "</pre>\n"
      ],
      "text/plain": [
       "<rich.jupyter.JupyterRenderable at 0x7f5002eb0910>"
      ]
     },
     "metadata": {},
     "output_type": "display_data"
    },
    {
     "data": {
      "text/html": [
       "<pre style=\"white-space:pre;overflow-x:auto;line-height:normal;font-family:Menlo,'DejaVu Sans Mono',consolas,'Courier New',monospace\"><span style=\"color: #7fbfbf\">[13:50:26] </span>METRIC   Round <span style=\"color: #000080; font-weight: bold\">4</span>, collaborator env_1 aggregated_model_validate result acc:       <span style=\"color: #000080; font-weight: bold\">0.142857</span>                                           <a href=\"file:///home/itrushkin/.virtualenvs/openfl/lib/python3.8/site-packages/openfl/interface/interactive_api/experiment.py\"><span style=\"color: #7f7f7f\">experiment.py</span></a><span style=\"color: #7f7f7f\">:111</span>\n",
       "</pre>\n"
      ],
      "text/plain": [
       "<rich.jupyter.JupyterRenderable at 0x7f5002eb05b0>"
      ]
     },
     "metadata": {},
     "output_type": "display_data"
    },
    {
     "data": {
      "text/html": [
       "<pre style=\"white-space:pre;overflow-x:auto;line-height:normal;font-family:Menlo,'DejaVu Sans Mono',consolas,'Courier New',monospace\"><span style=\"color: #7fbfbf\">[13:50:45] </span>METRIC   Round <span style=\"color: #000080; font-weight: bold\">4</span>, collaborator env_3 train result train_loss:    <span style=\"color: #000080; font-weight: bold\">0.697382</span>                                                           <a href=\"file:///home/itrushkin/.virtualenvs/openfl/lib/python3.8/site-packages/openfl/interface/interactive_api/experiment.py\"><span style=\"color: #7f7f7f\">experiment.py</span></a><span style=\"color: #7f7f7f\">:111</span>\n",
       "</pre>\n"
      ],
      "text/plain": [
       "<rich.jupyter.JupyterRenderable at 0x7f5002eb0790>"
      ]
     },
     "metadata": {},
     "output_type": "display_data"
    },
    {
     "data": {
      "text/html": [
       "<pre style=\"white-space:pre;overflow-x:auto;line-height:normal;font-family:Menlo,'DejaVu Sans Mono',consolas,'Courier New',monospace\"><span style=\"color: #7fbfbf\">           </span>METRIC   Round <span style=\"color: #000080; font-weight: bold\">4</span>, collaborator env_7 train result train_loss:    <span style=\"color: #000080; font-weight: bold\">0.894615</span>                                                           <a href=\"file:///home/itrushkin/.virtualenvs/openfl/lib/python3.8/site-packages/openfl/interface/interactive_api/experiment.py\"><span style=\"color: #7f7f7f\">experiment.py</span></a><span style=\"color: #7f7f7f\">:111</span>\n",
       "</pre>\n"
      ],
      "text/plain": [
       "<rich.jupyter.JupyterRenderable at 0x7f5002eb08e0>"
      ]
     },
     "metadata": {},
     "output_type": "display_data"
    },
    {
     "data": {
      "text/html": [
       "<pre style=\"white-space:pre;overflow-x:auto;line-height:normal;font-family:Menlo,'DejaVu Sans Mono',consolas,'Courier New',monospace\"><span style=\"color: #7fbfbf\">           </span>METRIC   Round <span style=\"color: #000080; font-weight: bold\">4</span>, collaborator env_4 train result train_loss:    <span style=\"color: #000080; font-weight: bold\">0.678551</span>                                                           <a href=\"file:///home/itrushkin/.virtualenvs/openfl/lib/python3.8/site-packages/openfl/interface/interactive_api/experiment.py\"><span style=\"color: #7f7f7f\">experiment.py</span></a><span style=\"color: #7f7f7f\">:111</span>\n",
       "</pre>\n"
      ],
      "text/plain": [
       "<rich.jupyter.JupyterRenderable at 0x7f5002eb0580>"
      ]
     },
     "metadata": {},
     "output_type": "display_data"
    },
    {
     "data": {
      "text/html": [
       "<pre style=\"white-space:pre;overflow-x:auto;line-height:normal;font-family:Menlo,'DejaVu Sans Mono',consolas,'Courier New',monospace\"><span style=\"color: #7fbfbf\">           </span>METRIC   Round <span style=\"color: #000080; font-weight: bold\">4</span>, collaborator env_5 train result train_loss:    <span style=\"color: #000080; font-weight: bold\">0.168500</span>                                                           <a href=\"file:///home/itrushkin/.virtualenvs/openfl/lib/python3.8/site-packages/openfl/interface/interactive_api/experiment.py\"><span style=\"color: #7f7f7f\">experiment.py</span></a><span style=\"color: #7f7f7f\">:111</span>\n",
       "</pre>\n"
      ],
      "text/plain": [
       "<rich.jupyter.JupyterRenderable at 0x7f5002eb0220>"
      ]
     },
     "metadata": {},
     "output_type": "display_data"
    },
    {
     "data": {
      "text/html": [
       "<pre style=\"white-space:pre;overflow-x:auto;line-height:normal;font-family:Menlo,'DejaVu Sans Mono',consolas,'Courier New',monospace\"><span style=\"color: #7fbfbf\">[13:50:48] </span>METRIC   Round <span style=\"color: #000080; font-weight: bold\">4</span>, collaborator env_7 localy_tuned_model_validate result acc:     <span style=\"color: #000080; font-weight: bold\">0.192308</span>                                           <a href=\"file:///home/itrushkin/.virtualenvs/openfl/lib/python3.8/site-packages/openfl/interface/interactive_api/experiment.py\"><span style=\"color: #7f7f7f\">experiment.py</span></a><span style=\"color: #7f7f7f\">:111</span>\n",
       "</pre>\n"
      ],
      "text/plain": [
       "<rich.jupyter.JupyterRenderable at 0x7f5002eb0d90>"
      ]
     },
     "metadata": {},
     "output_type": "display_data"
    },
    {
     "data": {
      "text/html": [
       "<pre style=\"white-space:pre;overflow-x:auto;line-height:normal;font-family:Menlo,'DejaVu Sans Mono',consolas,'Courier New',monospace\"><span style=\"color: #7fbfbf\">           </span>METRIC   Round <span style=\"color: #000080; font-weight: bold\">4</span>, collaborator env_4 localy_tuned_model_validate result acc:     <span style=\"color: #000080; font-weight: bold\">0.090909</span>                                           <a href=\"file:///home/itrushkin/.virtualenvs/openfl/lib/python3.8/site-packages/openfl/interface/interactive_api/experiment.py\"><span style=\"color: #7f7f7f\">experiment.py</span></a><span style=\"color: #7f7f7f\">:111</span>\n",
       "</pre>\n"
      ],
      "text/plain": [
       "<rich.jupyter.JupyterRenderable at 0x7f5002eb05e0>"
      ]
     },
     "metadata": {},
     "output_type": "display_data"
    },
    {
     "data": {
      "text/html": [
       "<pre style=\"white-space:pre;overflow-x:auto;line-height:normal;font-family:Menlo,'DejaVu Sans Mono',consolas,'Courier New',monospace\"><span style=\"color: #7fbfbf\">[13:50:49] </span>METRIC   Round <span style=\"color: #000080; font-weight: bold\">4</span>, collaborator env_5 localy_tuned_model_validate result acc:     <span style=\"color: #000080; font-weight: bold\">0.148148</span>                                           <a href=\"file:///home/itrushkin/.virtualenvs/openfl/lib/python3.8/site-packages/openfl/interface/interactive_api/experiment.py\"><span style=\"color: #7f7f7f\">experiment.py</span></a><span style=\"color: #7f7f7f\">:111</span>\n",
       "</pre>\n"
      ],
      "text/plain": [
       "<rich.jupyter.JupyterRenderable at 0x7f5002eb0220>"
      ]
     },
     "metadata": {},
     "output_type": "display_data"
    },
    {
     "data": {
      "text/html": [
       "<pre style=\"white-space:pre;overflow-x:auto;line-height:normal;font-family:Menlo,'DejaVu Sans Mono',consolas,'Courier New',monospace\"><span style=\"color: #7fbfbf\">           </span>METRIC   Round <span style=\"color: #000080; font-weight: bold\">4</span>, collaborator env_3 localy_tuned_model_validate result acc:     <span style=\"color: #000080; font-weight: bold\">0.135135</span>                                           <a href=\"file:///home/itrushkin/.virtualenvs/openfl/lib/python3.8/site-packages/openfl/interface/interactive_api/experiment.py\"><span style=\"color: #7f7f7f\">experiment.py</span></a><span style=\"color: #7f7f7f\">:111</span>\n",
       "</pre>\n"
      ],
      "text/plain": [
       "<rich.jupyter.JupyterRenderable at 0x7f5002eb0700>"
      ]
     },
     "metadata": {},
     "output_type": "display_data"
    },
    {
     "data": {
      "text/html": [
       "<pre style=\"white-space:pre;overflow-x:auto;line-height:normal;font-family:Menlo,'DejaVu Sans Mono',consolas,'Courier New',monospace\"><span style=\"color: #7fbfbf\">[13:50:50] </span>METRIC   Round <span style=\"color: #000080; font-weight: bold\">4</span>, collaborator env_7 aggregated_model_validate result acc:       <span style=\"color: #000080; font-weight: bold\">0.230769</span>                                           <a href=\"file:///home/itrushkin/.virtualenvs/openfl/lib/python3.8/site-packages/openfl/interface/interactive_api/experiment.py\"><span style=\"color: #7f7f7f\">experiment.py</span></a><span style=\"color: #7f7f7f\">:111</span>\n",
       "</pre>\n"
      ],
      "text/plain": [
       "<rich.jupyter.JupyterRenderable at 0x7f5002eb0a60>"
      ]
     },
     "metadata": {},
     "output_type": "display_data"
    },
    {
     "data": {
      "text/html": [
       "<pre style=\"white-space:pre;overflow-x:auto;line-height:normal;font-family:Menlo,'DejaVu Sans Mono',consolas,'Courier New',monospace\"><span style=\"color: #7fbfbf\">[13:50:51] </span>METRIC   Round <span style=\"color: #000080; font-weight: bold\">4</span>, collaborator env_4 aggregated_model_validate result acc:       <span style=\"color: #000080; font-weight: bold\">0.090909</span>                                           <a href=\"file:///home/itrushkin/.virtualenvs/openfl/lib/python3.8/site-packages/openfl/interface/interactive_api/experiment.py\"><span style=\"color: #7f7f7f\">experiment.py</span></a><span style=\"color: #7f7f7f\">:111</span>\n",
       "</pre>\n"
      ],
      "text/plain": [
       "<rich.jupyter.JupyterRenderable at 0x7f5002eb0490>"
      ]
     },
     "metadata": {},
     "output_type": "display_data"
    },
    {
     "data": {
      "text/html": [
       "<pre style=\"white-space:pre;overflow-x:auto;line-height:normal;font-family:Menlo,'DejaVu Sans Mono',consolas,'Courier New',monospace\"><span style=\"color: #7fbfbf\">[13:50:52] </span>METRIC   Round <span style=\"color: #000080; font-weight: bold\">4</span>, collaborator env_5 aggregated_model_validate result acc:       <span style=\"color: #000080; font-weight: bold\">0.148148</span>                                           <a href=\"file:///home/itrushkin/.virtualenvs/openfl/lib/python3.8/site-packages/openfl/interface/interactive_api/experiment.py\"><span style=\"color: #7f7f7f\">experiment.py</span></a><span style=\"color: #7f7f7f\">:111</span>\n",
       "</pre>\n"
      ],
      "text/plain": [
       "<rich.jupyter.JupyterRenderable at 0x7f5002eb01c0>"
      ]
     },
     "metadata": {},
     "output_type": "display_data"
    },
    {
     "data": {
      "text/html": [
       "<pre style=\"white-space:pre;overflow-x:auto;line-height:normal;font-family:Menlo,'DejaVu Sans Mono',consolas,'Courier New',monospace\"><span style=\"color: #7fbfbf\">[13:50:53] </span>METRIC   Round <span style=\"color: #000080; font-weight: bold\">4</span>, collaborator env_3 aggregated_model_validate result acc:       <span style=\"color: #000080; font-weight: bold\">0.117117</span>                                           <a href=\"file:///home/itrushkin/.virtualenvs/openfl/lib/python3.8/site-packages/openfl/interface/interactive_api/experiment.py\"><span style=\"color: #7f7f7f\">experiment.py</span></a><span style=\"color: #7f7f7f\">:111</span>\n",
       "</pre>\n"
      ],
      "text/plain": [
       "<rich.jupyter.JupyterRenderable at 0x7f5002eb0be0>"
      ]
     },
     "metadata": {},
     "output_type": "display_data"
    },
    {
     "data": {
      "text/html": [
       "<pre style=\"white-space:pre;overflow-x:auto;line-height:normal;font-family:Menlo,'DejaVu Sans Mono',consolas,'Courier New',monospace\"><span style=\"color: #7fbfbf\">           </span>METRIC   Round <span style=\"color: #000080; font-weight: bold\">4</span>, collaborator Aggregator aggregated_model_validate result acc:  <span style=\"color: #000080; font-weight: bold\">0.135524</span>                                           <a href=\"file:///home/itrushkin/.virtualenvs/openfl/lib/python3.8/site-packages/openfl/interface/interactive_api/experiment.py\"><span style=\"color: #7f7f7f\">experiment.py</span></a><span style=\"color: #7f7f7f\">:111</span>\n",
       "</pre>\n"
      ],
      "text/plain": [
       "<rich.jupyter.JupyterRenderable at 0x7f5002eb0190>"
      ]
     },
     "metadata": {},
     "output_type": "display_data"
    },
    {
     "data": {
      "text/html": [
       "<pre style=\"white-space:pre;overflow-x:auto;line-height:normal;font-family:Menlo,'DejaVu Sans Mono',consolas,'Courier New',monospace\"><span style=\"color: #7fbfbf\">[13:50:58] </span>METRIC   Round <span style=\"color: #000080; font-weight: bold\">4</span>, collaborator Aggregator train result train_loss:       <span style=\"color: #000080; font-weight: bold\">1.037683</span>                                                   <a href=\"file:///home/itrushkin/.virtualenvs/openfl/lib/python3.8/site-packages/openfl/interface/interactive_api/experiment.py\"><span style=\"color: #7f7f7f\">experiment.py</span></a><span style=\"color: #7f7f7f\">:111</span>\n",
       "</pre>\n"
      ],
      "text/plain": [
       "<rich.jupyter.JupyterRenderable at 0x7f5002eb0970>"
      ]
     },
     "metadata": {},
     "output_type": "display_data"
    },
    {
     "data": {
      "text/html": [
       "<pre style=\"white-space:pre;overflow-x:auto;line-height:normal;font-family:Menlo,'DejaVu Sans Mono',consolas,'Courier New',monospace\"><span style=\"color: #7fbfbf\">           </span>METRIC   Round <span style=\"color: #000080; font-weight: bold\">4</span>, collaborator Aggregator localy_tuned_model_validate result acc:        <span style=\"color: #000080; font-weight: bold\">0.143737</span>                                   <a href=\"file:///home/itrushkin/.virtualenvs/openfl/lib/python3.8/site-packages/openfl/interface/interactive_api/experiment.py\"><span style=\"color: #7f7f7f\">experiment.py</span></a><span style=\"color: #7f7f7f\">:111</span>\n",
       "</pre>\n"
      ],
      "text/plain": [
       "<rich.jupyter.JupyterRenderable at 0x7f5002eb0520>"
      ]
     },
     "metadata": {},
     "output_type": "display_data"
    }
   ],
   "source": [
    "# If user want to stop IPython session, then reconnect and check how experiment is going\n",
    "# fl_experiment.restore_experiment_state(model_interface)\n",
    "\n",
    "fl_experiment.stream_metrics()"
   ]
  },
  {
   "cell_type": "code",
   "execution_count": null,
   "id": "74e5eacd",
   "metadata": {},
   "outputs": [],
   "source": []
  }
 ],
 "metadata": {
  "kernelspec": {
   "display_name": "Python 3 (ipykernel)",
   "language": "python",
   "name": "python3"
  },
  "language_info": {
   "codemirror_mode": {
    "name": "ipython",
    "version": 3
   },
   "file_extension": ".py",
   "mimetype": "text/x-python",
   "name": "python",
   "nbconvert_exporter": "python",
   "pygments_lexer": "ipython3",
   "version": "3.8.12"
  }
 },
 "nbformat": 4,
 "nbformat_minor": 5
}
